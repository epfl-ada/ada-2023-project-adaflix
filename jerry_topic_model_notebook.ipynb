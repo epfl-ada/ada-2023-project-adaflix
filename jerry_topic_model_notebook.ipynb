{
 "cells": [
  {
   "cell_type": "code",
   "execution_count": 4,
   "metadata": {},
   "outputs": [
    {
     "name": "stdout",
     "output_type": "stream",
     "text": [
      "Requirement already satisfied: nltk in c:\\users\\dell\\appdata\\roaming\\python\\python38\\site-packages (3.8.1)\n",
      "Requirement already satisfied: tqdm in d:\\anaconda\\lib\\site-packages (from nltk) (4.59.0)\n",
      "Requirement already satisfied: regex>=2021.8.3 in c:\\users\\dell\\appdata\\roaming\\python\\python38\\site-packages (from nltk) (2023.10.3)\n",
      "Requirement already satisfied: click in d:\\anaconda\\lib\\site-packages (from nltk) (7.1.2)\n",
      "Requirement already satisfied: joblib in d:\\anaconda\\lib\\site-packages (from nltk) (1.0.1)\n",
      "Requirement already satisfied: textblob in d:\\anaconda\\lib\\site-packages (0.17.1)\n",
      "Requirement already satisfied: nltk>=3.1 in c:\\users\\dell\\appdata\\roaming\\python\\python38\\site-packages (from textblob) (3.8.1)\n",
      "Requirement already satisfied: regex>=2021.8.3 in c:\\users\\dell\\appdata\\roaming\\python\\python38\\site-packages (from nltk>=3.1->textblob) (2023.10.3)\n",
      "Requirement already satisfied: click in d:\\anaconda\\lib\\site-packages (from nltk>=3.1->textblob) (7.1.2)\n",
      "Requirement already satisfied: joblib in d:\\anaconda\\lib\\site-packages (from nltk>=3.1->textblob) (1.0.1)\n",
      "Requirement already satisfied: tqdm in d:\\anaconda\\lib\\site-packages (from nltk>=3.1->textblob) (4.59.0)\n"
     ]
    },
    {
     "name": "stderr",
     "output_type": "stream",
     "text": [
      "[nltk_data] Downloading package punkt to\n",
      "[nltk_data]     C:\\Users\\DELL\\AppData\\Roaming\\nltk_data...\n",
      "[nltk_data]   Package punkt is already up-to-date!\n",
      "[nltk_data] Downloading package stopwords to\n",
      "[nltk_data]     C:\\Users\\DELL\\AppData\\Roaming\\nltk_data...\n",
      "[nltk_data]   Package stopwords is already up-to-date!\n"
     ]
    }
   ],
   "source": [
    "#imports, data folders and necessary requirements\n",
    "import pandas as pd\n",
    "import numpy as np\n",
    "import matplotlib as plt\n",
    "import matplotlib.pyplot as plt\n",
    "import seaborn as sn\n",
    "import ast\n",
    "\n",
    "import os\n",
    "import json\n",
    "from sklearn import preprocessing\n",
    "\n",
    "!pip install --user -U nltk\n",
    "import nltk\n",
    "from nltk.tokenize import word_tokenize\n",
    "from nltk.corpus import stopwords\n",
    "import string\n",
    "from nltk.sentiment import SentimentAnalyzer\n",
    "from nltk.classify import NaiveBayesClassifier\n",
    "from nltk.corpus import subjectivity\n",
    "from nltk.sentiment.util import *\n",
    "from sklearn.feature_extraction.text import CountVectorizer\n",
    "from sklearn.decomposition import LatentDirichletAllocation\n",
    "\n",
    "!pip install -U textblob\n",
    "from textblob import TextBlob\n",
    "\n",
    "nltk.download('punkt')\n",
    "nltk.download('stopwords')\n",
    "stop_words = set(stopwords.words('english'))\n",
    "stop_words.add(string.punctuation)\n",
    "\n",
    "PATH_FOLDER = \"MovieSummaries/\"\n"
   ]
  },
  {
   "cell_type": "markdown",
   "metadata": {},
   "source": [
    "# The first section: process summary_metadata\n",
    "### Credit goes to to Aziz for his codes\n",
    "### Codes come from Sentiment Analysis (summary_plot dataset)"
   ]
  },
  {
   "cell_type": "code",
   "execution_count": null,
   "metadata": {},
   "outputs": [],
   "source": [
    "#extract dataset and create a copy for later use\n",
    "summary_file_name = os.path.join(PATH_FOLDER, 'plot_summaries.txt')\n",
    "summary_metadata_original = pd.read_csv(summary_file_name,  sep=\"\\t\")\n",
    "summary_metadata_original.columns =[\"Movie ID\", \"Movie Summary\"]\n",
    "\n",
    "summary_metadata_original[\"Movie Summary\"] = summary_metadata_original[\"Movie Summary\"].astype(\"string\")\n",
    "\n",
    "summary_metadata = summary_metadata_original.copy()\n",
    "summary_metadata_original.shape"
   ]
  },
  {
   "cell_type": "code",
   "execution_count": null,
   "metadata": {},
   "outputs": [],
   "source": [
    "#Extract each column in a new Series variables\n",
    "Movie_IDs = summary_metadata[\"Movie ID\"].squeeze()\n",
    "Movie_Summaries = summary_metadata[\"Movie Summary\"].squeeze()\n",
    "\n",
    "#Check uniqueness of values in each Series variable\n",
    "print(Movie_IDs.duplicated().sum()) # contains 0 duplicate values\n",
    "print(Movie_Summaries.duplicated().sum()) # contains 8 duplicate values\n",
    "\n",
    "#Remove duplicate values\n",
    "summary_metadata = summary_metadata.drop_duplicates(\"Movie Summary\")\n",
    "print(summary_metadata.shape)"
   ]
  },
  {
   "cell_type": "code",
   "execution_count": null,
   "metadata": {},
   "outputs": [],
   "source": [
    "#function used to tokenize into dataframe columns into single words\n",
    "def tokenize(column):\n",
    "    \"\"\"Tokenizes a Pandas dataframe column and returns a list of tokens.\n",
    "\n",
    "    Args:\n",
    "        column: Pandas dataframe column.\n",
    "\n",
    "    Returns:\n",
    "        tokens (list): Tokenized list.\n",
    "    \"\"\"\n",
    "\n",
    "    tokens = nltk.word_tokenize(column)\n",
    "    return [w for w in tokens if w.isalpha()] "
   ]
  },
  {
   "cell_type": "code",
   "execution_count": null,
   "metadata": {},
   "outputs": [],
   "source": [
    "#add a column containing tokenized summaries\n",
    "summary_metadata['tokenized_summary'] = summary_metadata.apply(lambda x: tokenize(x['Movie Summary']), axis=1)\n",
    "\n",
    "summary_metadata"
   ]
  },
  {
   "cell_type": "code",
   "execution_count": null,
   "metadata": {},
   "outputs": [],
   "source": [
    "#filter the column containing tokenized text by deleting all stopwords\n",
    "summary_metadata['filtered_Tokens'] = summary_metadata['tokenized_summary'].apply(lambda tokens: [word for word in tokens if word.lower() not in stop_words])\n",
    "\n",
    "summary_metadata"
   ]
  },
  {
   "cell_type": "code",
   "execution_count": null,
   "metadata": {},
   "outputs": [],
   "source": [
    "# Export the summary metadata for temporary use.\n",
    "summary_metadata.to_csv(\"summary_metadata_topic_model.csv\",index=False)"
   ]
  },
  {
   "cell_type": "markdown",
   "metadata": {},
   "source": [
    "# The second section: Topic Modeling"
   ]
  },
  {
   "cell_type": "markdown",
   "metadata": {},
   "source": [
    "We apply Latent Dirichlet Allocation (LDA) for topic modeling on a set of movie summaries. It has revealed five distinct themes, each characterized by the top ten most significant words. The interpretation of these themes provides insights into the types of narratives and genres represented in the dataset:\n",
    "\n",
    "* Adventure Narratives (Topic 0): The key words such as \"tells,\" \"car,\" \"town,\" \"finds,\" and \"group\" can represent a group embarks on a journey about adventure and discovery, such as treasure hunts around a town.\n",
    "\n",
    "* Family Drama (Topic 1): The highlighted words like \"father,\" \"mother,\" \"family,\" and \"son\" can indicate stories about relationships and life of family members, including parental roles, family bonds, and teenage growth.\n",
    "\n",
    "* Children Animation (Topic 2): The mention of character names such as \"Tom\" and \"Jerry,\" combined with words like \"school\" and \"bugs,\" may suggest animated features targeted at children audience. These movies are likely to have comedic actions with animated characters that entertain children.\n",
    "\n",
    "* War Documentaries (Topic 3): The words such as \"war,\" \"killed,\" \"king,\" and \"army,\" imply historical or military-focused content. The movies in this category may show documentaries of historical events and causes and impacts of warfare.\n",
    "\n",
    "* Crime Thrillers (Topic 4): This theme could lie in crime and conflicts, as suggested by words like \"police,\" \"jack,\" \"john,\" and \"wife.\" It may involve police investigations and law enforcement with suspenseful and emotional plots."
   ]
  },
  {
   "cell_type": "code",
   "execution_count": 16,
   "metadata": {},
   "outputs": [
    {
     "data": {
      "text/html": [
       "<div>\n",
       "<style scoped>\n",
       "    .dataframe tbody tr th:only-of-type {\n",
       "        vertical-align: middle;\n",
       "    }\n",
       "\n",
       "    .dataframe tbody tr th {\n",
       "        vertical-align: top;\n",
       "    }\n",
       "\n",
       "    .dataframe thead th {\n",
       "        text-align: right;\n",
       "    }\n",
       "</style>\n",
       "<table border=\"1\" class=\"dataframe\">\n",
       "  <thead>\n",
       "    <tr style=\"text-align: right;\">\n",
       "      <th></th>\n",
       "      <th>Movie ID</th>\n",
       "      <th>Movie Summary</th>\n",
       "      <th>tokenized_summary</th>\n",
       "      <th>filtered_Tokens</th>\n",
       "    </tr>\n",
       "  </thead>\n",
       "  <tbody>\n",
       "    <tr>\n",
       "      <th>0</th>\n",
       "      <td>31186339</td>\n",
       "      <td>The nation of Panem consists of a wealthy Capi...</td>\n",
       "      <td>['The', 'nation', 'of', 'Panem', 'consists', '...</td>\n",
       "      <td>['nation', 'Panem', 'consists', 'wealthy', 'Ca...</td>\n",
       "    </tr>\n",
       "    <tr>\n",
       "      <th>1</th>\n",
       "      <td>20663735</td>\n",
       "      <td>Poovalli Induchoodan  is sentenced for six yea...</td>\n",
       "      <td>['Poovalli', 'Induchoodan', 'is', 'sentenced',...</td>\n",
       "      <td>['Poovalli', 'Induchoodan', 'sentenced', 'six'...</td>\n",
       "    </tr>\n",
       "    <tr>\n",
       "      <th>2</th>\n",
       "      <td>2231378</td>\n",
       "      <td>The Lemon Drop Kid , a New York City swindler,...</td>\n",
       "      <td>['The', 'Lemon', 'Drop', 'Kid', 'a', 'New', 'Y...</td>\n",
       "      <td>['Lemon', 'Drop', 'Kid', 'New', 'York', 'City'...</td>\n",
       "    </tr>\n",
       "    <tr>\n",
       "      <th>3</th>\n",
       "      <td>595909</td>\n",
       "      <td>Seventh-day Adventist Church pastor Michael Ch...</td>\n",
       "      <td>['Adventist', 'Church', 'pastor', 'Michael', '...</td>\n",
       "      <td>['Adventist', 'Church', 'pastor', 'Michael', '...</td>\n",
       "    </tr>\n",
       "    <tr>\n",
       "      <th>4</th>\n",
       "      <td>5272176</td>\n",
       "      <td>The president is on his way to give a speech. ...</td>\n",
       "      <td>['The', 'president', 'is', 'on', 'his', 'way',...</td>\n",
       "      <td>['president', 'way', 'give', 'speech', 'travel...</td>\n",
       "    </tr>\n",
       "  </tbody>\n",
       "</table>\n",
       "</div>"
      ],
      "text/plain": [
       "   Movie ID                                      Movie Summary  \\\n",
       "0  31186339  The nation of Panem consists of a wealthy Capi...   \n",
       "1  20663735  Poovalli Induchoodan  is sentenced for six yea...   \n",
       "2   2231378  The Lemon Drop Kid , a New York City swindler,...   \n",
       "3    595909  Seventh-day Adventist Church pastor Michael Ch...   \n",
       "4   5272176  The president is on his way to give a speech. ...   \n",
       "\n",
       "                                   tokenized_summary  \\\n",
       "0  ['The', 'nation', 'of', 'Panem', 'consists', '...   \n",
       "1  ['Poovalli', 'Induchoodan', 'is', 'sentenced',...   \n",
       "2  ['The', 'Lemon', 'Drop', 'Kid', 'a', 'New', 'Y...   \n",
       "3  ['Adventist', 'Church', 'pastor', 'Michael', '...   \n",
       "4  ['The', 'president', 'is', 'on', 'his', 'way',...   \n",
       "\n",
       "                                     filtered_Tokens  \n",
       "0  ['nation', 'Panem', 'consists', 'wealthy', 'Ca...  \n",
       "1  ['Poovalli', 'Induchoodan', 'sentenced', 'six'...  \n",
       "2  ['Lemon', 'Drop', 'Kid', 'New', 'York', 'City'...  \n",
       "3  ['Adventist', 'Church', 'pastor', 'Michael', '...  \n",
       "4  ['president', 'way', 'give', 'speech', 'travel...  "
      ]
     },
     "execution_count": 16,
     "metadata": {},
     "output_type": "execute_result"
    }
   ],
   "source": [
    "# Load the summary metadata file\n",
    "file_path = 'summary_metadata_topic_model.csv'\n",
    "summary_metadata_sample = pd.read_csv(file_path)\n",
    "\n",
    "# Preview\n",
    "summary_metadata_sample.head()"
   ]
  },
  {
   "cell_type": "code",
   "execution_count": 17,
   "metadata": {},
   "outputs": [
    {
     "name": "stdout",
     "output_type": "stream",
     "text": [
      "Topic 0:\n",
      "film man town tells car new later finds time group\n",
      "Topic 1:\n",
      "father love mother family life tells home house man son\n",
      "Topic 2:\n",
      "tom jerry sam house tells gets tries school bugs goes\n",
      "Topic 3:\n",
      "film war world new men time killed king army later\n",
      "Topic 4:\n",
      "police jack film john family man life father new wife\n"
     ]
    }
   ],
   "source": [
    "#### Use Latent Dirichlet Allocation (LDA) to identify topics ####\n",
    "\n",
    "# Convert string representations of lists back into lists\n",
    "summary_metadata_sample['filtered_Tokens'] = summary_metadata_sample['filtered_Tokens'].apply(ast.literal_eval)\n",
    "\n",
    "# Join the tokens back into strings for vectorization\n",
    "summary_metadata_sample['processed_summary'] = summary_metadata_sample['filtered_Tokens'].apply(lambda x: ' '.join(x))\n",
    "\n",
    "# Vectorization\n",
    "vectorizer = CountVectorizer(max_df=0.95, min_df=2, stop_words='english')\n",
    "dtm = vectorizer.fit_transform(summary_metadata_sample['processed_summary'])\n",
    "\n",
    "# LDA Model\n",
    "lda = LatentDirichletAllocation(n_components=5, max_iter=5, random_state=0)\n",
    "lda.fit(dtm)\n",
    "\n",
    "# Function to display topics\n",
    "def display_topics(model, feature_names, no_top_words):\n",
    "    for topic_idx, topic in enumerate(model.components_):\n",
    "        print(\"Topic %d:\" % (topic_idx))\n",
    "        print(\" \".join([feature_names[i] for i in topic.argsort()[:-no_top_words - 1:-1]]))\n",
    "\n",
    "# Set top 10 words from each topic will be shown\n",
    "no_top_words = 10\n",
    "\n",
    "# Check which method is available in the CountVectorizer instance\n",
    "if hasattr(vectorizer, 'get_feature_names_out'):\n",
    "    feature_names = vectorizer.get_feature_names_out()\n",
    "else:\n",
    "    feature_names = vectorizer.get_feature_names()\n",
    "\n",
    "# Display topics    \n",
    "display_topics(lda, feature_names, no_top_words)"
   ]
  },
  {
   "cell_type": "code",
   "execution_count": 22,
   "metadata": {},
   "outputs": [
    {
     "data": {
      "image/png": "[encoded data removed]",
      "text/plain": [
       "<Figure size 1800x720 with 5 Axes>"
      ]
     },
     "metadata": {
      "needs_background": "light"
     },
     "output_type": "display_data"
    }
   ],
   "source": [
    "#### Visualize the results ####\n",
    "\n",
    "# Function to plot top words for each topic\n",
    "\n",
    "def plot_top_words_final(model, feature_names, n_top_words, title):\n",
    "    n_topics = model.components_.shape[0]\n",
    "    fig, axes = plt.subplots(1, n_topics, figsize=(5 * n_topics, 10), sharex=True)\n",
    "\n",
    "    for topic_idx, topic in enumerate(model.components_):\n",
    "        top_features_ind = topic.argsort()[:-n_top_words - 1:-1]\n",
    "        top_features = [feature_names[i] for i in top_features_ind]\n",
    "        weights = topic[top_features_ind]\n",
    "\n",
    "        ax = axes[topic_idx]\n",
    "        ax.barh(top_features, weights, height=0.7)\n",
    "        ax.set_title(f'Topic {topic_idx + 1}', fontdict={'fontsize': 20})\n",
    "        ax.invert_yaxis()\n",
    "        ax.tick_params(axis='both', which='major', labelsize=15)\n",
    "        for i in 'top right left'.split():\n",
    "            ax.spines[i].set_visible(False)\n",
    "\n",
    "    plt.subplots_adjust(top=0.85, bottom=0.05, wspace=0.90, hspace=0.3)\n",
    "    fig.suptitle(title, fontsize=30)\n",
    "    plt.show()\n",
    "\n",
    "# Check which method is available in the CountVectorizer instance\n",
    "if hasattr(vectorizer, 'get_feature_names_out'):\n",
    "    feature_names = vectorizer.get_feature_names_out()\n",
    "else:\n",
    "    feature_names = vectorizer.get_feature_names()\n",
    "\n",
    "# Redefine n_top_words\n",
    "n_top_words = 10\n",
    "\n",
    "# Plot the top words for each topic\n",
    "plot_top_words_final(lda, feature_names, n_top_words, 'Topics in LDA model')\n"
   ]
  }
 ],
 "metadata": {
  "kernelspec": {
   "display_name": "base",
   "language": "python",
   "name": "python3"
  },
  "language_info": {
   "codemirror_mode": {
    "name": "ipython",
    "version": 3
   },
   "file_extension": ".py",
   "mimetype": "text/x-python",
   "name": "python",
   "nbconvert_exporter": "python",
   "pygments_lexer": "ipython3",
   "version": "3.8.8"
  }
 },
 "nbformat": 4,
 "nbformat_minor": 2
}
