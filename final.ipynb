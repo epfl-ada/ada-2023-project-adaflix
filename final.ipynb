{
 "cells": [
  {
   "cell_type": "markdown",
   "source": [
    "# Imports and loading"
   ],
   "metadata": {
    "collapsed": false
   }
  },
  {
   "cell_type": "code",
   "execution_count": null,
   "outputs": [],
   "source": [
    "import pandas as pd\n",
    "import numpy as np\n",
    "import matplotlib as plt\n",
    "import os\n",
    "import json\n",
    "from loads import *\n",
    "\n",
    "PATH_FOLDER = \"MovieSummaries/\""
   ],
   "metadata": {
    "collapsed": false
   }
  },
  {
   "cell_type": "code",
   "execution_count": null,
   "outputs": [],
   "source": [
    "# Loading character metadata DataFrame\n",
    "character_df = load_character_metadata()\n",
    "# Loading movie metadata DataFrame\n",
    "movie_df = load_movie_metadata()\n",
    "# Loading plot summaries DataFrame\n",
    "plot_summaries_df = load_plot_summaries()\n",
    "# Loading TVTropes DataFrame\n",
    "tvtropes_df = load_tvtropes()\n",
    "# Loading name clusters DataFrame\n",
    "name_clusters_df = load_name_clusters()\n",
    "# Loading inflation DataFrame\n",
    "inflation = pd.read_excel(\"external_dataset/inflation.xlsx\", header=11)"
   ],
   "metadata": {
    "collapsed": false
   }
  },
  {
   "cell_type": "markdown",
   "source": [
    "# Preprocessing"
   ],
   "metadata": {
    "collapsed": false
   }
  },
  {
   "cell_type": "markdown",
   "source": [
    "## CLEANING"
   ],
   "metadata": {
    "collapsed": false
   }
  },
  {
   "cell_type": "markdown",
   "source": [
    "#### MOVIE METADATA"
   ],
   "metadata": {
    "collapsed": false
   }
  },
  {
   "cell_type": "markdown",
   "source": [
    "Extract variables from (ID : variable) tuples"
   ],
   "metadata": {
    "collapsed": false
   }
  },
  {
   "cell_type": "code",
   "execution_count": null,
   "outputs": [],
   "source": [
    "movie_df['Movie Languages'] = movie_df['Movie languages (Freebase ID:name tuples)'].apply(lambda x: list(json.loads(x).values()))\n",
    "movie_df['Movie Countries'] = movie_df['Movie countries (Freebase ID:name tuples)'].apply(lambda x: list(json.loads(x).values()))\n",
    "movie_df['Movie Genres'] = movie_df['Movie genres (Freebase ID:name tuples)'].apply(lambda x: list(json.loads(x).values()))"
   ],
   "metadata": {
    "collapsed": false
   }
  },
  {
   "cell_type": "markdown",
   "source": [
    "Drop useless columns (IDs)"
   ],
   "metadata": {
    "collapsed": false
   }
  },
  {
   "cell_type": "code",
   "execution_count": null,
   "outputs": [],
   "source": [
    "movie_columns_to_drop = ['Movie languages (Freebase ID:name tuples)', 'Movie countries (Freebase ID:name tuples)','Movie genres (Freebase ID:name tuples)','Freebase movie ID']\n",
    "movie_df.drop(movie_columns_to_drop, axis=1, inplace=True)"
   ],
   "metadata": {
    "collapsed": false
   }
  },
  {
   "cell_type": "markdown",
   "source": [
    "Drop movies with missing (Nan) Box office revenue since it's our main interest"
   ],
   "metadata": {
    "collapsed": false
   }
  },
  {
   "cell_type": "code",
   "execution_count": null,
   "outputs": [],
   "source": [
    "movie_df.dropna(subset=['Movie box office revenue'], inplace=True)"
   ],
   "metadata": {
    "collapsed": false
   }
  },
  {
   "cell_type": "markdown",
   "source": [
    "Extracting Year and Month from the Movie release date (date format YYYY and YYYY-MM-DD can't be dealt together)"
   ],
   "metadata": {
    "collapsed": false
   }
  },
  {
   "cell_type": "code",
   "execution_count": null,
   "outputs": [],
   "source": [
    "movie_df.dropna(subset=[\"Movie release date\"], inplace=True)\n",
    "movie_df['Year'] = movie_df[\"Movie release date\"].apply(lambda x: str(x)[:4]).astype(int)\n",
    "movie_df['Month'] = pd.to_datetime(movie_df['Movie release date'],errors='coerce').dt.month"
   ],
   "metadata": {
    "collapsed": false
   }
  },
  {
   "cell_type": "markdown",
   "source": [
    "### Inflation"
   ],
   "metadata": {
    "collapsed": false
   }
  },
  {
   "cell_type": "code",
   "execution_count": null,
   "outputs": [],
   "source": [
    "inflation[\"Cumulative Inflation to 2022\"] = inflation.iloc[-1].Annual / inflation[\"Annual\"]\n",
    "movie_with_inflation = pd.merge(movie_df, inflation.drop(['Annual'], axis=1), on='Year')\n",
    "movie_with_inflation['Revenue with inflation'] = movie_with_inflation['Movie box office revenue'] * movie_with_inflation['Cumulative Inflation to 2022']"
   ],
   "metadata": {
    "collapsed": false
   }
  },
  {
   "cell_type": "markdown",
   "source": [
    "#### CHARACTER METADATA"
   ],
   "metadata": {
    "collapsed": false
   }
  },
  {
   "cell_type": "markdown",
   "source": [
    "Drop useless columns (IDs and actor height)"
   ],
   "metadata": {
    "collapsed": false
   }
  },
  {
   "cell_type": "code",
   "execution_count": null,
   "outputs": [],
   "source": [
    "character_columns_to_drop = ['Freebase movie ID', 'Actor ethnicity (Freebase ID)','Freebase character ID','Freebase actor ID','Actor height (in meters)']\n",
    "character_df.drop(character_columns_to_drop, axis=1, inplace=True)"
   ],
   "metadata": {
    "collapsed": false
   }
  },
  {
   "cell_type": "markdown",
   "source": [
    "## Splitting"
   ],
   "metadata": {
    "collapsed": false
   }
  },
  {
   "cell_type": "markdown",
   "source": [
    "Split the movie dataframe in many small different df for each feature. Each small df has one feature and 'Movie Box office revenue'"
   ],
   "metadata": {
    "collapsed": false
   }
  },
  {
   "cell_type": "code",
   "execution_count": null,
   "outputs": [],
   "source": [
    "movie_runtime_df = movie_df[['Movie runtime', 'Movie box office revenue']].copy()\n",
    "movie_languages_df = movie_df[['Movie Languages', 'Movie box office revenue']].copy()\n",
    "movie_countries_df = movie_df[['Movie Countries', 'Movie box office revenue']].copy()\n",
    "movie_genres_df = movie_df[['Movie Genres', 'Movie box office revenue']].copy()\n",
    "movie_release_date_df = movie_df[['Movie release date', 'Movie box office revenue']].copy()"
   ],
   "metadata": {
    "collapsed": false
   }
  },
  {
   "cell_type": "markdown",
   "source": [
    "Drop movies in each small dataframe, only for the missing values (Nan) of the concerned feature"
   ],
   "metadata": {
    "collapsed": false
   }
  },
  {
   "cell_type": "code",
   "execution_count": null,
   "outputs": [],
   "source": [
    "movie_runtime_df.dropna(subset=['Movie runtime'], inplace=True)\n",
    "movie_languages_df.dropna(subset=['Movie Languages'], inplace=True)\n",
    "movie_countries_df.dropna(subset=['Movie Countries'], inplace=True)\n",
    "movie_genres_df.dropna(subset=['Movie Genres'], inplace=True)\n",
    "movie_release_date_df.dropna(subset=[\"Movie release date\"], inplace=True)"
   ],
   "metadata": {
    "collapsed": false
   }
  },
  {
   "cell_type": "markdown",
   "source": [
    "Extracting Year and Month from the Movie release date (date format YYYY and YYYY-MM-DD can't be dealt together)"
   ],
   "metadata": {
    "collapsed": false
   }
  },
  {
   "cell_type": "code",
   "execution_count": null,
   "outputs": [],
   "source": [
    "movie_release_date_df['Year'] = movie_release_date_df[\"Movie release date\"].apply(lambda x: str(x)[:4]).astype(int)\n",
    "movie_release_date_df['Month'] = pd.to_datetime(movie_release_date_df['Movie release date'],errors='coerce').dt.month"
   ],
   "metadata": {
    "collapsed": false
   }
  },
  {
   "cell_type": "markdown",
   "source": [
    "New Year and Month feature df & erases nans"
   ],
   "metadata": {
    "collapsed": false
   }
  },
  {
   "cell_type": "code",
   "execution_count": null,
   "outputs": [],
   "source": [
    "years_df = movie_release_date_df[['Year','Movie box office revenue']].copy()\n",
    "months_df = movie_release_date_df[['Month','Movie box office revenue']].copy()\n",
    "years_df.dropna(subset=['Year'], inplace=True) #no nan but safer\n",
    "months_df.dropna(subset=['Month'], inplace=True)"
   ],
   "metadata": {
    "collapsed": false
   }
  },
  {
   "cell_type": "markdown",
   "source": [
    "je merge characters et movie"
   ],
   "metadata": {
    "collapsed": false
   }
  },
  {
   "cell_type": "code",
   "execution_count": null,
   "outputs": [],
   "source": [
    "character_movie_merged_df = pd.merge(character_df.drop(['Movie release date'],axis=1), movie_df, on=['Wikipedia movie ID'])\n"
   ],
   "metadata": {
    "collapsed": false
   }
  },
  {
   "cell_type": "code",
   "execution_count": null,
   "outputs": [],
   "source": [
    "character_movie_merged_df.head()"
   ],
   "metadata": {
    "collapsed": false
   }
  },
  {
   "cell_type": "markdown",
   "source": [
    "je split sur gender et pour ce faire je prends d'abord avec l'acteur pour drop les vrai duplicates"
   ],
   "metadata": {
    "collapsed": false
   }
  },
  {
   "cell_type": "code",
   "execution_count": null,
   "outputs": [],
   "source": [
    "actor_gender_df = character_movie_merged_df[['Actor gender','Actor name','Movie box office revenue']].copy()\n",
    "actor_gender_df.drop_duplicates()\n",
    "gender_df = actor_gender_df[['Actor gender','Movie box office revenue']].copy()\n",
    "gender_df.dropna(subset=['Actor gender'], inplace=True)"
   ],
   "metadata": {
    "collapsed": false
   }
  },
  {
   "cell_type": "code",
   "execution_count": null,
   "outputs": [],
   "source": [
    "actor_df = character_movie_merged_df[['Actor name','Actor age at movie release','Movie box office revenue']].copy()\n",
    "actor_df.dropna()"
   ],
   "metadata": {
    "collapsed": false
   }
  }
 ],
 "metadata": {
  "kernelspec": {
   "name": "conda-env-.conda-ada-py",
   "language": "python",
   "display_name": "Python [conda env:.conda-ada] *"
  },
  "language_info": {
   "codemirror_mode": {
    "name": "ipython",
    "version": 2
   },
   "file_extension": ".py",
   "mimetype": "text/x-python",
   "name": "python",
   "nbconvert_exporter": "python",
   "pygments_lexer": "ipython2",
   "version": "2.7.6"
  }
 },
 "nbformat": 4,
 "nbformat_minor": 0
}
