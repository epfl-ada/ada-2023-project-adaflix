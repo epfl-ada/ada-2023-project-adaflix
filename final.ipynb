{
 "cells": [
  {
   "cell_type": "markdown",
   "source": [],
   "metadata": {
    "collapsed": false
   }
  },
  {
   "cell_type": "markdown",
   "source": [
    "# AdaFlix Milestone 2"
   ],
   "metadata": {
    "collapsed": false
   }
  },
  {
   "cell_type": "markdown",
   "source": [
    "This notebook presents some preprocessing of our datasets, as well as an initial analysis of factors that contribute to a movie's financial success. In the first part of the notebook we clean the datasets and come up with features that will be used to perform a regression analysis. The analysis will tell us what the significant factors of a movie's financial success are."
   ],
   "metadata": {
    "collapsed": false
   }
  },
  {
   "cell_type": "markdown",
   "source": [
    "# Imports and loading"
   ],
   "metadata": {
    "collapsed": false
   }
  },
  {
   "cell_type": "code",
   "execution_count": null,
   "outputs": [],
   "source": [
    "import pandas as pd\n",
    "import numpy as np\n",
    "import matplotlib.pyplot as plt\n",
    "import os\n",
    "import json\n",
    "import statsmodels.api as sm\n",
    "import seaborn as sns\n",
    "from loads import *\n",
    "\n",
    "PATH_FOLDER = \"MovieSummaries/\""
   ],
   "metadata": {
    "collapsed": false
   }
  },
  {
   "cell_type": "code",
   "execution_count": null,
   "outputs": [],
   "source": [
    "# Loading character metadata DataFrame\n",
    "character_df = load_character_metadata()\n",
    "# Loading movie metadata DataFrame\n",
    "movie_df = load_movie_metadata()\n",
    "# Loading plot summaries DataFrame\n",
    "plot_summaries_df = load_plot_summaries()\n",
    "# Loading TVTropes DataFrame\n",
    "tvtropes_df = load_tvtropes()\n",
    "# Loading name clusters DataFrame\n",
    "name_clusters_df = load_name_clusters()\n",
    "# Loading inflation DataFrame\n",
    "inflation = pd.read_excel(\"external_dataset/inflation.xlsx\", header=11)"
   ],
   "metadata": {
    "collapsed": false
   }
  },
  {
   "cell_type": "markdown",
   "source": [
    "# Preprocessing"
   ],
   "metadata": {
    "collapsed": false
   }
  },
  {
   "cell_type": "markdown",
   "source": [
    "## CLEANING"
   ],
   "metadata": {
    "collapsed": false
   }
  },
  {
   "cell_type": "markdown",
   "source": [
    "#### MOVIE METADATA Cleaning"
   ],
   "metadata": {
    "collapsed": false
   }
  },
  {
   "cell_type": "markdown",
   "source": [
    "We are first extracting variables that have the form (ID : variable) tuples to be able to use these features."
   ],
   "metadata": {
    "collapsed": false
   }
  },
  {
   "cell_type": "code",
   "execution_count": null,
   "outputs": [],
   "source": [
    "# Extracting and transforming the 'Movie languages (Freebase ID:name tuples)' column\n",
    "# Applying a lambda function to convert the JSON-like string to a list of language names\n",
    "movie_df['Movie Languages'] = movie_df['Movie languages (Freebase ID:name tuples)'].apply(lambda x: list(json.loads(x).values()))\n",
    "# Extracting and transforming the 'Movie countries (Freebase ID:name tuples)' column\n",
    "# Applying a lambda function to convert the JSON-like string to a list of country names\n",
    "movie_df['Movie Countries'] = movie_df['Movie countries (Freebase ID:name tuples)'].apply(lambda x: list(json.loads(x).values()))\n",
    "# Extracting and transforming the 'Movie genres (Freebase ID:name tuples)' column\n",
    "# Applying a lambda function to convert the JSON-like string to a list of genre names\n",
    "movie_df['Movie Genres'] = movie_df['Movie genres (Freebase ID:name tuples)'].apply(lambda x: list(json.loads(x).values()))"
   ],
   "metadata": {
    "collapsed": false
   }
  },
  {
   "cell_type": "markdown",
   "source": [
    "A lot of columns in the dataframe contain IDs that we don't need, we are thus, dropping them."
   ],
   "metadata": {
    "collapsed": false
   }
  },
  {
   "cell_type": "code",
   "execution_count": null,
   "outputs": [],
   "source": [
    "# List of columns to be dropped from the DataFrame\n",
    "movie_columns_to_drop = ['Movie languages (Freebase ID:name tuples)', 'Movie countries (Freebase ID:name tuples)','Movie genres (Freebase ID:name tuples)','Freebase movie ID']\n",
    "# Dropping specified columns from the DataFrame\n",
    "movie_df.drop(movie_columns_to_drop, axis=1, inplace=True)"
   ],
   "metadata": {
    "collapsed": false
   }
  },
  {
   "cell_type": "markdown",
   "source": [
    "Our main interest is to see what features result in higher boxe office revenues, so we need to drop movies with missing revenue (Nan)."
   ],
   "metadata": {
    "collapsed": false
   }
  },
  {
   "cell_type": "code",
   "execution_count": null,
   "outputs": [],
   "source": [
    "# Dropping rows from the DataFrame where 'Movie box office revenue' is NaN\n",
    "movie_df.dropna(subset=['Movie box office revenue'], inplace=True)"
   ],
   "metadata": {
    "collapsed": false
   }
  },
  {
   "cell_type": "markdown",
   "source": [
    "One of our feature of interest is the release date of the movies. We are thus, processing the column, for it to be usable in our analysis. We extract Year and Month from the Movie release date (date format YYYY and YYYY-MM-DD can't be dealt together)."
   ],
   "metadata": {
    "collapsed": false
   }
  },
  {
   "cell_type": "code",
   "execution_count": null,
   "outputs": [],
   "source": [
    "# Dropping rows where 'Movie release date' is NaN\n",
    "movie_df.dropna(subset=[\"Movie release date\"], inplace=True)\n",
    "# Create a Year column in the movie dataframe\n",
    "movie_df['Year'] = movie_df[\"Movie release date\"].apply(lambda x: str(x)[:4]).astype(int)\n",
    "# Create a Month column in the movie dataframe\n",
    "movie_df['Month'] = pd.to_datetime(movie_df['Movie release date'],errors='coerce').dt.month"
   ],
   "metadata": {
    "collapsed": false
   }
  },
  {
   "cell_type": "markdown",
   "source": [
    "### Inflation"
   ],
   "metadata": {
    "collapsed": false
   }
  },
  {
   "cell_type": "markdown",
   "source": [
    "To be able to compare the the relative box office revenues across different years, we need to take inflation into account."
   ],
   "metadata": {
    "collapsed": false
   }
  },
  {
   "cell_type": "code",
   "execution_count": null,
   "outputs": [],
   "source": [
    "# Calculate cumulative inflation to 2022 using the last available annual inflation rate\n",
    "inflation[\"Cumulative Inflation to 2022\"] = inflation.iloc[-1].Annual / inflation[\"Annual\"]\n",
    "# Merge the movie DataFrame with the inflation DataFrame on the 'Year' column\n",
    "movie_with_inflation = pd.merge(movie_df, inflation, on='Year')\n",
    "# Calculate revenue with inflation by multiplying 'Movie box office revenue' with the 'Cumulative Inflation to 2022'\n",
    "movie_with_inflation['Revenue with inflation'] = movie_with_inflation['Movie box office revenue'] * movie_with_inflation['Cumulative Inflation to 2022']\n",
    "movie_with_inflation.drop(['Cumulative Inflation to 2022', 'Annual'], axis=1, inplace=True)"
   ],
   "metadata": {
    "collapsed": false
   }
  },
  {
   "cell_type": "code",
   "execution_count": null,
   "outputs": [],
   "source": [
    "fig, (ax1, ax2) = plt.subplots(1, 2, figsize=(12, 6))  # 1 row, 2 columns\n",
    "\n",
    "# Plot for Revenue without inflation\n",
    "ax1.scatter(movie_with_inflation['Year'], movie_with_inflation['Movie box office revenue'], label='Revenue without inflation')\n",
    "ax1.set_xlabel('Year')\n",
    "ax1.set_ylabel('Revenue without inflation')\n",
    "ax1.legend()\n",
    "\n",
    "# Plot for Revenue with inflation\n",
    "ax2.scatter(movie_with_inflation['Year'], movie_with_inflation['Revenue with inflation'], label='Revenue with inflation')\n",
    "ax2.set_xlabel('Year')\n",
    "ax2.set_ylabel('Revenue with inflation')\n",
    "ax2.legend()\n",
    "\n",
    "# Adjust layout\n",
    "plt.tight_layout()\n",
    "\n",
    "# Show the plot\n",
    "plt.show()"
   ],
   "metadata": {
    "collapsed": false
   }
  },
  {
   "cell_type": "markdown",
   "source": [
    "The original distribution of the inflated movie box office revenue exhibits a heavy-tailed pattern, with a few movies achieving extremely high revenues. By applying a logarithmic transformation on the x-axis, we approximate a \"more\" normal distribution, making the data more amenable to statistical analyses that assume normality."
   ],
   "metadata": {
    "collapsed": false
   }
  },
  {
   "cell_type": "code",
   "execution_count": null,
   "outputs": [],
   "source": [
    "fig, axs = plt.subplots(1, 2, figsize=(10, 6))\n",
    "\n",
    "# Plotting the original distribution and the distribution after applying log function on the revenue feature\n",
    "movie_with_inflation['Revenue with inflation'].hist(ax=axs[0], bins=100, color='blue', edgecolor='black')\n",
    "movie_with_inflation['log_revenues'] = np.log(movie_with_inflation['Revenue with inflation'])\n",
    "movie_with_inflation['log_revenues'].hist(ax=axs[1], bins=100, color='blue', edgecolor='black')\n",
    "axs[0].set_title('Distribution of Box Office Revenue with inflation')\n",
    "axs[0].set_xlabel('Inflated Box Office Revenue')\n",
    "axs[0].set_ylabel('Number of movies')\n",
    "axs[1].set_title('Distribution of log(Box Office Revenue with inflation)')\n",
    "axs[1].set_xlabel('Log inflated Box Office Revenue')\n",
    "axs[1].set_ylabel('Number of movies')"
   ],
   "metadata": {
    "collapsed": false
   }
  },
  {
   "cell_type": "markdown",
   "source": [
    "#### CHARACTER METADATA Cleaning"
   ],
   "metadata": {
    "collapsed": false
   }
  },
  {
   "cell_type": "markdown",
   "source": [
    "Again, a lot of columns in the dataframe contain IDs that we don't need, as well as actors' heights, we are thus, dropping them."
   ],
   "metadata": {
    "collapsed": false
   }
  },
  {
   "cell_type": "code",
   "execution_count": null,
   "outputs": [],
   "source": [
    "# Dropping unnecessary character-related columns from the DataFrame\n",
    "character_columns_to_drop = ['Freebase movie ID', 'Actor ethnicity (Freebase ID)','Freebase character ID','Freebase actor ID','Actor height (in meters)']\n",
    "character_df.drop(character_columns_to_drop, axis=1, inplace=True)"
   ],
   "metadata": {
    "collapsed": false
   }
  },
  {
   "cell_type": "markdown",
   "source": [
    "## Splitting"
   ],
   "metadata": {
    "collapsed": false
   }
  },
  {
   "cell_type": "markdown",
   "source": [
    "We are now splitting the dataframes into many small different dataframes for each feature. Each small df has one feature and 'log_revenues'. These small dataframes are created for the analysis to be easier."
   ],
   "metadata": {
    "collapsed": false
   }
  },
  {
   "cell_type": "code",
   "execution_count": null,
   "outputs": [],
   "source": [
    "# Extracting 'Movie runtime' and 'log_revenues' columns into a new dataframe\n",
    "movie_runtime_df = movie_with_inflation[['Movie runtime', 'log_revenues']].copy()\n",
    "# Extracting 'Movie Languages' and 'log_revenues' columns into a new dataframe\n",
    "movie_languages_df = movie_with_inflation[['Movie Languages', 'log_revenues']].copy()\n",
    "# Extracting 'Movie Countries' and 'log_revenues' columns into a new dataframe\n",
    "movie_countries_df = movie_with_inflation[['Movie Countries', 'log_revenues']].copy()\n",
    "# Extracting 'Movie Genres' and 'log_revenues' columns into a new dataframe\n",
    "movie_genres_df = movie_with_inflation[['Movie Genres', 'log_revenues']].copy()\n",
    "# Extracting 'Month' and 'log_revenues' columns into a new dataframe\n",
    "months_df = movie_with_inflation[['Month', 'log_revenues']].copy()\n",
    "# Extracting 'Year' and 'log_revenues' columns into a new dataframe\n",
    "years_df = movie_with_inflation[['Year', 'log_revenues']].copy()"
   ],
   "metadata": {
    "collapsed": false
   }
  },
  {
   "cell_type": "markdown",
   "source": [
    "Drop movies in each small dataframe, only for the missing values (Nan) of the concerned feature"
   ],
   "metadata": {
    "collapsed": false
   }
  },
  {
   "cell_type": "code",
   "execution_count": null,
   "outputs": [],
   "source": [
    "# Drop NaNs in each small dataframes\n",
    "movie_runtime_df.dropna(subset=['Movie runtime'], inplace=True)\n",
    "movie_languages_df.dropna(subset=['Movie Languages'], inplace=True)\n",
    "movie_countries_df.dropna(subset=['Movie Countries'], inplace=True)\n",
    "movie_genres_df.dropna(subset=['Movie Genres'], inplace=True)\n",
    "years_df.dropna(subset=['Year'], inplace=True) #no nan but safer\n",
    "months_df.dropna(subset=['Month'], inplace=True)"
   ],
   "metadata": {
    "collapsed": false
   }
  },
  {
   "cell_type": "markdown",
   "source": [
    "We then need to merge character and movie dataframes, to be able to extract information on actors and their impact on box office revenues"
   ],
   "metadata": {
    "collapsed": false
   }
  },
  {
   "cell_type": "code",
   "execution_count": null,
   "outputs": [],
   "source": [
    "# Merging character_df and movie_with_inflation DataFrames on 'Wikipedia movie ID'\n",
    "# Dropping the 'Movie release date' column from character_df to avoid duplicate columns after the merge\n",
    "character_movie_merged_df = pd.merge(character_df.drop(['Movie release date'],axis=1), movie_with_inflation, on=['Wikipedia movie ID'])\n"
   ],
   "metadata": {
    "collapsed": false
   }
  },
  {
   "cell_type": "markdown",
   "source": [
    "One of our feature will be the percentage of women actresses in movies, so we need to get this information"
   ],
   "metadata": {
    "collapsed": false
   }
  },
  {
   "cell_type": "code",
   "execution_count": null,
   "outputs": [],
   "source": [
    "# Create a new DataFrame containing relevant columns from the original DataFrame\n",
    "actor_gender_movie_df = character_movie_merged_df[['Movie name','log_revenues','Actor name','Actor gender']].copy()\n",
    "# Drop rows with missing values\n",
    "actor_gender_movie_df.dropna(inplace=True)\n",
    "# Compute percentage of women in each movies\n",
    "actor_gender_movie_df['Percentage Women'] = (actor_gender_movie_df.groupby('Movie name')['Actor gender']\n",
    "                                              .transform(lambda x: (x == 'F').mean() * 100)\n",
    "                                              .fillna(0)  # Fill NaN with 0\n",
    "                                              .astype(int)  # Ensure the column is of int type\n",
    "                                             )"
   ],
   "metadata": {
    "collapsed": false
   }
  },
  {
   "cell_type": "code",
   "execution_count": null,
   "outputs": [],
   "source": [
    "# Creating a DataFrame with actor gender, actor name, and log_revenues from the merged DataFrame\n",
    "actor_gender_df = actor_gender_movie_df[['Percentage Women','Actor name','log_revenues']].copy()\n",
    "# Removing duplicate rows from actor_gender_df based on all columns\n",
    "actor_gender_df.drop_duplicates()\n",
    "# Creating a new DataFrame with percentage women and log_revenues, dropping rows with missing percentage women\n",
    "gender_df = actor_gender_df[['Percentage Women','log_revenues']].copy()\n",
    "gender_df.dropna(subset=['Percentage Women'], inplace=True)"
   ],
   "metadata": {
    "collapsed": false
   }
  },
  {
   "cell_type": "code",
   "execution_count": null,
   "outputs": [],
   "source": [
    "# Creating a DataFrame with actor name, actor age at movie release, and log_revenues from the merged DataFrame\n",
    "actor_df = character_movie_merged_df[['Actor name','Actor age at movie release','log_revenues']].copy()\n",
    "actor_df.dropna()"
   ],
   "metadata": {
    "collapsed": false
   }
  },
  {
   "cell_type": "markdown",
   "source": [
    "## Quantization"
   ],
   "metadata": {
    "collapsed": false
   }
  },
  {
   "cell_type": "markdown",
   "source": [
    "In this section we transform runtimes, female percentages and years into categories to be able to run a regression analysis with categorical features. For example, if the female percentage of movie x is 23%, it will be associated to the interval [20%,30%]. Similarly, if the movie runtime of movie x is 123 minutes, it will be associated to the interval [100min,130min]."
   ],
   "metadata": {
    "collapsed": false
   }
  },
  {
   "cell_type": "code",
   "execution_count": null,
   "outputs": [],
   "source": [
    "# Calculate the minimum and maximum years in the 'Year' column\n",
    "min_year = movie_with_inflation['Year'].min()\n",
    "max_year = movie_with_inflation['Year'].max()\n",
    "\n",
    "# Create intervals of 10 years and assign labels based on the minimum and maximum years\n",
    "movie_with_inflation['year_intervals'] = pd.cut(movie_with_inflation['Year'],\n",
    "                                    bins=range(min_year, max_year + 11, 10),  # Define bins for 10-year intervals\n",
    "                                    labels=[f\"{start}-{start + 9}\" for start in range(min_year, max_year, 10)],  # Create labels for intervals\n",
    "                                    include_lowest=True)  # Include the lowest value in the interval\n",
    "\n",
    "# The 'year_intervals' column now contains the corresponding interval for each year"
   ],
   "metadata": {
    "collapsed": false
   }
  },
  {
   "cell_type": "code",
   "execution_count": null,
   "outputs": [],
   "source": [
    "# Cast 'Movie runtime' to integers\n",
    "movie_with_inflation.dropna(subset=['Movie runtime'], inplace=True)\n",
    "movie_with_inflation['Movie runtime'] = movie_with_inflation['Movie runtime'].astype(int)\n",
    "\n",
    "# Calculate the minimum and maximum runtimes in the 'Movie runtime' column\n",
    "min_runtime = movie_with_inflation['Movie runtime'].min()\n",
    "max_runtime = movie_with_inflation['Movie runtime'].max()\n",
    "\n",
    "# Create intervals of 30 for runtimes until 220, and a separate interval for values greater than 220 but smaller than the maximum runtime\n",
    "runtime_bins = [i for i in range(min_runtime, min(max_runtime, 221), 30)] + [float('inf')]\n",
    "\n",
    "# Create labels for the runtime intervals\n",
    "runtime_labels = [f\"{start}-{start + 29}\" if start + 29 < min(max_runtime, 220) else f\"{min(max_runtime, 220)+1}-{max_runtime}\" for start in range(min_runtime, min(max_runtime, 221), 30)]\n",
    "\n",
    "# Assign the intervals to the 'Movie runtime' column\n",
    "movie_with_inflation['runtime_intervals'] = pd.cut(movie_with_inflation['Movie runtime'],\n",
    "                                       bins=runtime_bins,\n",
    "                                       labels=runtime_labels,\n",
    "                                       include_lowest=True)\n",
    "\n",
    "# The 'runtime_intervals' column now contains the corresponding interval for each runtime"
   ],
   "metadata": {
    "collapsed": false
   }
  },
  {
   "cell_type": "code",
   "execution_count": null,
   "outputs": [],
   "source": [
    "# Create intervals of size 10 for the 'Percentage Women' column\n",
    "gender_df['Percentage Women Intervals'] = pd.cut(gender_df['Percentage Women'],\n",
    "                                                             bins=range(0, 101, 10),\n",
    "                                                             labels=[f\"{start}-{start + 9}\" for start in range(0, 100, 10)],\n",
    "                                                             include_lowest=True)"
   ],
   "metadata": {
    "collapsed": false
   }
  },
  {
   "cell_type": "code",
   "execution_count": null,
   "outputs": [],
   "source": [
    "def disagregate_list_feature(df, feature_name):\n",
    "    #Create new df\n",
    "    result_df = df.copy()\n",
    "    # Step 1: Get the unique set of languages\n",
    "    unique_features = set(feature for features in result_df[feature_name] for feature in features)\n",
    "\n",
    "    # Step 2: Create binary columns for each language\n",
    "    for feature in unique_features:\n",
    "        result_df[feature] = result_df[feature_name].apply(lambda x: feature in x)\n",
    "\n",
    "    # Step 3: Drop the original 'Languages' column\n",
    "    result_df.drop(feature_name, axis=1, inplace=True)\n",
    "\n",
    "    # Resulting DataFrame\n",
    "    return result_df\n"
   ],
   "metadata": {
    "collapsed": false
   }
  },
  {
   "cell_type": "code",
   "execution_count": null,
   "outputs": [],
   "source": [
    "def regression_analysis(df, revenue_string):\n",
    "    X = df.drop([revenue_string], axis=1)\n",
    "    y = df[revenue_string]\n",
    "\n",
    "    X = X.astype(int)\n",
    "\n",
    "    X = sm.add_constant(X)\n",
    "\n",
    "\n",
    "    model = sm.OLS(y, X).fit()\n",
    "\n",
    "    print(model.summary())\n",
    "    return model\n",
    "\n",
    "def display_regression_result(model):\n",
    "    # Extract coefficients and corresponding character names\n",
    "    coefficients = model.params[1:]  # Exclude the intercept\n",
    "    feature = coefficients.index\n",
    "    p_values = model.pvalues[1:]\n",
    "    # Create a DataFrame to store coefficients and character names\n",
    "    coefficients_df = pd.DataFrame({'Feature': feature, 'Coefficient': coefficients, 'p-value': p_values})\n",
    "    #print lines of 10 best and worst coefficients\n",
    "    print('Top 10 more successful features with coefficients and p-values:')\n",
    "    print(coefficients_df.sort_values(by='Coefficient', ascending=False).head(10))\n",
    "    print('Top 10 more successful features with coefficients and p-values:')\n",
    "    print(coefficients_df.sort_values(by='Coefficient', ascending=False).tail(10))\n"
   ],
   "metadata": {
    "collapsed": false
   }
  },
  {
   "cell_type": "markdown",
   "source": [
    "# Data analysis"
   ],
   "metadata": {
    "collapsed": false
   }
  },
  {
   "cell_type": "markdown",
   "source": [
    "We know have everything in place to perform our analysis. We will start by running a regression analysis on our features to see what are the characteristics of movies that give best box office revenues."
   ],
   "metadata": {
    "collapsed": false
   }
  },
  {
   "cell_type": "markdown",
   "source": [
    "#### Movie genre"
   ],
   "metadata": {
    "collapsed": false
   }
  },
  {
   "cell_type": "code",
   "execution_count": null,
   "outputs": [],
   "source": [
    "movie_genres_reg_df = disagregate_list_feature(movie_genres_df, 'Movie Genres')"
   ],
   "metadata": {
    "collapsed": false
   }
  },
  {
   "cell_type": "code",
   "execution_count": null,
   "outputs": [],
   "source": [
    "model = regression_analysis(movie_genres_reg_df, 'log_revenues')"
   ],
   "metadata": {
    "collapsed": false
   }
  },
  {
   "cell_type": "code",
   "execution_count": null,
   "outputs": [],
   "source": [
    "display_regression_result(model)"
   ],
   "metadata": {
    "collapsed": false
   }
  },
  {
   "cell_type": "markdown",
   "source": [
    "#### Movie countries"
   ],
   "metadata": {
    "collapsed": false
   }
  },
  {
   "cell_type": "code",
   "execution_count": null,
   "outputs": [],
   "source": [
    "movie_countries_reg_df = disagregate_list_feature(movie_countries_df, 'Movie Countries')"
   ],
   "metadata": {
    "collapsed": false
   }
  },
  {
   "cell_type": "code",
   "execution_count": null,
   "outputs": [],
   "source": [
    "model = regression_analysis(movie_countries_reg_df, 'log_revenues')"
   ],
   "metadata": {
    "collapsed": false
   }
  },
  {
   "cell_type": "code",
   "execution_count": null,
   "outputs": [],
   "source": [
    "display_regression_result(model)"
   ],
   "metadata": {
    "collapsed": false
   }
  },
  {
   "cell_type": "markdown",
   "source": [
    "#### Movie languages"
   ],
   "metadata": {
    "collapsed": false
   }
  },
  {
   "cell_type": "code",
   "execution_count": null,
   "outputs": [],
   "source": [
    "movie_languages_reg_df = disagregate_list_feature(movie_languages_df, 'Movie Languages')"
   ],
   "metadata": {
    "collapsed": false
   }
  },
  {
   "cell_type": "code",
   "execution_count": null,
   "outputs": [],
   "source": [
    "model = regression_analysis(movie_languages_reg_df, 'log_revenues')"
   ],
   "metadata": {
    "collapsed": false
   }
  },
  {
   "cell_type": "code",
   "execution_count": null,
   "outputs": [],
   "source": [
    "display_regression_result(model)"
   ],
   "metadata": {
    "collapsed": false
   }
  },
  {
   "cell_type": "markdown",
   "source": [
    "# Soup regression formula (in progress)"
   ],
   "metadata": {
    "collapsed": false
   }
  },
  {
   "cell_type": "code",
   "execution_count": null,
   "outputs": [],
   "source": [
    "movie_with_inflation"
   ],
   "metadata": {
    "collapsed": false
   }
  },
  {
   "cell_type": "code",
   "execution_count": null,
   "outputs": [],
   "source": [
    "formula_df = movie_with_inflation.copy()\n",
    "formula_df = disagregate_list_feature(formula_df, 'Movie Languages')\n",
    "formula_df = disagregate_list_feature(formula_df, 'Movie Countries')\n",
    "formula_df = disagregate_list_feature(formula_df, 'Movie Genres')"
   ],
   "metadata": {
    "collapsed": false
   }
  },
  {
   "cell_type": "code",
   "execution_count": null,
   "outputs": [],
   "source": [
    "formula_df.drop(['Wikipedia movie ID', 'Movie name', 'Movie release date', 'Movie box office revenue', 'Year', 'Movie runtime', 'Revenue with inflation'], axis=1, inplace=True)\n",
    "formula_df"
   ],
   "metadata": {
    "collapsed": false
   }
  },
  {
   "cell_type": "code",
   "execution_count": null,
   "outputs": [],
   "source": [
    "formula_df = pd.get_dummies(formula_df, columns=['Month', 'year_intervals', 'runtime_intervals'])\n",
    "formula_df"
   ],
   "metadata": {
    "collapsed": false
   }
  },
  {
   "cell_type": "code",
   "execution_count": null,
   "outputs": [],
   "source": [
    "model = regression_analysis(formula_df, 'log_revenues')"
   ],
   "metadata": {
    "collapsed": false
   }
  }
 ],
 "metadata": {
  "kernelspec": {
   "name": "conda-env-.conda-ada-py",
   "language": "python",
   "display_name": "Python [conda env:.conda-ada] *"
  },
  "language_info": {
   "codemirror_mode": {
    "name": "ipython",
    "version": 2
   },
   "file_extension": ".py",
   "mimetype": "text/x-python",
   "name": "python",
   "nbconvert_exporter": "python",
   "pygments_lexer": "ipython2",
   "version": "2.7.6"
  }
 },
 "nbformat": 4,
 "nbformat_minor": 0
}
