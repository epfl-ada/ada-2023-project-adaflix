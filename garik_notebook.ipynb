{
 "cells": [
  {
   "cell_type": "markdown",
   "metadata": {},
   "source": [
    "# AdaFlix Milestone 2"
   ]
  },
  {
   "cell_type": "markdown",
   "metadata": {},
   "source": [
    "This notebook presents some preprocessing of our datasets, as well as an initial analysis of factors that contribute to a movie's financial success. In the first part of the notebook we clean the datasets and come up with features that will be used to perform some statistical analysis. The analysis will tell us what the significant factors of a movie's financial success are."
   ]
  },
  {
   "cell_type": "markdown",
   "metadata": {},
   "source": [
    "# Imports, loading and downloads"
   ]
  },
  {
   "cell_type": "code",
   "execution_count": 1,
   "metadata": {},
   "outputs": [
    {
     "name": "stdout",
     "output_type": "stream",
     "text": [
      "Requirement already satisfied: spacy in c:\\users\\41794\\anaconda3\\envs\\ada\\lib\\site-packages (3.7.2)\n",
      "Requirement already satisfied: spacy-legacy<3.1.0,>=3.0.11 in c:\\users\\41794\\anaconda3\\envs\\ada\\lib\\site-packages (from spacy) (3.0.12)\n",
      "Requirement already satisfied: spacy-loggers<2.0.0,>=1.0.0 in c:\\users\\41794\\anaconda3\\envs\\ada\\lib\\site-packages (from spacy) (1.0.5)\n",
      "Requirement already satisfied: murmurhash<1.1.0,>=0.28.0 in c:\\users\\41794\\anaconda3\\envs\\ada\\lib\\site-packages (from spacy) (1.0.10)\n",
      "Requirement already satisfied: cymem<2.1.0,>=2.0.2 in c:\\users\\41794\\anaconda3\\envs\\ada\\lib\\site-packages (from spacy) (2.0.8)\n",
      "Requirement already satisfied: preshed<3.1.0,>=3.0.2 in c:\\users\\41794\\anaconda3\\envs\\ada\\lib\\site-packages (from spacy) (3.0.9)\n",
      "Requirement already satisfied: thinc<8.3.0,>=8.1.8 in c:\\users\\41794\\anaconda3\\envs\\ada\\lib\\site-packages (from spacy) (8.2.1)\n",
      "Requirement already satisfied: wasabi<1.2.0,>=0.9.1 in c:\\users\\41794\\anaconda3\\envs\\ada\\lib\\site-packages (from spacy) (1.1.2)\n",
      "Requirement already satisfied: srsly<3.0.0,>=2.4.3 in c:\\users\\41794\\anaconda3\\envs\\ada\\lib\\site-packages (from spacy) (2.4.8)\n",
      "Requirement already satisfied: catalogue<2.1.0,>=2.0.6 in c:\\users\\41794\\anaconda3\\envs\\ada\\lib\\site-packages (from spacy) (2.0.10)\n",
      "Requirement already satisfied: weasel<0.4.0,>=0.1.0 in c:\\users\\41794\\anaconda3\\envs\\ada\\lib\\site-packages (from spacy) (0.3.4)\n",
      "Requirement already satisfied: typer<0.10.0,>=0.3.0 in c:\\users\\41794\\anaconda3\\envs\\ada\\lib\\site-packages (from spacy) (0.9.0)\n",
      "Requirement already satisfied: smart-open<7.0.0,>=5.2.1 in c:\\users\\41794\\anaconda3\\envs\\ada\\lib\\site-packages (from spacy) (6.4.0)\n",
      "Requirement already satisfied: tqdm<5.0.0,>=4.38.0 in c:\\users\\41794\\appdata\\roaming\\python\\python311\\site-packages (from spacy) (4.66.1)\n",
      "Requirement already satisfied: requests<3.0.0,>=2.13.0 in c:\\users\\41794\\anaconda3\\envs\\ada\\lib\\site-packages (from spacy) (2.31.0)\n",
      "Requirement already satisfied: pydantic!=1.8,!=1.8.1,<3.0.0,>=1.7.4 in c:\\users\\41794\\anaconda3\\envs\\ada\\lib\\site-packages (from spacy) (2.5.0)\n",
      "Requirement already satisfied: jinja2 in c:\\users\\41794\\anaconda3\\envs\\ada\\lib\\site-packages (from spacy) (3.1.2)\n",
      "Requirement already satisfied: setuptools in c:\\users\\41794\\anaconda3\\envs\\ada\\lib\\site-packages (from spacy) (68.0.0)\n",
      "Requirement already satisfied: packaging>=20.0 in c:\\users\\41794\\anaconda3\\envs\\ada\\lib\\site-packages (from spacy) (23.1)\n",
      "Requirement already satisfied: langcodes<4.0.0,>=3.2.0 in c:\\users\\41794\\anaconda3\\envs\\ada\\lib\\site-packages (from spacy) (3.3.0)\n",
      "Requirement already satisfied: numpy>=1.19.0 in c:\\users\\41794\\anaconda3\\envs\\ada\\lib\\site-packages (from spacy) (1.26.0)\n",
      "Requirement already satisfied: annotated-types>=0.4.0 in c:\\users\\41794\\anaconda3\\envs\\ada\\lib\\site-packages (from pydantic!=1.8,!=1.8.1,<3.0.0,>=1.7.4->spacy) (0.6.0)\n",
      "Requirement already satisfied: pydantic-core==2.14.1 in c:\\users\\41794\\anaconda3\\envs\\ada\\lib\\site-packages (from pydantic!=1.8,!=1.8.1,<3.0.0,>=1.7.4->spacy) (2.14.1)\n",
      "Requirement already satisfied: typing-extensions>=4.6.1 in c:\\users\\41794\\anaconda3\\envs\\ada\\lib\\site-packages (from pydantic!=1.8,!=1.8.1,<3.0.0,>=1.7.4->spacy) (4.7.1)\n",
      "Requirement already satisfied: charset-normalizer<4,>=2 in c:\\users\\41794\\anaconda3\\envs\\ada\\lib\\site-packages (from requests<3.0.0,>=2.13.0->spacy) (2.0.4)\n",
      "Requirement already satisfied: idna<4,>=2.5 in c:\\users\\41794\\anaconda3\\envs\\ada\\lib\\site-packages (from requests<3.0.0,>=2.13.0->spacy) (3.4)\n",
      "Requirement already satisfied: urllib3<3,>=1.21.1 in c:\\users\\41794\\anaconda3\\envs\\ada\\lib\\site-packages (from requests<3.0.0,>=2.13.0->spacy) (1.26.18)\n",
      "Requirement already satisfied: certifi>=2017.4.17 in c:\\users\\41794\\anaconda3\\envs\\ada\\lib\\site-packages (from requests<3.0.0,>=2.13.0->spacy) (2023.7.22)\n",
      "Requirement already satisfied: blis<0.8.0,>=0.7.8 in c:\\users\\41794\\anaconda3\\envs\\ada\\lib\\site-packages (from thinc<8.3.0,>=8.1.8->spacy) (0.7.11)\n",
      "Requirement already satisfied: confection<1.0.0,>=0.0.1 in c:\\users\\41794\\anaconda3\\envs\\ada\\lib\\site-packages (from thinc<8.3.0,>=8.1.8->spacy) (0.1.3)\n",
      "Requirement already satisfied: colorama in c:\\users\\41794\\appdata\\roaming\\python\\python311\\site-packages (from tqdm<5.0.0,>=4.38.0->spacy) (0.4.6)\n",
      "Requirement already satisfied: click<9.0.0,>=7.1.1 in c:\\users\\41794\\appdata\\roaming\\python\\python311\\site-packages (from typer<0.10.0,>=0.3.0->spacy) (8.1.7)\n",
      "Requirement already satisfied: cloudpathlib<0.17.0,>=0.7.0 in c:\\users\\41794\\anaconda3\\envs\\ada\\lib\\site-packages (from weasel<0.4.0,>=0.1.0->spacy) (0.16.0)\n",
      "Requirement already satisfied: MarkupSafe>=2.0 in c:\\users\\41794\\anaconda3\\envs\\ada\\lib\\site-packages (from jinja2->spacy) (2.1.1)\n",
      "Requirement already satisfied: textblob in c:\\users\\41794\\anaconda3\\envs\\ada\\lib\\site-packages (0.17.1)\n",
      "Requirement already satisfied: nltk>=3.1 in c:\\users\\41794\\appdata\\roaming\\python\\python311\\site-packages (from textblob) (3.8.1)\n",
      "Requirement already satisfied: click in c:\\users\\41794\\appdata\\roaming\\python\\python311\\site-packages (from nltk>=3.1->textblob) (8.1.7)\n",
      "Requirement already satisfied: joblib in c:\\users\\41794\\appdata\\roaming\\python\\python311\\site-packages (from nltk>=3.1->textblob) (1.3.2)\n",
      "Requirement already satisfied: regex>=2021.8.3 in c:\\users\\41794\\appdata\\roaming\\python\\python311\\site-packages (from nltk>=3.1->textblob) (2023.10.3)\n",
      "Requirement already satisfied: tqdm in c:\\users\\41794\\appdata\\roaming\\python\\python311\\site-packages (from nltk>=3.1->textblob) (4.66.1)\n",
      "Requirement already satisfied: colorama in c:\\users\\41794\\appdata\\roaming\\python\\python311\\site-packages (from click->nltk>=3.1->textblob) (0.4.6)\n",
      "Requirement already satisfied: nltk in c:\\users\\41794\\appdata\\roaming\\python\\python311\\site-packages (3.8.1)\n",
      "Requirement already satisfied: click in c:\\users\\41794\\appdata\\roaming\\python\\python311\\site-packages (from nltk) (8.1.7)\n",
      "Requirement already satisfied: joblib in c:\\users\\41794\\appdata\\roaming\\python\\python311\\site-packages (from nltk) (1.3.2)\n",
      "Requirement already satisfied: regex>=2021.8.3 in c:\\users\\41794\\appdata\\roaming\\python\\python311\\site-packages (from nltk) (2023.10.3)\n",
      "Requirement already satisfied: tqdm in c:\\users\\41794\\appdata\\roaming\\python\\python311\\site-packages (from nltk) (4.66.1)\n",
      "Requirement already satisfied: colorama in c:\\users\\41794\\appdata\\roaming\\python\\python311\\site-packages (from click->nltk) (0.4.6)\n",
      "Collecting en-core-web-sm==3.7.1\n",
      "  Using cached https://github.com/explosion/spacy-models/releases/download/en_core_web_sm-3.7.1/en_core_web_sm-3.7.1-py3-none-any.whl (12.8 MB)\n",
      "Requirement already satisfied: spacy<3.8.0,>=3.7.2 in c:\\users\\41794\\anaconda3\\envs\\ada\\lib\\site-packages (from en-core-web-sm==3.7.1) (3.7.2)\n",
      "Requirement already satisfied: spacy-legacy<3.1.0,>=3.0.11 in c:\\users\\41794\\anaconda3\\envs\\ada\\lib\\site-packages (from spacy<3.8.0,>=3.7.2->en-core-web-sm==3.7.1) (3.0.12)\n",
      "Requirement already satisfied: spacy-loggers<2.0.0,>=1.0.0 in c:\\users\\41794\\anaconda3\\envs\\ada\\lib\\site-packages (from spacy<3.8.0,>=3.7.2->en-core-web-sm==3.7.1) (1.0.5)\n",
      "Requirement already satisfied: murmurhash<1.1.0,>=0.28.0 in c:\\users\\41794\\anaconda3\\envs\\ada\\lib\\site-packages (from spacy<3.8.0,>=3.7.2->en-core-web-sm==3.7.1) (1.0.10)\n",
      "Requirement already satisfied: cymem<2.1.0,>=2.0.2 in c:\\users\\41794\\anaconda3\\envs\\ada\\lib\\site-packages (from spacy<3.8.0,>=3.7.2->en-core-web-sm==3.7.1) (2.0.8)\n",
      "Requirement already satisfied: preshed<3.1.0,>=3.0.2 in c:\\users\\41794\\anaconda3\\envs\\ada\\lib\\site-packages (from spacy<3.8.0,>=3.7.2->en-core-web-sm==3.7.1) (3.0.9)\n",
      "Requirement already satisfied: thinc<8.3.0,>=8.1.8 in c:\\users\\41794\\anaconda3\\envs\\ada\\lib\\site-packages (from spacy<3.8.0,>=3.7.2->en-core-web-sm==3.7.1) (8.2.1)\n",
      "Requirement already satisfied: wasabi<1.2.0,>=0.9.1 in c:\\users\\41794\\anaconda3\\envs\\ada\\lib\\site-packages (from spacy<3.8.0,>=3.7.2->en-core-web-sm==3.7.1) (1.1.2)\n",
      "Requirement already satisfied: srsly<3.0.0,>=2.4.3 in c:\\users\\41794\\anaconda3\\envs\\ada\\lib\\site-packages (from spacy<3.8.0,>=3.7.2->en-core-web-sm==3.7.1) (2.4.8)\n",
      "Requirement already satisfied: catalogue<2.1.0,>=2.0.6 in c:\\users\\41794\\anaconda3\\envs\\ada\\lib\\site-packages (from spacy<3.8.0,>=3.7.2->en-core-web-sm==3.7.1) (2.0.10)\n",
      "Requirement already satisfied: weasel<0.4.0,>=0.1.0 in c:\\users\\41794\\anaconda3\\envs\\ada\\lib\\site-packages (from spacy<3.8.0,>=3.7.2->en-core-web-sm==3.7.1) (0.3.4)\n",
      "Requirement already satisfied: typer<0.10.0,>=0.3.0 in c:\\users\\41794\\anaconda3\\envs\\ada\\lib\\site-packages (from spacy<3.8.0,>=3.7.2->en-core-web-sm==3.7.1) (0.9.0)\n",
      "Requirement already satisfied: smart-open<7.0.0,>=5.2.1 in c:\\users\\41794\\anaconda3\\envs\\ada\\lib\\site-packages (from spacy<3.8.0,>=3.7.2->en-core-web-sm==3.7.1) (6.4.0)\n",
      "Requirement already satisfied: tqdm<5.0.0,>=4.38.0 in c:\\users\\41794\\appdata\\roaming\\python\\python311\\site-packages (from spacy<3.8.0,>=3.7.2->en-core-web-sm==3.7.1) (4.66.1)\n",
      "Requirement already satisfied: requests<3.0.0,>=2.13.0 in c:\\users\\41794\\anaconda3\\envs\\ada\\lib\\site-packages (from spacy<3.8.0,>=3.7.2->en-core-web-sm==3.7.1) (2.31.0)\n",
      "Requirement already satisfied: pydantic!=1.8,!=1.8.1,<3.0.0,>=1.7.4 in c:\\users\\41794\\anaconda3\\envs\\ada\\lib\\site-packages (from spacy<3.8.0,>=3.7.2->en-core-web-sm==3.7.1) (2.5.0)\n",
      "Requirement already satisfied: jinja2 in c:\\users\\41794\\anaconda3\\envs\\ada\\lib\\site-packages (from spacy<3.8.0,>=3.7.2->en-core-web-sm==3.7.1) (3.1.2)\n",
      "Requirement already satisfied: setuptools in c:\\users\\41794\\anaconda3\\envs\\ada\\lib\\site-packages (from spacy<3.8.0,>=3.7.2->en-core-web-sm==3.7.1) (68.0.0)\n",
      "Requirement already satisfied: packaging>=20.0 in c:\\users\\41794\\anaconda3\\envs\\ada\\lib\\site-packages (from spacy<3.8.0,>=3.7.2->en-core-web-sm==3.7.1) (23.1)\n",
      "Requirement already satisfied: langcodes<4.0.0,>=3.2.0 in c:\\users\\41794\\anaconda3\\envs\\ada\\lib\\site-packages (from spacy<3.8.0,>=3.7.2->en-core-web-sm==3.7.1) (3.3.0)\n",
      "Requirement already satisfied: numpy>=1.19.0 in c:\\users\\41794\\anaconda3\\envs\\ada\\lib\\site-packages (from spacy<3.8.0,>=3.7.2->en-core-web-sm==3.7.1) (1.26.0)\n",
      "Requirement already satisfied: annotated-types>=0.4.0 in c:\\users\\41794\\anaconda3\\envs\\ada\\lib\\site-packages (from pydantic!=1.8,!=1.8.1,<3.0.0,>=1.7.4->spacy<3.8.0,>=3.7.2->en-core-web-sm==3.7.1) (0.6.0)\n",
      "Requirement already satisfied: pydantic-core==2.14.1 in c:\\users\\41794\\anaconda3\\envs\\ada\\lib\\site-packages (from pydantic!=1.8,!=1.8.1,<3.0.0,>=1.7.4->spacy<3.8.0,>=3.7.2->en-core-web-sm==3.7.1) (2.14.1)\n",
      "Requirement already satisfied: typing-extensions>=4.6.1 in c:\\users\\41794\\anaconda3\\envs\\ada\\lib\\site-packages (from pydantic!=1.8,!=1.8.1,<3.0.0,>=1.7.4->spacy<3.8.0,>=3.7.2->en-core-web-sm==3.7.1) (4.7.1)\n",
      "Requirement already satisfied: charset-normalizer<4,>=2 in c:\\users\\41794\\anaconda3\\envs\\ada\\lib\\site-packages (from requests<3.0.0,>=2.13.0->spacy<3.8.0,>=3.7.2->en-core-web-sm==3.7.1) (2.0.4)\n",
      "Requirement already satisfied: idna<4,>=2.5 in c:\\users\\41794\\anaconda3\\envs\\ada\\lib\\site-packages (from requests<3.0.0,>=2.13.0->spacy<3.8.0,>=3.7.2->en-core-web-sm==3.7.1) (3.4)\n",
      "Requirement already satisfied: urllib3<3,>=1.21.1 in c:\\users\\41794\\anaconda3\\envs\\ada\\lib\\site-packages (from requests<3.0.0,>=2.13.0->spacy<3.8.0,>=3.7.2->en-core-web-sm==3.7.1) (1.26.18)\n",
      "Requirement already satisfied: certifi>=2017.4.17 in c:\\users\\41794\\anaconda3\\envs\\ada\\lib\\site-packages (from requests<3.0.0,>=2.13.0->spacy<3.8.0,>=3.7.2->en-core-web-sm==3.7.1) (2023.7.22)\n",
      "Requirement already satisfied: blis<0.8.0,>=0.7.8 in c:\\users\\41794\\anaconda3\\envs\\ada\\lib\\site-packages (from thinc<8.3.0,>=8.1.8->spacy<3.8.0,>=3.7.2->en-core-web-sm==3.7.1) (0.7.11)\n",
      "Requirement already satisfied: confection<1.0.0,>=0.0.1 in c:\\users\\41794\\anaconda3\\envs\\ada\\lib\\site-packages (from thinc<8.3.0,>=8.1.8->spacy<3.8.0,>=3.7.2->en-core-web-sm==3.7.1) (0.1.3)\n",
      "Requirement already satisfied: colorama in c:\\users\\41794\\appdata\\roaming\\python\\python311\\site-packages (from tqdm<5.0.0,>=4.38.0->spacy<3.8.0,>=3.7.2->en-core-web-sm==3.7.1) (0.4.6)\n",
      "Requirement already satisfied: click<9.0.0,>=7.1.1 in c:\\users\\41794\\appdata\\roaming\\python\\python311\\site-packages (from typer<0.10.0,>=0.3.0->spacy<3.8.0,>=3.7.2->en-core-web-sm==3.7.1) (8.1.7)\n",
      "Requirement already satisfied: cloudpathlib<0.17.0,>=0.7.0 in c:\\users\\41794\\anaconda3\\envs\\ada\\lib\\site-packages (from weasel<0.4.0,>=0.1.0->spacy<3.8.0,>=3.7.2->en-core-web-sm==3.7.1) (0.16.0)\n",
      "Requirement already satisfied: MarkupSafe>=2.0 in c:\\users\\41794\\anaconda3\\envs\\ada\\lib\\site-packages (from jinja2->spacy<3.8.0,>=3.7.2->en-core-web-sm==3.7.1) (2.1.1)\n",
      "\u001b[38;5;2m[+] Download and installation successful\u001b[0m\n",
      "You can now load the package via spacy.load('en_core_web_sm')\n"
     ]
    }
   ],
   "source": [
    "! pip install spacy\n",
    "!pip install -U textblob\n",
    "!pip install --user -U nltk\n",
    "!python -m spacy download en_core_web_sm"
   ]
  },
  {
   "cell_type": "code",
   "execution_count": 64,
   "metadata": {},
   "outputs": [
    {
     "name": "stderr",
     "output_type": "stream",
     "text": [
      "[nltk_data] Downloading package punkt to\n",
      "[nltk_data]     C:\\Users\\41794\\AppData\\Roaming\\nltk_data...\n",
      "[nltk_data]   Package punkt is already up-to-date!\n",
      "[nltk_data] Downloading package stopwords to\n",
      "[nltk_data]     C:\\Users\\41794\\AppData\\Roaming\\nltk_data...\n",
      "[nltk_data]   Package stopwords is already up-to-date!\n"
     ]
    }
   ],
   "source": [
    "import os\n",
    "import json\n",
    "import numpy as np\n",
    "import pandas as pd\n",
    "import seaborn as sns\n",
    "import matplotlib.pyplot as plt\n",
    "\n",
    "import nltk\n",
    "import spacy\n",
    "import string\n",
    "from scipy import stats\n",
    "from textblob import TextBlob\n",
    "from collections import Counter\n",
    "from nltk.sentiment.util import *\n",
    "from nltk.corpus import stopwords\n",
    "from sklearn import preprocessing\n",
    "from nltk.corpus import subjectivity\n",
    "from nltk.tokenize import word_tokenize\n",
    "from spacy.lang.en.examples import sentences\n",
    "from nltk.sentiment import SentimentAnalyzer\n",
    "from nltk.classify import NaiveBayesClassifier\n",
    "from sklearn.metrics import mean_squared_error\n",
    "from sklearn.linear_model import LinearRegression\n",
    "from scripts.helper import *\n",
    "from scripts.plot import *\n",
    "from loads import *\n",
    "import os\n",
    "\n",
    "nltk.download('punkt')\n",
    "nltk.download('stopwords')\n",
    "nlp = spacy.load(\"en_core_web_sm\")\n",
    "stop_words = set(stopwords.words('english'))\n",
    "stop_words.add(string.punctuation)\n",
    "\n",
    "PATH_FOLDER = \"MovieSummaries/\""
   ]
  },
  {
   "cell_type": "code",
   "execution_count": 30,
   "metadata": {},
   "outputs": [
    {
     "name": "stderr",
     "output_type": "stream",
     "text": [
      "C:\\Users\\41794\\anaconda3\\envs\\ada\\Lib\\site-packages\\openpyxl\\styles\\stylesheet.py:226: UserWarning: Workbook contains no default style, apply openpyxl's default\n",
      "  warn(\"Workbook contains no default style, apply openpyxl's default\")\n"
     ]
    }
   ],
   "source": [
    "# Loading character metadata DataFrame\n",
    "character_df = load_character_metadata()\n",
    "# Loading movie metadata DataFrame\n",
    "movie_df = load_movie_metadata()\n",
    "# Loading plot summaries DataFrame\n",
    "plot_summaries_df = load_plot_summaries()\n",
    "# Loading TVTropes DataFrame\n",
    "tvtropes_df = load_tvtropes()\n",
    "# Loading name clusters DataFrame\n",
    "name_clusters_df = load_name_clusters()\n",
    "# Loading inflation DataFrame\n",
    "inflation = pd.read_excel(\"external_dataset/inflation.xlsx\", header=11)"
   ]
  },
  {
   "cell_type": "markdown",
   "metadata": {},
   "source": [
    "# Preprocessing"
   ]
  },
  {
   "cell_type": "markdown",
   "metadata": {},
   "source": [
    "## CLEANING"
   ]
  },
  {
   "cell_type": "markdown",
   "metadata": {},
   "source": [
    "#### MOVIE METADATA Cleaning"
   ]
  },
  {
   "cell_type": "markdown",
   "metadata": {},
   "source": [
    "We are first extracting variables that have the form (ID : variable) tuples to be able to use these features."
   ]
  },
  {
   "cell_type": "code",
   "execution_count": 31,
   "metadata": {},
   "outputs": [],
   "source": [
    "# Extracting and transforming the 'Movie languages (Freebase ID:name tuples)' column\n",
    "# Applying a lambda function to convert the JSON-like string to a list of language names\n",
    "movie_df['Movie Languages'] = movie_df['Movie languages (Freebase ID:name tuples)'].apply(lambda x: list(json.loads(x).values()))\n",
    "# Extracting and transforming the 'Movie countries (Freebase ID:name tuples)' column\n",
    "# Applying a lambda function to convert the JSON-like string to a list of country names\n",
    "movie_df['Movie Countries'] = movie_df['Movie countries (Freebase ID:name tuples)'].apply(lambda x: list(json.loads(x).values()))\n",
    "# Extracting and transforming the 'Movie genres (Freebase ID:name tuples)' column\n",
    "# Applying a lambda function to convert the JSON-like string to a list of genre names\n",
    "movie_df['Movie Genres'] = movie_df['Movie genres (Freebase ID:name tuples)'].apply(lambda x: list(json.loads(x).values()))"
   ]
  },
  {
   "cell_type": "markdown",
   "metadata": {},
   "source": [
    "A lot of columns in the dataframe contain IDs that we don't need, we are thus, dropping them."
   ]
  },
  {
   "cell_type": "code",
   "execution_count": 32,
   "metadata": {},
   "outputs": [],
   "source": [
    "# List of columns to be dropped from the DataFrame\n",
    "movie_columns_to_drop = ['Movie languages (Freebase ID:name tuples)', 'Movie countries (Freebase ID:name tuples)','Movie genres (Freebase ID:name tuples)','Freebase movie ID']\n",
    "# Dropping specified columns from the DataFrame\n",
    "movie_df.drop(movie_columns_to_drop, axis=1, inplace=True)"
   ]
  },
  {
   "cell_type": "markdown",
   "metadata": {},
   "source": [
    "Our main interest is to see what features result in higher boxe office revenues, so we need to drop movies with missing revenue (Nan)."
   ]
  },
  {
   "cell_type": "code",
   "execution_count": 33,
   "metadata": {},
   "outputs": [],
   "source": [
    "# Dropping rows from the DataFrame where 'Movie box office revenue' is NaN\n",
    "movie_df.dropna(subset=['Movie box office revenue'], inplace=True)"
   ]
  },
  {
   "cell_type": "markdown",
   "metadata": {},
   "source": [
    "One of our feature of interest is the release date of the movies. We are thus, processing the column, for it to be usable in our analysis. We extract Year and Month from the Movie release date (date format YYYY and YYYY-MM-DD can't be dealt together)."
   ]
  },
  {
   "cell_type": "code",
   "execution_count": 34,
   "metadata": {},
   "outputs": [],
   "source": [
    "# Dropping rows where 'Movie release date' is NaN\n",
    "movie_df.dropna(subset=[\"Movie release date\"], inplace=True)\n",
    "# Create a Year column in the movie dataframe\n",
    "movie_df['Year'] = movie_df[\"Movie release date\"].apply(lambda x: str(x)[:4]).astype(int)\n",
    "# Create a Month column in the movie dataframe\n",
    "movie_df['Month'] = pd.to_datetime(movie_df['Movie release date'],errors='coerce').dt.month"
   ]
  },
  {
   "cell_type": "markdown",
   "metadata": {},
   "source": [
    "### Inflation"
   ]
  },
  {
   "cell_type": "markdown",
   "metadata": {},
   "source": [
    "To be able to compare the the relative box office revenues across different years, we need to take inflation into account."
   ]
  },
  {
   "cell_type": "code",
   "execution_count": 35,
   "metadata": {},
   "outputs": [],
   "source": [
    "# Calculate cumulative inflation to 2022 using the last available annual inflation rate\n",
    "inflation[\"Cumulative Inflation to 2022\"] = inflation.iloc[-1].Annual / inflation[\"Annual\"]\n",
    "# Merge the movie DataFrame with the inflation DataFrame on the 'Year' column\n",
    "movie_with_inflation = pd.merge(movie_df, inflation.drop(['Annual'], axis=1), on='Year')\n",
    "# Calculate revenue with inflation by multiplying 'Movie box office revenue' with the 'Cumulative Inflation to 2022'\n",
    "movie_with_inflation['Revenue with inflation'] = movie_with_inflation['Movie box office revenue'] * movie_with_inflation['Cumulative Inflation to 2022']"
   ]
  },
  {
   "cell_type": "markdown",
   "metadata": {},
   "source": [
    "The original distribution of the inflated movie box office revenue exhibits a heavy-tailed pattern, with a few movies achieving extremely high revenues. By applying a logarithmic transformation on the x-axis, we approximate a \"more\" normal distribution, making the data more amenable to statistical analyses that assume normality."
   ]
  },
  {
   "cell_type": "code",
   "execution_count": 36,
   "metadata": {},
   "outputs": [
    {
     "data": {
      "text/plain": [
       "Text(0, 0.5, 'Number of movies')"
      ]
     },
     "execution_count": 36,
     "metadata": {},
     "output_type": "execute_result"
    },
    {
     "data": {
      "image/png": "[encoded data removed]",
      "text/plain": [
       "<Figure size 1000x600 with 2 Axes>"
      ]
     },
     "metadata": {},
     "output_type": "display_data"
    }
   ],
   "source": [
    "fig, axs = plt.subplots(1, 2, figsize=(10, 6))\n",
    "\n",
    "# Plotting the original distribution and the distribution after applying log function on the revenue feature\n",
    "movie_with_inflation['Revenue with inflation'].hist(ax=axs[0], bins=100, color='blue', edgecolor='black')\n",
    "movie_with_inflation['log_revenues'] = np.log(movie_with_inflation['Revenue with inflation'])\n",
    "movie_with_inflation['log_revenues'].hist(ax=axs[1], bins=100, color='blue', edgecolor='black')\n",
    "axs[0].set_title('Original Histogram')\n",
    "axs[0].set_xlabel('Inflated Box Office Revenue')\n",
    "axs[0].set_ylabel('Number of movies')\n",
    "axs[1].set_title('Histogram after applying log')\n",
    "axs[1].set_xlabel('Box Office Revenue')\n",
    "axs[1].set_ylabel('Number of movies')"
   ]
  },
  {
   "cell_type": "markdown",
   "metadata": {},
   "source": [
    "#### CHARACTER METADATA Cleaning"
   ]
  },
  {
   "cell_type": "markdown",
   "metadata": {},
   "source": [
    "Again, a lot of columns in the dataframe contain IDs that we don't need, as well as actors' heights, we are thus, dropping them."
   ]
  },
  {
   "cell_type": "code",
   "execution_count": 37,
   "metadata": {},
   "outputs": [],
   "source": [
    "# Dropping unnecessary character-related columns from the DataFrame\n",
    "character_columns_to_drop = ['Freebase movie ID', 'Actor ethnicity (Freebase ID)','Freebase character ID','Freebase actor ID','Actor height (in meters)']\n",
    "character_df.drop(character_columns_to_drop, axis=1, inplace=True)"
   ]
  },
  {
   "cell_type": "markdown",
   "metadata": {},
   "source": [
    "The plot summaries, run through the Stanford CoreNLP pipeline (tagging, parsing, NER and coref). Each filename begins with the Wikipedia movie ID (which indexes into movie.metadata.tsv)."
   ]
  },
  {
   "cell_type": "code",
   "execution_count": 38,
   "metadata": {
    "scrolled": true
   },
   "outputs": [
    {
     "data": {
      "text/html": [
       "<div>\n",
       "<style scoped>\n",
       "    .dataframe tbody tr th:only-of-type {\n",
       "        vertical-align: middle;\n",
       "    }\n",
       "\n",
       "    .dataframe tbody tr th {\n",
       "        vertical-align: top;\n",
       "    }\n",
       "\n",
       "    .dataframe thead th {\n",
       "        text-align: right;\n",
       "    }\n",
       "</style>\n",
       "<table border=\"1\" class=\"dataframe\">\n",
       "  <thead>\n",
       "    <tr style=\"text-align: right;\">\n",
       "      <th></th>\n",
       "      <th>Rank</th>\n",
       "      <th>Title</th>\n",
       "      <th>Worldwide Lifetime Gross</th>\n",
       "      <th>Domestic Lifetime Gross</th>\n",
       "      <th>Domestic %</th>\n",
       "      <th>Foreign Lifetime Gross</th>\n",
       "      <th>Foreign %</th>\n",
       "      <th>Year</th>\n",
       "    </tr>\n",
       "  </thead>\n",
       "  <tbody>\n",
       "    <tr>\n",
       "      <th>0</th>\n",
       "      <td>1</td>\n",
       "      <td>Avatar</td>\n",
       "      <td>$2,923,706,026</td>\n",
       "      <td>$785,221,649</td>\n",
       "      <td>26.9%</td>\n",
       "      <td>$2,138,484,377</td>\n",
       "      <td>73.1%</td>\n",
       "      <td>2009</td>\n",
       "    </tr>\n",
       "    <tr>\n",
       "      <th>1</th>\n",
       "      <td>2</td>\n",
       "      <td>Avengers: Endgame</td>\n",
       "      <td>$2,799,439,100</td>\n",
       "      <td>$858,373,000</td>\n",
       "      <td>30.7%</td>\n",
       "      <td>$1,941,066,100</td>\n",
       "      <td>69.3%</td>\n",
       "      <td>2019</td>\n",
       "    </tr>\n",
       "    <tr>\n",
       "      <th>2</th>\n",
       "      <td>3</td>\n",
       "      <td>Avatar: The Way of Water</td>\n",
       "      <td>$2,320,250,281</td>\n",
       "      <td>$684,075,767</td>\n",
       "      <td>29.5%</td>\n",
       "      <td>$1,636,174,514</td>\n",
       "      <td>70.5%</td>\n",
       "      <td>2022</td>\n",
       "    </tr>\n",
       "    <tr>\n",
       "      <th>3</th>\n",
       "      <td>4</td>\n",
       "      <td>Titanic</td>\n",
       "      <td>$2,264,743,305</td>\n",
       "      <td>$674,292,608</td>\n",
       "      <td>29.8%</td>\n",
       "      <td>$1,590,450,697</td>\n",
       "      <td>70.2%</td>\n",
       "      <td>1997</td>\n",
       "    </tr>\n",
       "    <tr>\n",
       "      <th>4</th>\n",
       "      <td>5</td>\n",
       "      <td>Star Wars: Episode VII - The Force Awakens</td>\n",
       "      <td>$2,071,310,218</td>\n",
       "      <td>$936,662,225</td>\n",
       "      <td>45.2%</td>\n",
       "      <td>$1,134,647,993</td>\n",
       "      <td>54.8%</td>\n",
       "      <td>2015</td>\n",
       "    </tr>\n",
       "    <tr>\n",
       "      <th>...</th>\n",
       "      <td>...</td>\n",
       "      <td>...</td>\n",
       "      <td>...</td>\n",
       "      <td>...</td>\n",
       "      <td>...</td>\n",
       "      <td>...</td>\n",
       "      <td>...</td>\n",
       "      <td>...</td>\n",
       "    </tr>\n",
       "    <tr>\n",
       "      <th>2595</th>\n",
       "      <td>996</td>\n",
       "      <td>Hot Shots!</td>\n",
       "      <td>$181,096,164</td>\n",
       "      <td>$69,467,617</td>\n",
       "      <td>38.4%</td>\n",
       "      <td>$111,628,547</td>\n",
       "      <td>61.6%</td>\n",
       "      <td>1991</td>\n",
       "    </tr>\n",
       "    <tr>\n",
       "      <th>2596</th>\n",
       "      <td>997</td>\n",
       "      <td>Road to Perdition</td>\n",
       "      <td>$181,001,478</td>\n",
       "      <td>$104,454,762</td>\n",
       "      <td>57.7%</td>\n",
       "      <td>$76,546,716</td>\n",
       "      <td>42.3%</td>\n",
       "      <td>2002</td>\n",
       "    </tr>\n",
       "    <tr>\n",
       "      <th>2597</th>\n",
       "      <td>998</td>\n",
       "      <td>Kill Bill: Vol. 1</td>\n",
       "      <td>$180,906,076</td>\n",
       "      <td>$70,099,045</td>\n",
       "      <td>38.8%</td>\n",
       "      <td>$110,807,031</td>\n",
       "      <td>61.2%</td>\n",
       "      <td>2003</td>\n",
       "    </tr>\n",
       "    <tr>\n",
       "      <th>2598</th>\n",
       "      <td>999</td>\n",
       "      <td>The Scorpion King</td>\n",
       "      <td>$180,630,907</td>\n",
       "      <td>$91,047,077</td>\n",
       "      <td>50.4%</td>\n",
       "      <td>$89,583,830</td>\n",
       "      <td>49.6%</td>\n",
       "      <td>2002</td>\n",
       "    </tr>\n",
       "    <tr>\n",
       "      <th>2599</th>\n",
       "      <td>1,000</td>\n",
       "      <td>Sweet Home Alabama</td>\n",
       "      <td>$180,622,424</td>\n",
       "      <td>$127,223,418</td>\n",
       "      <td>70.4%</td>\n",
       "      <td>$53,399,006</td>\n",
       "      <td>29.6%</td>\n",
       "      <td>2002</td>\n",
       "    </tr>\n",
       "  </tbody>\n",
       "</table>\n",
       "<p>2600 rows × 8 columns</p>\n",
       "</div>"
      ],
      "text/plain": [
       "       Rank                                       Title  \\\n",
       "0         1                                      Avatar   \n",
       "1         2                           Avengers: Endgame   \n",
       "2         3                    Avatar: The Way of Water   \n",
       "3         4                                     Titanic   \n",
       "4         5  Star Wars: Episode VII - The Force Awakens   \n",
       "...     ...                                         ...   \n",
       "2595    996                                  Hot Shots!   \n",
       "2596    997                           Road to Perdition   \n",
       "2597    998                           Kill Bill: Vol. 1   \n",
       "2598    999                           The Scorpion King   \n",
       "2599  1,000                          Sweet Home Alabama   \n",
       "\n",
       "     Worldwide Lifetime Gross Domestic Lifetime Gross Domestic %  \\\n",
       "0              $2,923,706,026            $785,221,649      26.9%   \n",
       "1              $2,799,439,100            $858,373,000      30.7%   \n",
       "2              $2,320,250,281            $684,075,767      29.5%   \n",
       "3              $2,264,743,305            $674,292,608      29.8%   \n",
       "4              $2,071,310,218            $936,662,225      45.2%   \n",
       "...                       ...                     ...        ...   \n",
       "2595             $181,096,164             $69,467,617      38.4%   \n",
       "2596             $181,001,478            $104,454,762      57.7%   \n",
       "2597             $180,906,076             $70,099,045      38.8%   \n",
       "2598             $180,630,907             $91,047,077      50.4%   \n",
       "2599             $180,622,424            $127,223,418      70.4%   \n",
       "\n",
       "     Foreign Lifetime Gross Foreign %  Year  \n",
       "0            $2,138,484,377     73.1%  2009  \n",
       "1            $1,941,066,100     69.3%  2019  \n",
       "2            $1,636,174,514     70.5%  2022  \n",
       "3            $1,590,450,697     70.2%  1997  \n",
       "4            $1,134,647,993     54.8%  2015  \n",
       "...                     ...       ...   ...  \n",
       "2595           $111,628,547     61.6%  1991  \n",
       "2596            $76,546,716     42.3%  2002  \n",
       "2597           $110,807,031     61.2%  2003  \n",
       "2598            $89,583,830     49.6%  2002  \n",
       "2599            $53,399,006     29.6%  2002  \n",
       "\n",
       "[2600 rows x 8 columns]"
      ]
     },
     "execution_count": 38,
     "metadata": {},
     "output_type": "execute_result"
    }
   ],
   "source": [
    "# Form more details run the scripts/corenlp_plot_summary_parsing.ipynb \n",
    "core_nlp_df = pd.read_csv(\"external_dataset/boxofficemojo_dataframe.csv\")\n",
    "core_nlp_df"
   ]
  },
  {
   "cell_type": "markdown",
   "metadata": {},
   "source": [
    "## Splitting"
   ]
  },
  {
   "cell_type": "markdown",
   "metadata": {},
   "source": [
    "We are now splitting the dataframes into many small different dataframes for each feature. Each small df has one feature and 'log_revenues'. These small dataframes are created for the analysis to be easier."
   ]
  },
  {
   "cell_type": "code",
   "execution_count": 39,
   "metadata": {},
   "outputs": [],
   "source": [
    "# Extracting 'Movie runtime' and 'log_revenues' columns into a new dataframe\n",
    "movie_runtime_df = movie_with_inflation[['Movie runtime', 'log_revenues']].copy()\n",
    "# Extracting 'Movie Languages' and 'log_revenues' columns into a new dataframe\n",
    "movie_languages_df = movie_with_inflation[['Movie Languages', 'log_revenues']].copy()\n",
    "# Extracting 'Movie Countries' and 'log_revenues' columns into a new dataframe\n",
    "movie_countries_df = movie_with_inflation[['Movie Countries', 'log_revenues']].copy()\n",
    "# Extracting 'Movie Genres' and 'log_revenues' columns into a new dataframe\n",
    "movie_genres_df = movie_with_inflation[['Movie Genres', 'log_revenues']].copy()\n",
    "# Extracting 'Month' and 'log_revenues' columns into a new dataframe\n",
    "months_df = movie_with_inflation[['Month', 'log_revenues']].copy()\n",
    "# Extracting 'Year' and 'log_revenues' columns into a new dataframe\n",
    "years_df = movie_with_inflation[['Year', 'log_revenues']].copy()"
   ]
  },
  {
   "cell_type": "markdown",
   "metadata": {},
   "source": [
    "Drop movies in each small dataframe, only for the missing values (Nan) of the concerned feature"
   ]
  },
  {
   "cell_type": "code",
   "execution_count": 40,
   "metadata": {},
   "outputs": [],
   "source": [
    "# Drop NaNs in each small dataframes\n",
    "movie_runtime_df.dropna(subset=['Movie runtime'], inplace=True)\n",
    "movie_languages_df.dropna(subset=['Movie Languages'], inplace=True)\n",
    "movie_countries_df.dropna(subset=['Movie Countries'], inplace=True)\n",
    "movie_genres_df.dropna(subset=['Movie Genres'], inplace=True)\n",
    "years_df.dropna(subset=['Year'], inplace=True) #no nan but safer\n",
    "months_df.dropna(subset=['Month'], inplace=True)"
   ]
  },
  {
   "cell_type": "markdown",
   "metadata": {},
   "source": [
    "We then need to merge character and movie dataframes, to be able to extract information on actors and their impact on box office revenues"
   ]
  },
  {
   "cell_type": "code",
   "execution_count": 41,
   "metadata": {},
   "outputs": [],
   "source": [
    "# Merging character_df and movie_with_inflation DataFrames on 'Wikipedia movie ID'\n",
    "# Dropping the 'Movie release date' column from character_df to avoid duplicate columns after the merge\n",
    "character_movie_merged_df = pd.merge(character_df.drop(['Movie release date'],axis=1), movie_with_inflation, on=['Wikipedia movie ID'])\n"
   ]
  },
  {
   "cell_type": "markdown",
   "metadata": {},
   "source": [
    "One of our feature will be the percentage of women actresses in movies, so we need to get this information"
   ]
  },
  {
   "cell_type": "code",
   "execution_count": 42,
   "metadata": {},
   "outputs": [],
   "source": [
    "# Create a new DataFrame containing relevant columns from the original DataFrame\n",
    "actor_gender_movie_df = character_movie_merged_df[['Movie name','log_revenues','Actor name','Actor gender']].copy()\n",
    "# Drop rows with missing values\n",
    "actor_gender_movie_df.dropna(inplace=True)\n",
    "# Compute percentage of women in each movies\n",
    "actor_gender_movie_df['Percentage Women'] = (actor_gender_movie_df.groupby('Movie name')['Actor gender']\n",
    "                                              .transform(lambda x: (x == 'F').mean() * 100)\n",
    "                                              .fillna(0)  # Fill NaN with 0\n",
    "                                              .astype(int)  # Ensure the column is of int type\n",
    "                                             )"
   ]
  },
  {
   "cell_type": "code",
   "execution_count": 43,
   "metadata": {},
   "outputs": [],
   "source": [
    "# Creating a DataFrame with actor gender, actor name, and log_revenues from the merged DataFrame\n",
    "actor_gender_df = actor_gender_movie_df[['Percentage Women','Actor name','log_revenues']].copy()\n",
    "# Removing duplicate rows from actor_gender_df based on all columns\n",
    "actor_gender_df.drop_duplicates()\n",
    "# Creating a new DataFrame with percentage women and log_revenues, dropping rows with missing percentage women\n",
    "gender_df = actor_gender_df[['Percentage Women','log_revenues']].copy()\n",
    "gender_df.dropna(subset=['Percentage Women'], inplace=True)"
   ]
  },
  {
   "cell_type": "code",
   "execution_count": 44,
   "metadata": {},
   "outputs": [
    {
     "data": {
      "text/html": [
       "<div>\n",
       "<style scoped>\n",
       "    .dataframe tbody tr th:only-of-type {\n",
       "        vertical-align: middle;\n",
       "    }\n",
       "\n",
       "    .dataframe tbody tr th {\n",
       "        vertical-align: top;\n",
       "    }\n",
       "\n",
       "    .dataframe thead th {\n",
       "        text-align: right;\n",
       "    }\n",
       "</style>\n",
       "<table border=\"1\" class=\"dataframe\">\n",
       "  <thead>\n",
       "    <tr style=\"text-align: right;\">\n",
       "      <th></th>\n",
       "      <th>Actor name</th>\n",
       "      <th>Actor age at movie release</th>\n",
       "      <th>log_revenues</th>\n",
       "    </tr>\n",
       "  </thead>\n",
       "  <tbody>\n",
       "    <tr>\n",
       "      <th>0</th>\n",
       "      <td>Wanda De Jesus</td>\n",
       "      <td>42.0</td>\n",
       "      <td>16.957621</td>\n",
       "    </tr>\n",
       "    <tr>\n",
       "      <th>1</th>\n",
       "      <td>Natasha Henstridge</td>\n",
       "      <td>27.0</td>\n",
       "      <td>16.957621</td>\n",
       "    </tr>\n",
       "    <tr>\n",
       "      <th>2</th>\n",
       "      <td>Ice Cube</td>\n",
       "      <td>32.0</td>\n",
       "      <td>16.957621</td>\n",
       "    </tr>\n",
       "    <tr>\n",
       "      <th>3</th>\n",
       "      <td>Jason Statham</td>\n",
       "      <td>33.0</td>\n",
       "      <td>16.957621</td>\n",
       "    </tr>\n",
       "    <tr>\n",
       "      <th>4</th>\n",
       "      <td>Clea DuVall</td>\n",
       "      <td>23.0</td>\n",
       "      <td>16.957621</td>\n",
       "    </tr>\n",
       "    <tr>\n",
       "      <th>...</th>\n",
       "      <td>...</td>\n",
       "      <td>...</td>\n",
       "      <td>...</td>\n",
       "    </tr>\n",
       "    <tr>\n",
       "      <th>100848</th>\n",
       "      <td>Roland Culver</td>\n",
       "      <td>64.0</td>\n",
       "      <td>17.746917</td>\n",
       "    </tr>\n",
       "    <tr>\n",
       "      <th>100849</th>\n",
       "      <td>Michael Hordern</td>\n",
       "      <td>53.0</td>\n",
       "      <td>17.746917</td>\n",
       "    </tr>\n",
       "    <tr>\n",
       "      <th>100850</th>\n",
       "      <td>Reginald Beckwith</td>\n",
       "      <td>56.0</td>\n",
       "      <td>17.746917</td>\n",
       "    </tr>\n",
       "    <tr>\n",
       "      <th>100851</th>\n",
       "      <td>Gong Yoo</td>\n",
       "      <td>32.0</td>\n",
       "      <td>17.503715</td>\n",
       "    </tr>\n",
       "    <tr>\n",
       "      <th>100852</th>\n",
       "      <td>Jung Yoo Mi</td>\n",
       "      <td>27.0</td>\n",
       "      <td>17.503715</td>\n",
       "    </tr>\n",
       "  </tbody>\n",
       "</table>\n",
       "<p>80159 rows × 3 columns</p>\n",
       "</div>"
      ],
      "text/plain": [
       "                Actor name  Actor age at movie release  log_revenues\n",
       "0           Wanda De Jesus                        42.0     16.957621\n",
       "1       Natasha Henstridge                        27.0     16.957621\n",
       "2                 Ice Cube                        32.0     16.957621\n",
       "3            Jason Statham                        33.0     16.957621\n",
       "4              Clea DuVall                        23.0     16.957621\n",
       "...                    ...                         ...           ...\n",
       "100848       Roland Culver                        64.0     17.746917\n",
       "100849     Michael Hordern                        53.0     17.746917\n",
       "100850   Reginald Beckwith                        56.0     17.746917\n",
       "100851            Gong Yoo                        32.0     17.503715\n",
       "100852         Jung Yoo Mi                        27.0     17.503715\n",
       "\n",
       "[80159 rows x 3 columns]"
      ]
     },
     "execution_count": 44,
     "metadata": {},
     "output_type": "execute_result"
    }
   ],
   "source": [
    "# Creating a DataFrame with actor name, actor age at movie release, and log_revenues from the merged DataFrame\n",
    "actor_df = character_movie_merged_df[['Actor name','Actor age at movie release','log_revenues']].copy()\n",
    "actor_df.dropna()"
   ]
  },
  {
   "cell_type": "markdown",
   "metadata": {},
   "source": [
    "## Quantization"
   ]
  },
  {
   "cell_type": "markdown",
   "metadata": {},
   "source": [
    "In this section we transform runtimes, female percentages and years into categories to be able to run a regression analysis with categorical features. For example, if the female percentage of movie \"x\" is 23%, it will be associated to the interval [20%,30%]. Similarly, if the movie runtime of movie \"x\" is 123 minutes, it will be associated to the interval [100min,130min]."
   ]
  },
  {
   "cell_type": "code",
   "execution_count": 45,
   "metadata": {},
   "outputs": [],
   "source": [
    "# Calculate the minimum and maximum years in the 'Year' column\n",
    "min_year = years_df['Year'].min()\n",
    "max_year = years_df['Year'].max()\n",
    "\n",
    "# Create intervals of 10 years and assign labels based on the minimum and maximum years\n",
    "years_df['year_intervals'] = pd.cut(years_df['Year'], \n",
    "                                    bins=range(min_year, max_year + 11, 10),  # Define bins for 10-year intervals\n",
    "                                    labels=[f\"{start}-{start + 9}\" for start in range(min_year, max_year, 10)],  # Create labels for intervals\n",
    "                                    include_lowest=True)  # Include the lowest value in the interval\n",
    "\n",
    "# The 'year_intervals' column now contains the corresponding interval for each year"
   ]
  },
  {
   "cell_type": "code",
   "execution_count": 46,
   "metadata": {},
   "outputs": [],
   "source": [
    "# Cast 'Movie runtime' to integers\n",
    "movie_runtime_df['Movie runtime'] = movie_runtime_df['Movie runtime'].astype(int)\n",
    "\n",
    "# Calculate the minimum and maximum runtimes in the 'Movie runtime' column\n",
    "min_runtime = movie_runtime_df['Movie runtime'].min()\n",
    "max_runtime = movie_runtime_df['Movie runtime'].max()\n",
    "\n",
    "# Create intervals of 30 for runtimes until 220, and a separate interval for values greater than 220 but smaller than the maximum runtime\n",
    "runtime_bins = [i for i in range(min_runtime, min(max_runtime, 221), 30)] + [float('inf')]\n",
    "\n",
    "# Create labels for the runtime intervals\n",
    "runtime_labels = [f\"{start}-{start + 29}\" if start + 29 < min(max_runtime, 220) else f\"{min(max_runtime, 220)+1}-{max_runtime}\" for start in range(min_runtime, min(max_runtime, 221), 30)]\n",
    "\n",
    "# Assign the intervals to the 'Movie runtime' column\n",
    "movie_runtime_df['runtime_intervals'] = pd.cut(movie_runtime_df['Movie runtime'],\n",
    "                                       bins=runtime_bins,\n",
    "                                       labels=runtime_labels,\n",
    "                                       include_lowest=True)\n",
    "\n",
    "# The 'runtime_intervals' column now contains the corresponding interval for each runtime"
   ]
  },
  {
   "cell_type": "code",
   "execution_count": 47,
   "metadata": {},
   "outputs": [],
   "source": [
    "# Create intervals of size 10 for the 'Percentage Women' column\n",
    "gender_df['Percentage Women Intervals'] = pd.cut(gender_df['Percentage Women'],\n",
    "                                                             bins=range(0, 101, 10),\n",
    "                                                             labels=[f\"{start}-{start + 9}\" for start in range(0, 100, 10)],\n",
    "                                                             include_lowest=True)"
   ]
  },
  {
   "cell_type": "markdown",
   "metadata": {},
   "source": [
    "# Data analysis"
   ]
  },
  {
   "cell_type": "markdown",
   "metadata": {},
   "source": [
    "We know have everything in place to perform our analysis. We first check if there is a correlation between the release month of a movie and the box office revenue."
   ]
  },
  {
   "cell_type": "code",
   "execution_count": 70,
   "metadata": {},
   "outputs": [
    {
     "data": {
      "text/plain": [
       "SignificanceResult(statistic=0.09366287903172422, pvalue=1.0366280870920575e-14)"
      ]
     },
     "execution_count": 70,
     "metadata": {},
     "output_type": "execute_result"
    }
   ],
   "source": [
    "# Compute the correlation between release month and log revenues\n",
    "stats.spearmanr(months_df['Month'], months_df['log_revenues'])"
   ]
  },
  {
   "cell_type": "markdown",
   "metadata": {},
   "source": [
    "By running the spearman correlation test, we can see that the pvalue << 0.05 which rejects the null hypothesis that the box office revenues and release month are uncorrelated. Investigating which months result in higher box office revenues is thus a good idea."
   ]
  },
  {
   "cell_type": "code",
   "execution_count": 81,
   "metadata": {},
   "outputs": [
    {
     "name": "stderr",
     "output_type": "stream",
     "text": [
      "C:\\Users\\41794\\anaconda3\\envs\\ada\\Lib\\site-packages\\seaborn\\_oldcore.py:1498: FutureWarning: is_categorical_dtype is deprecated and will be removed in a future version. Use isinstance(dtype, CategoricalDtype) instead\n",
      "  if pd.api.types.is_categorical_dtype(vector):\n",
      "C:\\Users\\41794\\anaconda3\\envs\\ada\\Lib\\site-packages\\seaborn\\_oldcore.py:1498: FutureWarning: is_categorical_dtype is deprecated and will be removed in a future version. Use isinstance(dtype, CategoricalDtype) instead\n",
      "  if pd.api.types.is_categorical_dtype(vector):\n",
      "C:\\Users\\41794\\anaconda3\\envs\\ada\\Lib\\site-packages\\seaborn\\_oldcore.py:1498: FutureWarning: is_categorical_dtype is deprecated and will be removed in a future version. Use isinstance(dtype, CategoricalDtype) instead\n",
      "  if pd.api.types.is_categorical_dtype(vector):\n"
     ]
    },
    {
     "data": {
      "image/png": "[encoded data removed]",
      "text/plain": [
       "<Figure size 640x480 with 1 Axes>"
      ]
     },
     "metadata": {},
     "output_type": "display_data"
    }
   ],
   "source": [
    "grouped_months = months_df.groupby(\"Month\").mean('log_revenues')\n",
    "# boxplot of the revenues for each month\n",
    "sns.boxplot(x='Month', y='log_revenues', data=months_df)\n",
    "plt.title(\"Distributions of the log revenues on different months\")\n",
    "plt.ylabel(\"box office revenue in log\")\n",
    "plt.xlabel(\"month\")\n",
    "plt.show()"
   ]
  },
  {
   "cell_type": "markdown",
   "metadata": {},
   "source": [
    "We can see that movies released in july, december and february have highest box offices. Next, we check if there is a link between the percentage of woman actress and the box office revenue."
   ]
  },
  {
   "cell_type": "code",
   "execution_count": 83,
   "metadata": {},
   "outputs": [
    {
     "data": {
      "text/plain": [
       "SignificanceResult(statistic=-0.11100154328686704, pvalue=1.3189039414068337e-255)"
      ]
     },
     "execution_count": 83,
     "metadata": {},
     "output_type": "execute_result"
    }
   ],
   "source": [
    "stats.spearmanr(gender_df['Percentage Women'], gender_df['log_revenues'])"
   ]
  },
  {
   "cell_type": "markdown",
   "metadata": {},
   "source": [
    "Again, by running the spearman correlation test, we can see that the pvalue << 0.05 which rejects the null hypothesis that the box office revenues and percentage of women actresses are uncorrelated. "
   ]
  },
  {
   "cell_type": "code",
   "execution_count": 98,
   "metadata": {},
   "outputs": [
    {
     "data": {
      "image/png": "[encoded data removed]",
      "text/plain": [
       "<Figure size 500x500 with 1 Axes>"
      ]
     },
     "metadata": {},
     "output_type": "display_data"
    }
   ],
   "source": [
    "# Create a scatter plot\n",
    "sns.lmplot(x='Percentage Women', y='log_revenues',data=gender_df,scatter_kws={'alpha':0.5, 's': 5},line_kws={'color': 'red'})\n",
    "\n",
    "# Set labels and title\n",
    "plt.xlabel('Female Percentage')\n",
    "plt.ylabel('Movie Revenue')\n",
    "plt.title('Scatter Plot of Movie Revenue as a Function of Female Percentage')\n",
    "\n",
    "# Show the plot\n",
    "plt.show()"
   ]
  },
  {
   "cell_type": "markdown",
   "metadata": {},
   "source": [
    "We can see from the plot that most of the highest box office revenues have a low number of women actresses compared to men actors."
   ]
  },
  {
   "cell_type": "markdown",
   "metadata": {},
   "source": [
    "# Work in progress"
   ]
  },
  {
   "cell_type": "markdown",
   "metadata": {},
   "source": [
    "## Using the plot_summary dataset, we perform a sentiment analysis over each movie summary extracting positive and negative words to make another feature to predit box office revenues."
   ]
  },
  {
   "cell_type": "code",
   "execution_count": 23,
   "metadata": {},
   "outputs": [
    {
     "name": "stdout",
     "output_type": "stream",
     "text": [
      "The shape of the summary metadata before removing duplicates is : (42303, 2)\n",
      "The shape of the summary metadata after removing duplicates is : (42295, 2)\n"
     ]
    }
   ],
   "source": [
    "#create a copy for the summary metadata\n",
    "summary_metadata_copy = plot_summaries_df.copy()\n",
    "print(f\"The shape of the summary metadata before removing duplicates is : {summary_metadata_copy.shape}\")\n",
    "\n",
    "#Remove duplicate values\n",
    "summary_metadata_copy = summary_metadata_copy.drop_duplicates(\"Movie Summary\")\n",
    "print(f\"The shape of the summary metadata after removing duplicates is : {summary_metadata_copy.shape}\")"
   ]
  },
  {
   "cell_type": "code",
   "execution_count": 24,
   "metadata": {},
   "outputs": [
    {
     "data": {
      "text/html": [
       "<div>\n",
       "<style scoped>\n",
       "    .dataframe tbody tr th:only-of-type {\n",
       "        vertical-align: middle;\n",
       "    }\n",
       "\n",
       "    .dataframe tbody tr th {\n",
       "        vertical-align: top;\n",
       "    }\n",
       "\n",
       "    .dataframe thead th {\n",
       "        text-align: right;\n",
       "    }\n",
       "</style>\n",
       "<table border=\"1\" class=\"dataframe\">\n",
       "  <thead>\n",
       "    <tr style=\"text-align: right;\">\n",
       "      <th></th>\n",
       "      <th>Movie ID</th>\n",
       "      <th>Movie Summary</th>\n",
       "      <th>tokenized_summary</th>\n",
       "    </tr>\n",
       "  </thead>\n",
       "  <tbody>\n",
       "    <tr>\n",
       "      <th>0</th>\n",
       "      <td>23890098</td>\n",
       "      <td>Shlykov, a hard-working taxi driver and Lyosha...</td>\n",
       "      <td>[Shlykov, a, taxi, driver, and, Lyosha, a, sax...</td>\n",
       "    </tr>\n",
       "    <tr>\n",
       "      <th>1</th>\n",
       "      <td>31186339</td>\n",
       "      <td>The nation of Panem consists of a wealthy Capi...</td>\n",
       "      <td>[The, nation, of, Panem, consists, of, a, weal...</td>\n",
       "    </tr>\n",
       "    <tr>\n",
       "      <th>2</th>\n",
       "      <td>20663735</td>\n",
       "      <td>Poovalli Induchoodan  is sentenced for six yea...</td>\n",
       "      <td>[Poovalli, Induchoodan, is, sentenced, for, si...</td>\n",
       "    </tr>\n",
       "    <tr>\n",
       "      <th>3</th>\n",
       "      <td>2231378</td>\n",
       "      <td>The Lemon Drop Kid , a New York City swindler,...</td>\n",
       "      <td>[The, Lemon, Drop, Kid, a, New, York, City, sw...</td>\n",
       "    </tr>\n",
       "    <tr>\n",
       "      <th>4</th>\n",
       "      <td>595909</td>\n",
       "      <td>Seventh-day Adventist Church pastor Michael Ch...</td>\n",
       "      <td>[Adventist, Church, pastor, Michael, Chamberla...</td>\n",
       "    </tr>\n",
       "    <tr>\n",
       "      <th>...</th>\n",
       "      <td>...</td>\n",
       "      <td>...</td>\n",
       "      <td>...</td>\n",
       "    </tr>\n",
       "    <tr>\n",
       "      <th>42298</th>\n",
       "      <td>34808485</td>\n",
       "      <td>The story is about Reema , a young Muslim scho...</td>\n",
       "      <td>[The, story, is, about, Reema, a, young, Musli...</td>\n",
       "    </tr>\n",
       "    <tr>\n",
       "      <th>42299</th>\n",
       "      <td>1096473</td>\n",
       "      <td>In 1928 Hollywood, director Leo Andreyev  look...</td>\n",
       "      <td>[In, Hollywood, director, Leo, Andreyev, looks...</td>\n",
       "    </tr>\n",
       "    <tr>\n",
       "      <th>42300</th>\n",
       "      <td>35102018</td>\n",
       "      <td>American Luthier focuses on Randy Parsons’ tra...</td>\n",
       "      <td>[American, Luthier, focuses, on, Randy, Parson...</td>\n",
       "    </tr>\n",
       "    <tr>\n",
       "      <th>42301</th>\n",
       "      <td>8628195</td>\n",
       "      <td>Abdur Rehman Khan , a middle-aged dry fruit se...</td>\n",
       "      <td>[Abdur, Rehman, Khan, a, dry, fruit, seller, f...</td>\n",
       "    </tr>\n",
       "    <tr>\n",
       "      <th>42302</th>\n",
       "      <td>6040782</td>\n",
       "      <td>1940 - Operation Dynamo has just taken place. ...</td>\n",
       "      <td>[Operation, Dynamo, has, just, taken, place, F...</td>\n",
       "    </tr>\n",
       "  </tbody>\n",
       "</table>\n",
       "<p>42295 rows × 3 columns</p>\n",
       "</div>"
      ],
      "text/plain": [
       "       Movie ID                                      Movie Summary  \\\n",
       "0      23890098  Shlykov, a hard-working taxi driver and Lyosha...   \n",
       "1      31186339  The nation of Panem consists of a wealthy Capi...   \n",
       "2      20663735  Poovalli Induchoodan  is sentenced for six yea...   \n",
       "3       2231378  The Lemon Drop Kid , a New York City swindler,...   \n",
       "4        595909  Seventh-day Adventist Church pastor Michael Ch...   \n",
       "...         ...                                                ...   \n",
       "42298  34808485  The story is about Reema , a young Muslim scho...   \n",
       "42299   1096473  In 1928 Hollywood, director Leo Andreyev  look...   \n",
       "42300  35102018  American Luthier focuses on Randy Parsons’ tra...   \n",
       "42301   8628195  Abdur Rehman Khan , a middle-aged dry fruit se...   \n",
       "42302   6040782  1940 - Operation Dynamo has just taken place. ...   \n",
       "\n",
       "                                       tokenized_summary  \n",
       "0      [Shlykov, a, taxi, driver, and, Lyosha, a, sax...  \n",
       "1      [The, nation, of, Panem, consists, of, a, weal...  \n",
       "2      [Poovalli, Induchoodan, is, sentenced, for, si...  \n",
       "3      [The, Lemon, Drop, Kid, a, New, York, City, sw...  \n",
       "4      [Adventist, Church, pastor, Michael, Chamberla...  \n",
       "...                                                  ...  \n",
       "42298  [The, story, is, about, Reema, a, young, Musli...  \n",
       "42299  [In, Hollywood, director, Leo, Andreyev, looks...  \n",
       "42300  [American, Luthier, focuses, on, Randy, Parson...  \n",
       "42301  [Abdur, Rehman, Khan, a, dry, fruit, seller, f...  \n",
       "42302  [Operation, Dynamo, has, just, taken, place, F...  \n",
       "\n",
       "[42295 rows x 3 columns]"
      ]
     },
     "metadata": {},
     "output_type": "display_data"
    }
   ],
   "source": [
    "#add a column containing tokenized summaries into words\n",
    "summary_metadata_copy.loc[:, 'tokenized_summary'] = summary_metadata_copy.apply(lambda x: tokenize(x['Movie Summary']), axis=1)\n",
    "\n",
    "display(summary_metadata_copy)"
   ]
  },
  {
   "cell_type": "code",
   "execution_count": 25,
   "metadata": {},
   "outputs": [
    {
     "data": {
      "text/html": [
       "<div>\n",
       "<style scoped>\n",
       "    .dataframe tbody tr th:only-of-type {\n",
       "        vertical-align: middle;\n",
       "    }\n",
       "\n",
       "    .dataframe tbody tr th {\n",
       "        vertical-align: top;\n",
       "    }\n",
       "\n",
       "    .dataframe thead th {\n",
       "        text-align: right;\n",
       "    }\n",
       "</style>\n",
       "<table border=\"1\" class=\"dataframe\">\n",
       "  <thead>\n",
       "    <tr style=\"text-align: right;\">\n",
       "      <th></th>\n",
       "      <th>Movie ID</th>\n",
       "      <th>Movie Summary</th>\n",
       "      <th>tokenized_summary</th>\n",
       "      <th>filtered_Tokens</th>\n",
       "    </tr>\n",
       "  </thead>\n",
       "  <tbody>\n",
       "    <tr>\n",
       "      <th>0</th>\n",
       "      <td>23890098</td>\n",
       "      <td>Shlykov, a hard-working taxi driver and Lyosha...</td>\n",
       "      <td>[Shlykov, a, taxi, driver, and, Lyosha, a, sax...</td>\n",
       "      <td>[Shlykov, taxi, driver, Lyosha, saxophonist, d...</td>\n",
       "    </tr>\n",
       "    <tr>\n",
       "      <th>1</th>\n",
       "      <td>31186339</td>\n",
       "      <td>The nation of Panem consists of a wealthy Capi...</td>\n",
       "      <td>[The, nation, of, Panem, consists, of, a, weal...</td>\n",
       "      <td>[nation, Panem, consists, wealthy, Capitol, tw...</td>\n",
       "    </tr>\n",
       "    <tr>\n",
       "      <th>2</th>\n",
       "      <td>20663735</td>\n",
       "      <td>Poovalli Induchoodan  is sentenced for six yea...</td>\n",
       "      <td>[Poovalli, Induchoodan, is, sentenced, for, si...</td>\n",
       "      <td>[Poovalli, Induchoodan, sentenced, six, years,...</td>\n",
       "    </tr>\n",
       "    <tr>\n",
       "      <th>3</th>\n",
       "      <td>2231378</td>\n",
       "      <td>The Lemon Drop Kid , a New York City swindler,...</td>\n",
       "      <td>[The, Lemon, Drop, Kid, a, New, York, City, sw...</td>\n",
       "      <td>[Lemon, Drop, Kid, New, York, City, swindler, ...</td>\n",
       "    </tr>\n",
       "    <tr>\n",
       "      <th>4</th>\n",
       "      <td>595909</td>\n",
       "      <td>Seventh-day Adventist Church pastor Michael Ch...</td>\n",
       "      <td>[Adventist, Church, pastor, Michael, Chamberla...</td>\n",
       "      <td>[Adventist, Church, pastor, Michael, Chamberla...</td>\n",
       "    </tr>\n",
       "    <tr>\n",
       "      <th>...</th>\n",
       "      <td>...</td>\n",
       "      <td>...</td>\n",
       "      <td>...</td>\n",
       "      <td>...</td>\n",
       "    </tr>\n",
       "    <tr>\n",
       "      <th>42298</th>\n",
       "      <td>34808485</td>\n",
       "      <td>The story is about Reema , a young Muslim scho...</td>\n",
       "      <td>[The, story, is, about, Reema, a, young, Musli...</td>\n",
       "      <td>[story, Reema, young, Muslim, schoolgirl, Mala...</td>\n",
       "    </tr>\n",
       "    <tr>\n",
       "      <th>42299</th>\n",
       "      <td>1096473</td>\n",
       "      <td>In 1928 Hollywood, director Leo Andreyev  look...</td>\n",
       "      <td>[In, Hollywood, director, Leo, Andreyev, looks...</td>\n",
       "      <td>[Hollywood, director, Leo, Andreyev, looks, ph...</td>\n",
       "    </tr>\n",
       "    <tr>\n",
       "      <th>42300</th>\n",
       "      <td>35102018</td>\n",
       "      <td>American Luthier focuses on Randy Parsons’ tra...</td>\n",
       "      <td>[American, Luthier, focuses, on, Randy, Parson...</td>\n",
       "      <td>[American, Luthier, focuses, Randy, Parsons, t...</td>\n",
       "    </tr>\n",
       "    <tr>\n",
       "      <th>42301</th>\n",
       "      <td>8628195</td>\n",
       "      <td>Abdur Rehman Khan , a middle-aged dry fruit se...</td>\n",
       "      <td>[Abdur, Rehman, Khan, a, dry, fruit, seller, f...</td>\n",
       "      <td>[Abdur, Rehman, Khan, dry, fruit, seller, Afgh...</td>\n",
       "    </tr>\n",
       "    <tr>\n",
       "      <th>42302</th>\n",
       "      <td>6040782</td>\n",
       "      <td>1940 - Operation Dynamo has just taken place. ...</td>\n",
       "      <td>[Operation, Dynamo, has, just, taken, place, F...</td>\n",
       "      <td>[Operation, Dynamo, taken, place, newly, conqu...</td>\n",
       "    </tr>\n",
       "  </tbody>\n",
       "</table>\n",
       "<p>42295 rows × 4 columns</p>\n",
       "</div>"
      ],
      "text/plain": [
       "       Movie ID                                      Movie Summary  \\\n",
       "0      23890098  Shlykov, a hard-working taxi driver and Lyosha...   \n",
       "1      31186339  The nation of Panem consists of a wealthy Capi...   \n",
       "2      20663735  Poovalli Induchoodan  is sentenced for six yea...   \n",
       "3       2231378  The Lemon Drop Kid , a New York City swindler,...   \n",
       "4        595909  Seventh-day Adventist Church pastor Michael Ch...   \n",
       "...         ...                                                ...   \n",
       "42298  34808485  The story is about Reema , a young Muslim scho...   \n",
       "42299   1096473  In 1928 Hollywood, director Leo Andreyev  look...   \n",
       "42300  35102018  American Luthier focuses on Randy Parsons’ tra...   \n",
       "42301   8628195  Abdur Rehman Khan , a middle-aged dry fruit se...   \n",
       "42302   6040782  1940 - Operation Dynamo has just taken place. ...   \n",
       "\n",
       "                                       tokenized_summary  \\\n",
       "0      [Shlykov, a, taxi, driver, and, Lyosha, a, sax...   \n",
       "1      [The, nation, of, Panem, consists, of, a, weal...   \n",
       "2      [Poovalli, Induchoodan, is, sentenced, for, si...   \n",
       "3      [The, Lemon, Drop, Kid, a, New, York, City, sw...   \n",
       "4      [Adventist, Church, pastor, Michael, Chamberla...   \n",
       "...                                                  ...   \n",
       "42298  [The, story, is, about, Reema, a, young, Musli...   \n",
       "42299  [In, Hollywood, director, Leo, Andreyev, looks...   \n",
       "42300  [American, Luthier, focuses, on, Randy, Parson...   \n",
       "42301  [Abdur, Rehman, Khan, a, dry, fruit, seller, f...   \n",
       "42302  [Operation, Dynamo, has, just, taken, place, F...   \n",
       "\n",
       "                                         filtered_Tokens  \n",
       "0      [Shlykov, taxi, driver, Lyosha, saxophonist, d...  \n",
       "1      [nation, Panem, consists, wealthy, Capitol, tw...  \n",
       "2      [Poovalli, Induchoodan, sentenced, six, years,...  \n",
       "3      [Lemon, Drop, Kid, New, York, City, swindler, ...  \n",
       "4      [Adventist, Church, pastor, Michael, Chamberla...  \n",
       "...                                                  ...  \n",
       "42298  [story, Reema, young, Muslim, schoolgirl, Mala...  \n",
       "42299  [Hollywood, director, Leo, Andreyev, looks, ph...  \n",
       "42300  [American, Luthier, focuses, Randy, Parsons, t...  \n",
       "42301  [Abdur, Rehman, Khan, dry, fruit, seller, Afgh...  \n",
       "42302  [Operation, Dynamo, taken, place, newly, conqu...  \n",
       "\n",
       "[42295 rows x 4 columns]"
      ]
     },
     "metadata": {},
     "output_type": "display_data"
    }
   ],
   "source": [
    "#Filter the column containing tokenized text by deleting all stopwords\n",
    "summary_metadata_copy.loc[:, 'filtered_Tokens'] = summary_metadata_copy['tokenized_summary'].apply(lambda tokens: [word for word in tokens if word.lower() not in stop_words])\n",
    "\n",
    "display(summary_metadata_copy)"
   ]
  },
  {
   "cell_type": "code",
   "execution_count": null,
   "metadata": {},
   "outputs": [],
   "source": [
    "#Initialize an empty list to store percentage of positive, negative and neutral words in each row of the 'filtered_Tokens' column \n",
    "positive_scores = []\n",
    "negative_scores = []\n",
    "neutral_scores = []\n",
    "sentiment_scores = []\n",
    "\n",
    "#Perform sentiment analysis on each word\n",
    "for liss in summary_metadata_copy['filtered_Tokens'] :\n",
    "  \n",
    "  # initialize all the counter to 0\n",
    "  nbr_words_pos = 0\n",
    "  nbr_words_neg = 0\n",
    "  nbr_words_neu = 0\n",
    "  nbr_words = 0\n",
    "\n",
    "  for word in liss:\n",
    "    nbr_words+= 1\n",
    "    blob = TextBlob(word)\n",
    "    #perform sentiment polarities of the word\n",
    "    if (blob.sentiment.polarity > 0):\n",
    "        nbr_words_pos += 1\n",
    "    elif (blob.sentiment.polarity < 0):\n",
    "        nbr_words_neg += 1\n",
    "    else:\n",
    "        nbr_words_neu += 1\n",
    "    \n",
    "  positive_scores.append(nbr_words_pos/nbr_words * 100)\n",
    "  negative_scores.append(nbr_words_neg/nbr_words * 100)\n",
    "  neutral_scores.append(nbr_words_neu/nbr_words * 100)"
   ]
  },
  {
   "cell_type": "code",
   "execution_count": null,
   "metadata": {},
   "outputs": [],
   "source": [
    "#create columns to store percentage of positive, negative and neutral words in each row of the 'filtered_Tokens' column\n",
    "summary_metadata_copy.loc[:,\"percentage of positive words\"] = positive_scores\n",
    "summary_metadata_copy.loc[:,\"percentage of negative words\"] = negative_scores\n",
    "summary_metadata_copy.loc[:,\"percentage of neutral words\"] = neutral_scores\n",
    "summary_metadata_copy.head(5)"
   ]
  },
  {
   "cell_type": "code",
   "execution_count": null,
   "metadata": {},
   "outputs": [],
   "source": [
    "# Merge the movie and summary dataframes based on the \"Movie ID\"\n",
    "movie_summary_metadata = pd.merge(movie_df, summary_metadata_copy, on=\"Movie ID\", how='outer')\n",
    "\n",
    "# Drop NAN values\n",
    "movie_summary_metadata.dropna(inplace=True)\n",
    "\n",
    "movie_summary_metadata.head(3)"
   ]
  },
  {
   "cell_type": "markdown",
   "metadata": {},
   "source": [
    "## Using the plot_summary dataset, we use NER, or Named Entity Recognition, to identify and classify entities (objects, people, locations, dates, etc.) in each movie summary text, extracting different entities occurences in a text and computing a \"score\" over these occurences"
   ]
  },
  {
   "cell_type": "code",
   "execution_count": 100,
   "metadata": {},
   "outputs": [
    {
     "name": "stdout",
     "output_type": "stream",
     "text": [
      "The shape of the summary metadata before removing duplicates is : (42295, 4)\n",
      "The shape of the summary metadata after removing duplicates is : (42295, 4)\n"
     ]
    }
   ],
   "source": [
    "#create a copy for the summary metadata\n",
    "summary_metadata_scores = plot_summaries_df.copy()\n",
    "print(f\"The shape of the summary metadata before removing duplicates is : {summary_metadata_copy.shape}\")\n",
    "\n",
    "#Remove duplicate values\n",
    "summary_metadata_scores = summary_metadata_scores.drop_duplicates(\"Movie Summary\")\n",
    "print(f\"The shape of the summary metadata after removing duplicates is : {summary_metadata_copy.shape}\")"
   ]
  },
  {
   "cell_type": "code",
   "execution_count": 101,
   "metadata": {
    "scrolled": true
   },
   "outputs": [
    {
     "data": {
      "text/html": [
       "<div>\n",
       "<style scoped>\n",
       "    .dataframe tbody tr th:only-of-type {\n",
       "        vertical-align: middle;\n",
       "    }\n",
       "\n",
       "    .dataframe tbody tr th {\n",
       "        vertical-align: top;\n",
       "    }\n",
       "\n",
       "    .dataframe thead th {\n",
       "        text-align: right;\n",
       "    }\n",
       "</style>\n",
       "<table border=\"1\" class=\"dataframe\">\n",
       "  <thead>\n",
       "    <tr style=\"text-align: right;\">\n",
       "      <th></th>\n",
       "      <th>Movie ID</th>\n",
       "      <th>Movie Summary</th>\n",
       "      <th>Score</th>\n",
       "    </tr>\n",
       "  </thead>\n",
       "  <tbody>\n",
       "    <tr>\n",
       "      <th>0</th>\n",
       "      <td>23890098</td>\n",
       "      <td>Shlykov, a hard-working taxi driver and Lyosha...</td>\n",
       "      <td>1.000000</td>\n",
       "    </tr>\n",
       "    <tr>\n",
       "      <th>1</th>\n",
       "      <td>31186339</td>\n",
       "      <td>The nation of Panem consists of a wealthy Capi...</td>\n",
       "      <td>1.240385</td>\n",
       "    </tr>\n",
       "    <tr>\n",
       "      <th>2</th>\n",
       "      <td>20663735</td>\n",
       "      <td>Poovalli Induchoodan  is sentenced for six yea...</td>\n",
       "      <td>2.230769</td>\n",
       "    </tr>\n",
       "    <tr>\n",
       "      <th>3</th>\n",
       "      <td>2231378</td>\n",
       "      <td>The Lemon Drop Kid , a New York City swindler,...</td>\n",
       "      <td>1.183673</td>\n",
       "    </tr>\n",
       "    <tr>\n",
       "      <th>4</th>\n",
       "      <td>595909</td>\n",
       "      <td>Seventh-day Adventist Church pastor Michael Ch...</td>\n",
       "      <td>1.633333</td>\n",
       "    </tr>\n",
       "    <tr>\n",
       "      <th>...</th>\n",
       "      <td>...</td>\n",
       "      <td>...</td>\n",
       "      <td>...</td>\n",
       "    </tr>\n",
       "    <tr>\n",
       "      <th>42298</th>\n",
       "      <td>34808485</td>\n",
       "      <td>The story is about Reema , a young Muslim scho...</td>\n",
       "      <td>NaN</td>\n",
       "    </tr>\n",
       "    <tr>\n",
       "      <th>42299</th>\n",
       "      <td>1096473</td>\n",
       "      <td>In 1928 Hollywood, director Leo Andreyev  look...</td>\n",
       "      <td>NaN</td>\n",
       "    </tr>\n",
       "    <tr>\n",
       "      <th>42300</th>\n",
       "      <td>35102018</td>\n",
       "      <td>American Luthier focuses on Randy Parsons’ tra...</td>\n",
       "      <td>NaN</td>\n",
       "    </tr>\n",
       "    <tr>\n",
       "      <th>42301</th>\n",
       "      <td>8628195</td>\n",
       "      <td>Abdur Rehman Khan , a middle-aged dry fruit se...</td>\n",
       "      <td>NaN</td>\n",
       "    </tr>\n",
       "    <tr>\n",
       "      <th>42302</th>\n",
       "      <td>6040782</td>\n",
       "      <td>1940 - Operation Dynamo has just taken place. ...</td>\n",
       "      <td>NaN</td>\n",
       "    </tr>\n",
       "  </tbody>\n",
       "</table>\n",
       "<p>42295 rows × 3 columns</p>\n",
       "</div>"
      ],
      "text/plain": [
       "       Movie ID                                      Movie Summary     Score\n",
       "0      23890098  Shlykov, a hard-working taxi driver and Lyosha...  1.000000\n",
       "1      31186339  The nation of Panem consists of a wealthy Capi...  1.240385\n",
       "2      20663735  Poovalli Induchoodan  is sentenced for six yea...  2.230769\n",
       "3       2231378  The Lemon Drop Kid , a New York City swindler,...  1.183673\n",
       "4        595909  Seventh-day Adventist Church pastor Michael Ch...  1.633333\n",
       "...         ...                                                ...       ...\n",
       "42298  34808485  The story is about Reema , a young Muslim scho...       NaN\n",
       "42299   1096473  In 1928 Hollywood, director Leo Andreyev  look...       NaN\n",
       "42300  35102018  American Luthier focuses on Randy Parsons’ tra...       NaN\n",
       "42301   8628195  Abdur Rehman Khan , a middle-aged dry fruit se...       NaN\n",
       "42302   6040782  1940 - Operation Dynamo has just taken place. ...       NaN\n",
       "\n",
       "[42295 rows x 3 columns]"
      ]
     },
     "metadata": {},
     "output_type": "display_data"
    }
   ],
   "source": [
    "#List of entity types and weights (weights are chosen manually)\n",
    "entity_weights = {\n",
    "    \"PERSON\": 1,\n",
    "    \"ORG\": 1,\n",
    "    \"GPE\": 1,\n",
    "    \"LOC\": 1,\n",
    "    \"DATE\": 0.5,\n",
    "    \"TIME\": 0.5,\n",
    "    \"MONEY\": 0.5,\n",
    "    \"PERCENT\": 0.5,\n",
    "    \"QUANTITY\": 0.5,\n",
    "    \"ORDINAL\": 0.5,\n",
    "    \"CARDINAL\": 0.5\n",
    "}\n",
    "\n",
    "#Function to calculate the score for a summary\n",
    "def calculate_score(summary):\n",
    "    doc = nlp(summary)\n",
    "    \n",
    "    # Calculate entity occurrences for each sentence\n",
    "    sentence_scores = []\n",
    "    for sentence in doc.sents:\n",
    "        entity_counts = Counter([ent.label_ for ent in sentence.ents])\n",
    "        sentence_score = sum(entity_counts.get(entity, 0) * weight for entity, weight in entity_weights.items())\n",
    "        sentence_scores.append(sentence_score)\n",
    "    #mean over scores of all sentences of each movie summary\n",
    "    return np.mean(sentence_scores)\n",
    "\n",
    "\n",
    "file_path = 'external_dataset/movie_score.csv' # Replace with the actual path to your file\n",
    "\n",
    "if os.path.exists(file_path):\n",
    "    score = pd.read_csv(file_path)\n",
    "    summary_metadata_scores['Score'] = score['Score']\n",
    "else:\n",
    "    #Add a new column 'Scores' to the DataFrame\n",
    "    summary_metadata_scores['Score'] = summary_metadata_scores[\"Movie Summary\"].apply(calculate_score)\n",
    "\n",
    "#Print the resulting DataFrame\n",
    "display(summary_metadata_scores)"
   ]
  },
  {
   "cell_type": "code",
   "execution_count": 102,
   "metadata": {},
   "outputs": [],
   "source": [
    "# Save scores to avoid unnecessary recomputations each time needed\n",
    "summary_metadata_scores[['Movie ID','Score']].to_csv('external_dataset/movie_score.csv', index=False)"
   ]
  },
  {
   "cell_type": "code",
   "execution_count": null,
   "metadata": {},
   "outputs": [],
   "source": [
    "# Merge the movie and summary dataframes based on the \"Movie ID\"\n",
    "movie_summary_metadata = pd.merge(movie_metadata, summary_metadata_copy, on=\"Movie ID\", how='outer')\n",
    "\n",
    "# Drop NAN values\n",
    "movie_summary_metadata.dropna(inplace=True)\n",
    "\n",
    "movie_summary_metadata.head(3)"
   ]
  }
 ],
 "metadata": {
  "kernelspec": {
   "display_name": "Python [conda env:ada] *",
   "language": "python",
   "name": "conda-env-ada-py"
  },
  "language_info": {
   "codemirror_mode": {
    "name": "ipython",
    "version": 3
   },
   "file_extension": ".py",
   "mimetype": "text/x-python",
   "name": "python",
   "nbconvert_exporter": "python",
   "pygments_lexer": "ipython3",
   "version": "3.11.5"
  }
 },
 "nbformat": 4,
 "nbformat_minor": 1
}
