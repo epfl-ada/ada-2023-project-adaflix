{
 "cells": [
  {
   "cell_type": "markdown",
   "metadata": {},
   "source": [
    "# AdaFlix Milestone 2"
   ]
  },
  {
   "cell_type": "markdown",
   "metadata": {},
   "source": [
    "This notebook presents some preprocessing of our datasets, as well as an initial analysis of factors that contribute to a movie's financial success. In the first part of the notebook we clean the datasets and come up with features that will be used to perform some statistical analysis. The analysis will tell us what the significant factors of a movie's financial success are."
   ]
  },
  {
   "cell_type": "markdown",
   "metadata": {},
   "source": [
    "# Imports, loading and downloads"
   ]
  },
  {
   "cell_type": "code",
   "execution_count": 216,
   "metadata": {},
   "outputs": [],
   "source": [
    "#! pip install spacy\n",
    "#!pip install -U textblob\n",
    "#!pip install --user -U nltk\n",
    "#!python -m spacy download en_core_web_sm"
   ]
  },
  {
   "cell_type": "code",
   "execution_count": 217,
   "metadata": {},
   "outputs": [
    {
     "name": "stderr",
     "output_type": "stream",
     "text": [
      "[nltk_data] Downloading package punkt to\n",
      "[nltk_data]     C:\\Users\\41794\\AppData\\Roaming\\nltk_data...\n",
      "[nltk_data]   Package punkt is already up-to-date!\n",
      "[nltk_data] Downloading package stopwords to\n",
      "[nltk_data]     C:\\Users\\41794\\AppData\\Roaming\\nltk_data...\n",
      "[nltk_data]   Package stopwords is already up-to-date!\n"
     ]
    }
   ],
   "source": [
    "import os\n",
    "import json\n",
    "import numpy as np\n",
    "import pandas as pd\n",
    "import seaborn as sns\n",
    "import statsmodels.api as sm\n",
    "import statsmodels.formula.api as smf\n",
    "import matplotlib.pyplot as plt\n",
    "from sklearn.cluster import KMeans\n",
    "\n",
    "import nltk\n",
    "import spacy\n",
    "import string\n",
    "from scipy import stats\n",
    "from textblob import TextBlob\n",
    "from collections import Counter\n",
    "from nltk.sentiment.util import *\n",
    "from nltk.corpus import stopwords\n",
    "from sklearn import preprocessing\n",
    "from nltk.corpus import subjectivity\n",
    "from nltk.tokenize import word_tokenize\n",
    "from spacy.lang.en.examples import sentences\n",
    "from nltk.sentiment import SentimentAnalyzer\n",
    "from nltk.classify import NaiveBayesClassifier\n",
    "from sklearn.metrics import mean_squared_error\n",
    "from sklearn.linear_model import LinearRegression\n",
    "from scripts.helper import *\n",
    "from scripts.plot import *\n",
    "from loads import *\n",
    "import os\n",
    "\n",
    "nltk.download('punkt')\n",
    "nltk.download('stopwords')\n",
    "nlp = spacy.load(\"en_core_web_sm\")\n",
    "stop_words = set(stopwords.words('english'))\n",
    "stop_words.add(string.punctuation)\n",
    "\n",
    "PATH_FOLDER = \"MovieSummaries/\""
   ]
  },
  {
   "cell_type": "code",
   "execution_count": 218,
   "metadata": {},
   "outputs": [
    {
     "name": "stderr",
     "output_type": "stream",
     "text": [
      "C:\\Users\\41794\\anaconda3\\envs\\ada\\Lib\\site-packages\\openpyxl\\styles\\stylesheet.py:226: UserWarning: Workbook contains no default style, apply openpyxl's default\n",
      "  warn(\"Workbook contains no default style, apply openpyxl's default\")\n"
     ]
    }
   ],
   "source": [
    "# Loading character metadata DataFrame\n",
    "character_df = load_character_metadata()\n",
    "# Loading movie metadata DataFrame\n",
    "movie_df = load_movie_metadata()\n",
    "# Loading plot summaries DataFrame\n",
    "plot_summaries_df = load_plot_summaries()\n",
    "# Loading TVTropes DataFrame\n",
    "tvtropes_df = load_tvtropes()\n",
    "# Loading name clusters DataFrame\n",
    "name_clusters_df = load_name_clusters()\n",
    "# Loading inflation DataFrame\n",
    "inflation = pd.read_excel(\"external_dataset/inflation.xlsx\", header=11)"
   ]
  },
  {
   "cell_type": "markdown",
   "metadata": {},
   "source": [
    "# Preprocessing"
   ]
  },
  {
   "cell_type": "markdown",
   "metadata": {},
   "source": [
    "## CLEANING"
   ]
  },
  {
   "cell_type": "markdown",
   "metadata": {},
   "source": [
    "#### MOVIE METADATA Cleaning"
   ]
  },
  {
   "cell_type": "markdown",
   "metadata": {},
   "source": [
    "We are first extracting variables that have the form (ID : variable) tuples to be able to use these features."
   ]
  },
  {
   "cell_type": "code",
   "execution_count": 219,
   "metadata": {},
   "outputs": [],
   "source": [
    "# Extracting and transforming the 'Movie languages (Freebase ID:name tuples)' column\n",
    "# Applying a lambda function to convert the JSON-like string to a list of language names\n",
    "movie_df['Movie Languages'] = movie_df['Movie languages (Freebase ID:name tuples)'].apply(lambda x: list(json.loads(x).values()))\n",
    "# Extracting and transforming the 'Movie countries (Freebase ID:name tuples)' column\n",
    "# Applying a lambda function to convert the JSON-like string to a list of country names\n",
    "movie_df['Movie Countries'] = movie_df['Movie countries (Freebase ID:name tuples)'].apply(lambda x: list(json.loads(x).values()))\n",
    "# Extracting and transforming the 'Movie genres (Freebase ID:name tuples)' column\n",
    "# Applying a lambda function to convert the JSON-like string to a list of genre names\n",
    "movie_df['Movie Genres'] = movie_df['Movie genres (Freebase ID:name tuples)'].apply(lambda x: list(json.loads(x).values()))"
   ]
  },
  {
   "cell_type": "markdown",
   "metadata": {},
   "source": [
    "A lot of columns in the dataframe contain IDs that we don't need, we are thus, dropping them."
   ]
  },
  {
   "cell_type": "code",
   "execution_count": 220,
   "metadata": {},
   "outputs": [],
   "source": [
    "# List of columns to be dropped from the DataFrame\n",
    "movie_columns_to_drop = ['Movie languages (Freebase ID:name tuples)', 'Movie countries (Freebase ID:name tuples)','Movie genres (Freebase ID:name tuples)','Freebase movie ID']\n",
    "# Dropping specified columns from the DataFrame\n",
    "movie_df.drop(movie_columns_to_drop, axis=1, inplace=True)"
   ]
  },
  {
   "cell_type": "markdown",
   "metadata": {},
   "source": [
    "Our main interest is to see what features result in higher boxe office revenues, so we need to drop movies with missing revenue (Nan)."
   ]
  },
  {
   "cell_type": "code",
   "execution_count": 221,
   "metadata": {},
   "outputs": [],
   "source": [
    "# Dropping rows from the DataFrame where 'Movie box office revenue' is NaN\n",
    "movie_df.dropna(subset=['Movie box office revenue'], inplace=True)"
   ]
  },
  {
   "cell_type": "markdown",
   "metadata": {},
   "source": [
    "One of our feature of interest is the release date of the movies. We are thus, processing the column, for it to be usable in our analysis. We extract Year and Month from the Movie release date (date format YYYY and YYYY-MM-DD can't be dealt together)."
   ]
  },
  {
   "cell_type": "code",
   "execution_count": 222,
   "metadata": {},
   "outputs": [],
   "source": [
    "# Dropping rows where 'Movie release date' is NaN\n",
    "movie_df.dropna(subset=[\"Movie release date\"], inplace=True)\n",
    "# Create a Year column in the movie dataframe\n",
    "movie_df['Year'] = movie_df[\"Movie release date\"].apply(lambda x: str(x)[:4]).astype(int)\n",
    "# Create a Month column in the movie dataframe\n",
    "movie_df['Month'] = pd.to_datetime(movie_df['Movie release date'],errors='coerce').dt.month"
   ]
  },
  {
   "cell_type": "markdown",
   "metadata": {},
   "source": [
    "### Inflation"
   ]
  },
  {
   "cell_type": "markdown",
   "metadata": {},
   "source": [
    "To be able to compare the the relative box office revenues across different years, we need to take inflation into account."
   ]
  },
  {
   "cell_type": "code",
   "execution_count": 223,
   "metadata": {},
   "outputs": [],
   "source": [
    "# Calculate cumulative inflation to 2022 using the last available annual inflation rate\n",
    "inflation[\"Cumulative Inflation to 2022\"] = inflation.iloc[-1].Annual / inflation[\"Annual\"]\n",
    "# Merge the movie DataFrame with the inflation DataFrame on the 'Year' column\n",
    "movie_with_inflation = pd.merge(movie_df, inflation.drop(['Annual'], axis=1), on='Year')\n",
    "# Calculate revenue with inflation by multiplying 'Movie box office revenue' with the 'Cumulative Inflation to 2022'\n",
    "movie_with_inflation['Revenue_with_inflation'] = movie_with_inflation['Movie box office revenue'] * movie_with_inflation['Cumulative Inflation to 2022']"
   ]
  },
  {
   "cell_type": "markdown",
   "metadata": {},
   "source": [
    "The original distribution of the inflated movie box office revenue exhibits a heavy-tailed pattern, with a few movies achieving extremely high revenues. By applying a logarithmic transformation on the x-axis, we approximate a \"more\" normal distribution, making the data more amenable to statistical analyses that assume normality."
   ]
  },
  {
   "cell_type": "code",
   "execution_count": 224,
   "metadata": {},
   "outputs": [
    {
     "data": {
      "text/plain": "Text(0, 0.5, 'Number of movies')"
     },
     "execution_count": 224,
     "metadata": {},
     "output_type": "execute_result"
    },
    {
     "data": {
      "text/plain": "<Figure size 1000x600 with 2 Axes>",
      "image/png": "[encoded data removed]"
     },
     "metadata": {},
     "output_type": "display_data"
    }
   ],
   "source": [
    "fig, axs = plt.subplots(1, 2, figsize=(10, 6))\n",
    "\n",
    "# Plotting the original distribution and the distribution after applying log function on the revenue feature\n",
    "movie_with_inflation['Revenue_with_inflation'].hist(ax=axs[0], bins=100, color='blue', edgecolor='black')\n",
    "movie_with_inflation['log_revenues'] = np.log(movie_with_inflation['Revenue_with_inflation'])\n",
    "movie_with_inflation['log_revenues'].hist(ax=axs[1], bins=100, color='blue', edgecolor='black')\n",
    "axs[0].set_title('Original Histogram')\n",
    "axs[0].set_xlabel('Inflated Box Office Revenue')\n",
    "axs[0].set_ylabel('Number of movies')\n",
    "axs[1].set_title('Histogram after applying log')\n",
    "axs[1].set_xlabel('Box Office Revenue')\n",
    "axs[1].set_ylabel('Number of movies')"
   ]
  },
  {
   "cell_type": "markdown",
   "metadata": {},
   "source": [
    "#### CHARACTER METADATA Cleaning"
   ]
  },
  {
   "cell_type": "markdown",
   "metadata": {},
   "source": [
    "Again, a lot of columns in the dataframe contain IDs that we don't need, as well as actors' heights, we are thus, dropping them."
   ]
  },
  {
   "cell_type": "code",
   "execution_count": 225,
   "metadata": {},
   "outputs": [],
   "source": [
    "# Dropping unnecessary character-related columns from the DataFrame\n",
    "character_columns_to_drop = ['Freebase movie ID', 'Actor ethnicity (Freebase ID)','Freebase character ID','Freebase actor ID','Actor height (in meters)']\n",
    "character_df.drop(character_columns_to_drop, axis=1, inplace=True)"
   ]
  },
  {
   "cell_type": "markdown",
   "metadata": {},
   "source": [
    "The plot summaries, run through the Stanford CoreNLP pipeline (tagging, parsing, NER and coref). Each filename begins with the Wikipedia movie ID (which indexes into movie.metadata.tsv)."
   ]
  },
  {
   "cell_type": "code",
   "execution_count": 226,
   "metadata": {
    "scrolled": true
   },
   "outputs": [
    {
     "data": {
      "text/plain": "       Rank                                       Title  \\\n0         1                                      Avatar   \n1         2                           Avengers: Endgame   \n2         3                    Avatar: The Way of Water   \n3         4                                     Titanic   \n4         5  Star Wars: Episode VII - The Force Awakens   \n...     ...                                         ...   \n2595    996                                  Hot Shots!   \n2596    997                           Road to Perdition   \n2597    998                           Kill Bill: Vol. 1   \n2598    999                           The Scorpion King   \n2599  1,000                          Sweet Home Alabama   \n\n     Worldwide Lifetime Gross Domestic Lifetime Gross Domestic %  \\\n0              $2,923,706,026            $785,221,649      26.9%   \n1              $2,799,439,100            $858,373,000      30.7%   \n2              $2,320,250,281            $684,075,767      29.5%   \n3              $2,264,743,305            $674,292,608      29.8%   \n4              $2,071,310,218            $936,662,225      45.2%   \n...                       ...                     ...        ...   \n2595             $181,096,164             $69,467,617      38.4%   \n2596             $181,001,478            $104,454,762      57.7%   \n2597             $180,906,076             $70,099,045      38.8%   \n2598             $180,630,907             $91,047,077      50.4%   \n2599             $180,622,424            $127,223,418      70.4%   \n\n     Foreign Lifetime Gross Foreign %  Year  \n0            $2,138,484,377     73.1%  2009  \n1            $1,941,066,100     69.3%  2019  \n2            $1,636,174,514     70.5%  2022  \n3            $1,590,450,697     70.2%  1997  \n4            $1,134,647,993     54.8%  2015  \n...                     ...       ...   ...  \n2595           $111,628,547     61.6%  1991  \n2596            $76,546,716     42.3%  2002  \n2597           $110,807,031     61.2%  2003  \n2598            $89,583,830     49.6%  2002  \n2599            $53,399,006     29.6%  2002  \n\n[2600 rows x 8 columns]",
      "text/html": "<div>\n<style scoped>\n    .dataframe tbody tr th:only-of-type {\n        vertical-align: middle;\n    }\n\n    .dataframe tbody tr th {\n        vertical-align: top;\n    }\n\n    .dataframe thead th {\n        text-align: right;\n    }\n</style>\n<table border=\"1\" class=\"dataframe\">\n  <thead>\n    <tr style=\"text-align: right;\">\n      <th></th>\n      <th>Rank</th>\n      <th>Title</th>\n      <th>Worldwide Lifetime Gross</th>\n      <th>Domestic Lifetime Gross</th>\n      <th>Domestic %</th>\n      <th>Foreign Lifetime Gross</th>\n      <th>Foreign %</th>\n      <th>Year</th>\n    </tr>\n  </thead>\n  <tbody>\n    <tr>\n      <th>0</th>\n      <td>1</td>\n      <td>Avatar</td>\n      <td>$2,923,706,026</td>\n      <td>$785,221,649</td>\n      <td>26.9%</td>\n      <td>$2,138,484,377</td>\n      <td>73.1%</td>\n      <td>2009</td>\n    </tr>\n    <tr>\n      <th>1</th>\n      <td>2</td>\n      <td>Avengers: Endgame</td>\n      <td>$2,799,439,100</td>\n      <td>$858,373,000</td>\n      <td>30.7%</td>\n      <td>$1,941,066,100</td>\n      <td>69.3%</td>\n      <td>2019</td>\n    </tr>\n    <tr>\n      <th>2</th>\n      <td>3</td>\n      <td>Avatar: The Way of Water</td>\n      <td>$2,320,250,281</td>\n      <td>$684,075,767</td>\n      <td>29.5%</td>\n      <td>$1,636,174,514</td>\n      <td>70.5%</td>\n      <td>2022</td>\n    </tr>\n    <tr>\n      <th>3</th>\n      <td>4</td>\n      <td>Titanic</td>\n      <td>$2,264,743,305</td>\n      <td>$674,292,608</td>\n      <td>29.8%</td>\n      <td>$1,590,450,697</td>\n      <td>70.2%</td>\n      <td>1997</td>\n    </tr>\n    <tr>\n      <th>4</th>\n      <td>5</td>\n      <td>Star Wars: Episode VII - The Force Awakens</td>\n      <td>$2,071,310,218</td>\n      <td>$936,662,225</td>\n      <td>45.2%</td>\n      <td>$1,134,647,993</td>\n      <td>54.8%</td>\n      <td>2015</td>\n    </tr>\n    <tr>\n      <th>...</th>\n      <td>...</td>\n      <td>...</td>\n      <td>...</td>\n      <td>...</td>\n      <td>...</td>\n      <td>...</td>\n      <td>...</td>\n      <td>...</td>\n    </tr>\n    <tr>\n      <th>2595</th>\n      <td>996</td>\n      <td>Hot Shots!</td>\n      <td>$181,096,164</td>\n      <td>$69,467,617</td>\n      <td>38.4%</td>\n      <td>$111,628,547</td>\n      <td>61.6%</td>\n      <td>1991</td>\n    </tr>\n    <tr>\n      <th>2596</th>\n      <td>997</td>\n      <td>Road to Perdition</td>\n      <td>$181,001,478</td>\n      <td>$104,454,762</td>\n      <td>57.7%</td>\n      <td>$76,546,716</td>\n      <td>42.3%</td>\n      <td>2002</td>\n    </tr>\n    <tr>\n      <th>2597</th>\n      <td>998</td>\n      <td>Kill Bill: Vol. 1</td>\n      <td>$180,906,076</td>\n      <td>$70,099,045</td>\n      <td>38.8%</td>\n      <td>$110,807,031</td>\n      <td>61.2%</td>\n      <td>2003</td>\n    </tr>\n    <tr>\n      <th>2598</th>\n      <td>999</td>\n      <td>The Scorpion King</td>\n      <td>$180,630,907</td>\n      <td>$91,047,077</td>\n      <td>50.4%</td>\n      <td>$89,583,830</td>\n      <td>49.6%</td>\n      <td>2002</td>\n    </tr>\n    <tr>\n      <th>2599</th>\n      <td>1,000</td>\n      <td>Sweet Home Alabama</td>\n      <td>$180,622,424</td>\n      <td>$127,223,418</td>\n      <td>70.4%</td>\n      <td>$53,399,006</td>\n      <td>29.6%</td>\n      <td>2002</td>\n    </tr>\n  </tbody>\n</table>\n<p>2600 rows × 8 columns</p>\n</div>"
     },
     "execution_count": 226,
     "metadata": {},
     "output_type": "execute_result"
    }
   ],
   "source": [
    "# Form more details run the scripts/corenlp_plot_summary_parsing.ipynb \n",
    "core_nlp_df = pd.read_csv(\"external_dataset/boxofficemojo_dataframe.csv\")\n",
    "core_nlp_df"
   ]
  },
  {
   "cell_type": "markdown",
   "metadata": {},
   "source": [
    "## Splitting"
   ]
  },
  {
   "cell_type": "markdown",
   "metadata": {},
   "source": [
    "We are now splitting the dataframes into many small different dataframes for each feature. Each small df has one feature and 'log_revenues'. These small dataframes are created for the analysis to be easier."
   ]
  },
  {
   "cell_type": "code",
   "execution_count": 227,
   "outputs": [
    {
     "data": {
      "text/plain": "   Wikipedia movie ID      Movie name Movie release date  \\\n0              975900  Ghosts of Mars         2001-08-24   \n1              156558        Baby Boy         2001-06-27   \n2             5566878   Tortilla Soup         2001-08-24   \n3              570743   Down to Earth         2001-02-12   \n4              366111     Shallow Hal         2001-11-01   \n\n   Movie box office revenue  Movie runtime  \\\n0                14010832.0           98.0   \n1                29381649.0          123.0   \n2                 4574762.0          103.0   \n3                71186502.0           87.0   \n4               141069860.0          113.0   \n\n                        Movie Languages  \\\n0                    [English Language]   \n1                    [English Language]   \n2  [English Language, Spanish Language]   \n3                    [English Language]   \n4                    [English Language]   \n\n                                     Movie Countries  \\\n0                         [United States of America]   \n1                         [United States of America]   \n2                         [United States of America]   \n3  [United States of America, Australia, Canada, ...   \n4                [United States of America, Germany]   \n\n                                        Movie Genres  Year  Month  \\\n0  [Thriller, Science Fiction, Horror, Adventure,...  2001    8.0   \n1              [Crime Fiction, Drama, Coming of age]  2001    6.0   \n2  [Romantic comedy, Indie, Slice of life story, ...  2001    8.0   \n3   [Romantic comedy, Romance Film, Fantasy, Comedy]  2001    2.0   \n4  [Romantic comedy, Fantasy, Comedy, Drama, Roma...  2001   11.0   \n\n   Cumulative Inflation to 2022  Revenue_with_inflation  log_revenues  \n0                      1.652484            2.315268e+07     16.957621  \n1                      1.652484            4.855272e+07     17.698161  \n2                      1.652484            7.559723e+06     15.838345  \n3                      1.652484            1.176346e+08     18.583094  \n4                      1.652484            2.331158e+08     19.267046  ",
      "text/html": "<div>\n<style scoped>\n    .dataframe tbody tr th:only-of-type {\n        vertical-align: middle;\n    }\n\n    .dataframe tbody tr th {\n        vertical-align: top;\n    }\n\n    .dataframe thead th {\n        text-align: right;\n    }\n</style>\n<table border=\"1\" class=\"dataframe\">\n  <thead>\n    <tr style=\"text-align: right;\">\n      <th></th>\n      <th>Wikipedia movie ID</th>\n      <th>Movie name</th>\n      <th>Movie release date</th>\n      <th>Movie box office revenue</th>\n      <th>Movie runtime</th>\n      <th>Movie Languages</th>\n      <th>Movie Countries</th>\n      <th>Movie Genres</th>\n      <th>Year</th>\n      <th>Month</th>\n      <th>Cumulative Inflation to 2022</th>\n      <th>Revenue_with_inflation</th>\n      <th>log_revenues</th>\n    </tr>\n  </thead>\n  <tbody>\n    <tr>\n      <th>0</th>\n      <td>975900</td>\n      <td>Ghosts of Mars</td>\n      <td>2001-08-24</td>\n      <td>14010832.0</td>\n      <td>98.0</td>\n      <td>[English Language]</td>\n      <td>[United States of America]</td>\n      <td>[Thriller, Science Fiction, Horror, Adventure,...</td>\n      <td>2001</td>\n      <td>8.0</td>\n      <td>1.652484</td>\n      <td>2.315268e+07</td>\n      <td>16.957621</td>\n    </tr>\n    <tr>\n      <th>1</th>\n      <td>156558</td>\n      <td>Baby Boy</td>\n      <td>2001-06-27</td>\n      <td>29381649.0</td>\n      <td>123.0</td>\n      <td>[English Language]</td>\n      <td>[United States of America]</td>\n      <td>[Crime Fiction, Drama, Coming of age]</td>\n      <td>2001</td>\n      <td>6.0</td>\n      <td>1.652484</td>\n      <td>4.855272e+07</td>\n      <td>17.698161</td>\n    </tr>\n    <tr>\n      <th>2</th>\n      <td>5566878</td>\n      <td>Tortilla Soup</td>\n      <td>2001-08-24</td>\n      <td>4574762.0</td>\n      <td>103.0</td>\n      <td>[English Language, Spanish Language]</td>\n      <td>[United States of America]</td>\n      <td>[Romantic comedy, Indie, Slice of life story, ...</td>\n      <td>2001</td>\n      <td>8.0</td>\n      <td>1.652484</td>\n      <td>7.559723e+06</td>\n      <td>15.838345</td>\n    </tr>\n    <tr>\n      <th>3</th>\n      <td>570743</td>\n      <td>Down to Earth</td>\n      <td>2001-02-12</td>\n      <td>71186502.0</td>\n      <td>87.0</td>\n      <td>[English Language]</td>\n      <td>[United States of America, Australia, Canada, ...</td>\n      <td>[Romantic comedy, Romance Film, Fantasy, Comedy]</td>\n      <td>2001</td>\n      <td>2.0</td>\n      <td>1.652484</td>\n      <td>1.176346e+08</td>\n      <td>18.583094</td>\n    </tr>\n    <tr>\n      <th>4</th>\n      <td>366111</td>\n      <td>Shallow Hal</td>\n      <td>2001-11-01</td>\n      <td>141069860.0</td>\n      <td>113.0</td>\n      <td>[English Language]</td>\n      <td>[United States of America, Germany]</td>\n      <td>[Romantic comedy, Fantasy, Comedy, Drama, Roma...</td>\n      <td>2001</td>\n      <td>11.0</td>\n      <td>1.652484</td>\n      <td>2.331158e+08</td>\n      <td>19.267046</td>\n    </tr>\n  </tbody>\n</table>\n</div>"
     },
     "execution_count": 227,
     "metadata": {},
     "output_type": "execute_result"
    }
   ],
   "source": [
    "movie_with_inflation.head()"
   ],
   "metadata": {
    "collapsed": false
   }
  },
  {
   "cell_type": "code",
   "execution_count": 228,
   "metadata": {},
   "outputs": [],
   "source": [
    "# Extracting 'Movie runtime' and 'log_revenues' columns into a new dataframe\n",
    "movie_runtime_df = movie_with_inflation[['Movie runtime', 'log_revenues']].copy()\n",
    "# Extracting 'Movie Languages' and 'log_revenues' columns into a new dataframe\n",
    "movie_languages_df = movie_with_inflation[['Movie Languages', 'log_revenues']].copy()\n",
    "# Extracting 'Movie Countries' and 'log_revenues' columns into a new dataframe\n",
    "movie_countries_df = movie_with_inflation[['Movie Countries', 'log_revenues']].copy()\n",
    "# Extracting 'Movie Genres' and 'log_revenues' columns into a new dataframe\n",
    "movie_genres_df = movie_with_inflation[['Movie Genres', 'log_revenues']].copy()\n",
    "# Extracting 'Month' and 'log_revenues' columns into a new dataframe\n",
    "months_df = movie_with_inflation[['Month', 'log_revenues']].copy()\n",
    "# Extracting 'Year' and 'log_revenues' columns into a new dataframe\n",
    "years_df = movie_with_inflation[['Year', 'Revenue_with_inflation','log_revenues']].copy()"
   ]
  },
  {
   "cell_type": "markdown",
   "metadata": {},
   "source": [
    "Drop movies in each small dataframe, only for the missing values (Nan) of the concerned feature"
   ]
  },
  {
   "cell_type": "code",
   "execution_count": 229,
   "metadata": {},
   "outputs": [],
   "source": [
    "# Drop NaNs in each small dataframes\n",
    "movie_runtime_df.dropna(subset=['Movie runtime'], inplace=True)\n",
    "movie_languages_df.dropna(subset=['Movie Languages'], inplace=True)\n",
    "movie_countries_df.dropna(subset=['Movie Countries'], inplace=True)\n",
    "movie_genres_df.dropna(subset=['Movie Genres'], inplace=True)\n",
    "years_df.dropna(subset=['Year'], inplace=True) #no nan but safer\n",
    "months_df.dropna(subset=['Month'], inplace=True)"
   ]
  },
  {
   "cell_type": "markdown",
   "metadata": {},
   "source": [
    "We then need to merge character and movie dataframes, to be able to extract information on actors and their impact on box office revenues"
   ]
  },
  {
   "cell_type": "code",
   "execution_count": 230,
   "metadata": {},
   "outputs": [],
   "source": [
    "# Merging character_df and movie_with_inflation DataFrames on 'Wikipedia movie ID'\n",
    "# Dropping the 'Movie release date' column from character_df to avoid duplicate columns after the merge\n",
    "character_movie_merged_df = pd.merge(character_df.drop(['Movie release date'],axis=1), movie_with_inflation, on=['Wikipedia movie ID'])\n"
   ]
  },
  {
   "cell_type": "markdown",
   "metadata": {},
   "source": [
    "One of our feature will be the percentage of women actresses in movies, so we need to get this information"
   ]
  },
  {
   "cell_type": "code",
   "execution_count": 231,
   "metadata": {},
   "outputs": [],
   "source": [
    "# Create a new DataFrame containing relevant columns from the original DataFrame\n",
    "actor_gender_movie_df = character_movie_merged_df[['Movie name','log_revenues','Actor name','Actor gender','Revenue_with_inflation']].copy()\n",
    "# Drop rows with missing values\n",
    "actor_gender_movie_df.dropna(inplace=True)\n",
    "# Compute percentage of women in each movies\n",
    "actor_gender_movie_df['Percentage_Women'] = (actor_gender_movie_df.groupby('Movie name')['Actor gender']\n",
    "                                              .transform(lambda x: (x == 'F').mean() * 100)\n",
    "                                              .fillna(0)  # Fill NaN with 0\n",
    "                                              .astype(int)  # Ensure the column is of int type\n",
    "                                             )"
   ]
  },
  {
   "cell_type": "code",
   "execution_count": 232,
   "metadata": {},
   "outputs": [],
   "source": [
    "# Creating a DataFrame with actor gender, movie name, and log_revenues from the merged DataFrame\n",
    "movie_gender_df = actor_gender_movie_df[['Percentage_Women','Movie name','log_revenues','Revenue_with_inflation']].copy()\n",
    "# Removing duplicate rows from actor_gender_df based on all columns\n",
    "movie_gender_df = movie_gender_df.drop_duplicates()\n",
    "# Creating a new DataFrame with percentage women and log_revenues, dropping rows with missing percentage women\n",
    "gender_df = movie_gender_df[['Percentage_Women','log_revenues','Revenue_with_inflation']].copy()\n",
    "gender_df.dropna(subset=['Percentage_Women'], inplace=True)"
   ]
  },
  {
   "cell_type": "code",
   "execution_count": 233,
   "metadata": {},
   "outputs": [
    {
     "data": {
      "text/plain": "                Actor name  Actor age at movie release  log_revenues  \\\n0           Wanda De Jesus                        42.0     16.957621   \n1       Natasha Henstridge                        27.0     16.957621   \n2                 Ice Cube                        32.0     16.957621   \n3            Jason Statham                        33.0     16.957621   \n4              Clea DuVall                        23.0     16.957621   \n...                    ...                         ...           ...   \n100848       Roland Culver                        64.0     17.746917   \n100849     Michael Hordern                        53.0     17.746917   \n100850   Reginald Beckwith                        56.0     17.746917   \n100851            Gong Yoo                        32.0     17.503715   \n100852         Jung Yoo Mi                        27.0     17.503715   \n\n        Revenue_with_inflation  \n0                 2.315268e+07  \n1                 2.315268e+07  \n2                 2.315268e+07  \n3                 2.315268e+07  \n4                 2.315268e+07  \n...                        ...  \n100848            5.097861e+07  \n100849            5.097861e+07  \n100850            5.097861e+07  \n100851            3.997302e+07  \n100852            3.997302e+07  \n\n[80159 rows x 4 columns]",
      "text/html": "<div>\n<style scoped>\n    .dataframe tbody tr th:only-of-type {\n        vertical-align: middle;\n    }\n\n    .dataframe tbody tr th {\n        vertical-align: top;\n    }\n\n    .dataframe thead th {\n        text-align: right;\n    }\n</style>\n<table border=\"1\" class=\"dataframe\">\n  <thead>\n    <tr style=\"text-align: right;\">\n      <th></th>\n      <th>Actor name</th>\n      <th>Actor age at movie release</th>\n      <th>log_revenues</th>\n      <th>Revenue_with_inflation</th>\n    </tr>\n  </thead>\n  <tbody>\n    <tr>\n      <th>0</th>\n      <td>Wanda De Jesus</td>\n      <td>42.0</td>\n      <td>16.957621</td>\n      <td>2.315268e+07</td>\n    </tr>\n    <tr>\n      <th>1</th>\n      <td>Natasha Henstridge</td>\n      <td>27.0</td>\n      <td>16.957621</td>\n      <td>2.315268e+07</td>\n    </tr>\n    <tr>\n      <th>2</th>\n      <td>Ice Cube</td>\n      <td>32.0</td>\n      <td>16.957621</td>\n      <td>2.315268e+07</td>\n    </tr>\n    <tr>\n      <th>3</th>\n      <td>Jason Statham</td>\n      <td>33.0</td>\n      <td>16.957621</td>\n      <td>2.315268e+07</td>\n    </tr>\n    <tr>\n      <th>4</th>\n      <td>Clea DuVall</td>\n      <td>23.0</td>\n      <td>16.957621</td>\n      <td>2.315268e+07</td>\n    </tr>\n    <tr>\n      <th>...</th>\n      <td>...</td>\n      <td>...</td>\n      <td>...</td>\n      <td>...</td>\n    </tr>\n    <tr>\n      <th>100848</th>\n      <td>Roland Culver</td>\n      <td>64.0</td>\n      <td>17.746917</td>\n      <td>5.097861e+07</td>\n    </tr>\n    <tr>\n      <th>100849</th>\n      <td>Michael Hordern</td>\n      <td>53.0</td>\n      <td>17.746917</td>\n      <td>5.097861e+07</td>\n    </tr>\n    <tr>\n      <th>100850</th>\n      <td>Reginald Beckwith</td>\n      <td>56.0</td>\n      <td>17.746917</td>\n      <td>5.097861e+07</td>\n    </tr>\n    <tr>\n      <th>100851</th>\n      <td>Gong Yoo</td>\n      <td>32.0</td>\n      <td>17.503715</td>\n      <td>3.997302e+07</td>\n    </tr>\n    <tr>\n      <th>100852</th>\n      <td>Jung Yoo Mi</td>\n      <td>27.0</td>\n      <td>17.503715</td>\n      <td>3.997302e+07</td>\n    </tr>\n  </tbody>\n</table>\n<p>80159 rows × 4 columns</p>\n</div>"
     },
     "execution_count": 233,
     "metadata": {},
     "output_type": "execute_result"
    }
   ],
   "source": [
    "# Creating a DataFrame with actor name, actor age at movie release, and log_revenues from the merged DataFrame\n",
    "actor_df = character_movie_merged_df[['Actor name','Actor age at movie release','log_revenues','Revenue_with_inflation']].copy()\n",
    "actor_df.dropna()"
   ]
  },
  {
   "cell_type": "markdown",
   "metadata": {},
   "source": [
    "## Quantization"
   ]
  },
  {
   "cell_type": "markdown",
   "metadata": {},
   "source": [
    "In this section we transform runtimes, female percentages and years into categories to be able to run a regression analysis with categorical features. For example, if the female percentage of movie \"x\" is 23%, it will be associated to the interval [20%,30%]. Similarly, if the movie runtime of movie \"x\" is 123 minutes, it will be associated to the interval [100min,130min]."
   ]
  },
  {
   "cell_type": "code",
   "execution_count": 234,
   "metadata": {},
   "outputs": [],
   "source": [
    "# Calculate the minimum and maximum years in the 'Year' column\n",
    "min_year = years_df['Year'].min()\n",
    "max_year = years_df['Year'].max()\n",
    "\n",
    "# Create intervals of 10 years and assign labels based on the minimum and maximum years\n",
    "years_df['year_intervals'] = pd.cut(years_df['Year'], \n",
    "                                    bins=range(min_year, max_year + 11, 10),  # Define bins for 10-year intervals\n",
    "                                    labels=[f\"{start}-{start + 9}\" for start in range(min_year, max_year, 10)],  # Create labels for intervals\n",
    "                                    include_lowest=True)  # Include the lowest value in the interval\n",
    "\n",
    "# The 'year_intervals' column now contains the corresponding interval for each year"
   ]
  },
  {
   "cell_type": "code",
   "execution_count": 235,
   "metadata": {},
   "outputs": [],
   "source": [
    "# Cast 'Movie runtime' to integers\n",
    "movie_runtime_df['Movie runtime'] = movie_runtime_df['Movie runtime'].astype(int)\n",
    "\n",
    "# Calculate the minimum and maximum runtimes in the 'Movie runtime' column\n",
    "min_runtime = movie_runtime_df['Movie runtime'].min()\n",
    "max_runtime = movie_runtime_df['Movie runtime'].max()\n",
    "\n",
    "# Create intervals of 30 for runtimes until 220, and a separate interval for values greater than 220 but smaller than the maximum runtime\n",
    "runtime_bins = [i for i in range(min_runtime, min(max_runtime, 221), 30)] + [float('inf')]\n",
    "\n",
    "# Create labels for the runtime intervals\n",
    "runtime_labels = [f\"{start}-{start + 29}\" if start + 29 < min(max_runtime, 220) else f\"{min(max_runtime, 220)+1}-{max_runtime}\" for start in range(min_runtime, min(max_runtime, 221), 30)]\n",
    "\n",
    "# Assign the intervals to the 'Movie runtime' column\n",
    "movie_runtime_df['runtime_intervals'] = pd.cut(movie_runtime_df['Movie runtime'],\n",
    "                                       bins=runtime_bins,\n",
    "                                       labels=runtime_labels,\n",
    "                                       include_lowest=True)\n",
    "\n",
    "# The 'runtime_intervals' column now contains the corresponding interval for each runtime"
   ]
  },
  {
   "cell_type": "code",
   "execution_count": 236,
   "metadata": {},
   "outputs": [],
   "source": [
    "# Create intervals of size 10 for the 'Percentage Women' column\n",
    "gender_df['Percentage_Women_Intervals'] = pd.cut(gender_df['Percentage_Women'],\n",
    "                                                             bins=range(0, 101, 10),\n",
    "                                                             labels=[f\"{start}-{start + 9}\" for start in range(0, 100, 10)],\n",
    "                                                             include_lowest=True)"
   ]
  },
  {
   "cell_type": "markdown",
   "metadata": {},
   "source": [
    "# Data analysis"
   ]
  },
  {
   "cell_type": "markdown",
   "metadata": {},
   "source": [
    "We know have everything in place to perform our analysis. We first check if there is a correlation between the release month of a movie and the box office revenue."
   ]
  },
  {
   "cell_type": "code",
   "execution_count": 237,
   "metadata": {},
   "outputs": [
    {
     "data": {
      "text/plain": "SignificanceResult(statistic=0.09366287903172422, pvalue=1.0366280870920575e-14)"
     },
     "execution_count": 237,
     "metadata": {},
     "output_type": "execute_result"
    }
   ],
   "source": [
    "# Compute the correlation between release month and log revenues\n",
    "stats.spearmanr(months_df['Month'], months_df['log_revenues'])"
   ]
  },
  {
   "cell_type": "markdown",
   "metadata": {},
   "source": [
    "By running the spearman correlation test, we can see that the pvalue << 0.05 which rejects the null hypothesis that the box office revenues and release month are uncorrelated. Investigating which months result in higher box office revenues is thus a good idea."
   ]
  },
  {
   "cell_type": "code",
   "execution_count": 238,
   "metadata": {},
   "outputs": [
    {
     "name": "stderr",
     "output_type": "stream",
     "text": [
      "C:\\Users\\41794\\anaconda3\\envs\\ada\\Lib\\site-packages\\seaborn\\_oldcore.py:1498: FutureWarning: is_categorical_dtype is deprecated and will be removed in a future version. Use isinstance(dtype, CategoricalDtype) instead\n",
      "  if pd.api.types.is_categorical_dtype(vector):\n",
      "C:\\Users\\41794\\anaconda3\\envs\\ada\\Lib\\site-packages\\seaborn\\_oldcore.py:1498: FutureWarning: is_categorical_dtype is deprecated and will be removed in a future version. Use isinstance(dtype, CategoricalDtype) instead\n",
      "  if pd.api.types.is_categorical_dtype(vector):\n",
      "C:\\Users\\41794\\anaconda3\\envs\\ada\\Lib\\site-packages\\seaborn\\_oldcore.py:1498: FutureWarning: is_categorical_dtype is deprecated and will be removed in a future version. Use isinstance(dtype, CategoricalDtype) instead\n",
      "  if pd.api.types.is_categorical_dtype(vector):\n"
     ]
    },
    {
     "data": {
      "text/plain": "<Figure size 640x480 with 1 Axes>",
      "image/png": "[encoded data removed]"
     },
     "metadata": {},
     "output_type": "display_data"
    }
   ],
   "source": [
    "grouped_months = months_df.groupby(\"Month\").mean('log_revenues')\n",
    "# boxplot of the revenues for each month\n",
    "sns.boxplot(x='Month', y='log_revenues', data=months_df)\n",
    "plt.title(\"Distributions of the log revenues on different months\")\n",
    "plt.ylabel(\"box office revenue in log\")\n",
    "plt.xlabel(\"month\")\n",
    "plt.show()"
   ]
  },
  {
   "cell_type": "markdown",
   "metadata": {},
   "source": [
    "We can see that movies released in july, december and february have higher box offices. Next, we check if there is a link between the percentage of actress and the box office revenue."
   ]
  },
  {
   "cell_type": "code",
   "execution_count": 239,
   "metadata": {},
   "outputs": [
    {
     "data": {
      "text/plain": "SignificanceResult(statistic=-0.08966832643024661, pvalue=5.1617017932619725e-16)"
     },
     "execution_count": 239,
     "metadata": {},
     "output_type": "execute_result"
    }
   ],
   "source": [
    "stats.spearmanr(gender_df['Percentage_Women'], gender_df['Revenue_with_inflation'])"
   ]
  },
  {
   "cell_type": "markdown",
   "metadata": {},
   "source": [
    "Again, by running the spearman correlation test, we can see that the pvalue << 0.05 which rejects the null hypothesis that the box office revenues and percentage of women actresses are uncorrelated. We will thus further investigate this feature.\n",
    "We will now perform a discretization of the percentage of women, to divide percentages into 10 group where we have equal number of movies in each group."
   ]
  },
  {
   "cell_type": "code",
   "execution_count": 251,
   "outputs": [
    {
     "data": {
      "text/plain": "      Percentage_Women                     Revenue_with_inflation\n                 count       mean min  max                   mean\ngroup                                                            \n0                  828   4.771739   0   11           1.025286e+08\n1                  853  15.154748  12   18           1.479393e+08\n2                  842  21.150831  19   23           1.016303e+08\n3                  782  25.636829  24   27           1.181849e+08\n4                 1369  31.084003  28   33           1.010295e+08\n5                  314  35.417197  34   36           1.491364e+08\n6                  776  39.161082  37   41           1.020031e+08\n7                  754  44.095491  42   48           1.160373e+08\n8                  829  50.671894  50   54           5.895102e+07\n9                  798  66.764411  55  100           5.602924e+07",
      "text/html": "<div>\n<style scoped>\n    .dataframe tbody tr th:only-of-type {\n        vertical-align: middle;\n    }\n\n    .dataframe tbody tr th {\n        vertical-align: top;\n    }\n\n    .dataframe thead tr th {\n        text-align: left;\n    }\n\n    .dataframe thead tr:last-of-type th {\n        text-align: right;\n    }\n</style>\n<table border=\"1\" class=\"dataframe\">\n  <thead>\n    <tr>\n      <th></th>\n      <th colspan=\"4\" halign=\"left\">Percentage_Women</th>\n      <th>Revenue_with_inflation</th>\n    </tr>\n    <tr>\n      <th></th>\n      <th>count</th>\n      <th>mean</th>\n      <th>min</th>\n      <th>max</th>\n      <th>mean</th>\n    </tr>\n    <tr>\n      <th>group</th>\n      <th></th>\n      <th></th>\n      <th></th>\n      <th></th>\n      <th></th>\n    </tr>\n  </thead>\n  <tbody>\n    <tr>\n      <th>0</th>\n      <td>828</td>\n      <td>4.771739</td>\n      <td>0</td>\n      <td>11</td>\n      <td>1.025286e+08</td>\n    </tr>\n    <tr>\n      <th>1</th>\n      <td>853</td>\n      <td>15.154748</td>\n      <td>12</td>\n      <td>18</td>\n      <td>1.479393e+08</td>\n    </tr>\n    <tr>\n      <th>2</th>\n      <td>842</td>\n      <td>21.150831</td>\n      <td>19</td>\n      <td>23</td>\n      <td>1.016303e+08</td>\n    </tr>\n    <tr>\n      <th>3</th>\n      <td>782</td>\n      <td>25.636829</td>\n      <td>24</td>\n      <td>27</td>\n      <td>1.181849e+08</td>\n    </tr>\n    <tr>\n      <th>4</th>\n      <td>1369</td>\n      <td>31.084003</td>\n      <td>28</td>\n      <td>33</td>\n      <td>1.010295e+08</td>\n    </tr>\n    <tr>\n      <th>5</th>\n      <td>314</td>\n      <td>35.417197</td>\n      <td>34</td>\n      <td>36</td>\n      <td>1.491364e+08</td>\n    </tr>\n    <tr>\n      <th>6</th>\n      <td>776</td>\n      <td>39.161082</td>\n      <td>37</td>\n      <td>41</td>\n      <td>1.020031e+08</td>\n    </tr>\n    <tr>\n      <th>7</th>\n      <td>754</td>\n      <td>44.095491</td>\n      <td>42</td>\n      <td>48</td>\n      <td>1.160373e+08</td>\n    </tr>\n    <tr>\n      <th>8</th>\n      <td>829</td>\n      <td>50.671894</td>\n      <td>50</td>\n      <td>54</td>\n      <td>5.895102e+07</td>\n    </tr>\n    <tr>\n      <th>9</th>\n      <td>798</td>\n      <td>66.764411</td>\n      <td>55</td>\n      <td>100</td>\n      <td>5.602924e+07</td>\n    </tr>\n  </tbody>\n</table>\n</div>"
     },
     "metadata": {},
     "output_type": "display_data"
    }
   ],
   "source": [
    "# Assuming gender_df is your DataFrame\n",
    "num_groups = 10\n",
    "\n",
    "# Sort the DataFrame by 'Percentage_Women'\n",
    "gender_df = gender_df.sort_values(by='Percentage_Women')\n",
    "\n",
    "# Create bins based on quantiles\n",
    "gender_df['group'] = pd.qcut(gender_df['Percentage_Women'], q=num_groups, labels=False, duplicates='drop')\n",
    "\n",
    "# Display grouped summary\n",
    "grouped_summary = gender_df.groupby('group').agg({'Percentage_Women': ['count', 'mean', 'min', 'max'],\n",
    "                                                'Revenue_with_inflation': 'mean'})\n",
    "display(grouped_summary)"
   ],
   "metadata": {
    "collapsed": false
   }
  },
  {
   "cell_type": "code",
   "execution_count": 258,
   "outputs": [
    {
     "name": "stderr",
     "output_type": "stream",
     "text": [
      "C:\\Users\\41794\\anaconda3\\envs\\ada\\Lib\\site-packages\\seaborn\\_oldcore.py:1498: FutureWarning: is_categorical_dtype is deprecated and will be removed in a future version. Use isinstance(dtype, CategoricalDtype) instead\n",
      "  if pd.api.types.is_categorical_dtype(vector):\n",
      "C:\\Users\\41794\\anaconda3\\envs\\ada\\Lib\\site-packages\\seaborn\\_oldcore.py:1498: FutureWarning: is_categorical_dtype is deprecated and will be removed in a future version. Use isinstance(dtype, CategoricalDtype) instead\n",
      "  if pd.api.types.is_categorical_dtype(vector):\n",
      "C:\\Users\\41794\\anaconda3\\envs\\ada\\Lib\\site-packages\\seaborn\\_oldcore.py:1498: FutureWarning: is_categorical_dtype is deprecated and will be removed in a future version. Use isinstance(dtype, CategoricalDtype) instead\n",
      "  if pd.api.types.is_categorical_dtype(vector):\n"
     ]
    },
    {
     "data": {
      "text/plain": "<Figure size 1200x800 with 1 Axes>",
      "image/png": "[encoded data removed]"
     },
     "metadata": {},
     "output_type": "display_data"
    }
   ],
   "source": [
    "# Boxplot\n",
    "plt.figure(figsize=(12, 8))\n",
    "ax = sns.barplot(x=gender_df['group'], y=gender_df['Revenue_with_inflation'], estimator='mean', errorbar=('ci', 95), capsize=0.1, errcolor='red')\n",
    "\n",
    "# Customize x-axis labels\n",
    "custom_labels = [\"[0%, 12%]\", \"[12%, 19%]\", \"[19%, 24%]\", \"[24%, 28%]\", \"[28%, 34%]\", \"[34%, 37%]\",\n",
    "                 \"[37%, 41%]\", \"[41%, 48%]\", \"[48%, 54%]\", \"[54%, 100%]\"]\n",
    "\n",
    "ax.set_xticklabels(custom_labels, rotation=45, ha='right')\n",
    "\n",
    "plt.ylim(0, None)\n",
    "plt.xlabel('Percentage of Women Intervals')\n",
    "plt.ylabel('Average Revenue with Inflation')\n",
    "plt.title('Average Revenue with Inflation per Percentage of Women Intervals')\n",
    "\n",
    "# Add legend\n",
    "plt.legend(title='Error Bar', labels=['95% confidence intervals'])\n",
    "\n",
    "plt.show()"
   ],
   "metadata": {
    "collapsed": false
   }
  },
  {
   "cell_type": "markdown",
   "source": [
    "From the plot, we can see that movies with women percentage between 12% and 19%, as well as movies with 24% and 28% result in significantly higher box office revenues. While movies with 48% to 100% have significantly lower mean box office revenues.\n",
    "We will now perform a regression analysis better see if being in one of these groups have a significant impact on the box office. We will use the log revenues as the dependent variable."
   ],
   "metadata": {
    "collapsed": false
   }
  },
  {
   "cell_type": "code",
   "execution_count": 254,
   "outputs": [
    {
     "name": "stdout",
     "output_type": "stream",
     "text": [
      "                            OLS Regression Results                            \n",
      "==============================================================================\n",
      "Dep. Variable:           log_revenues   R-squared:                       0.021\n",
      "Model:                            OLS   Adj. R-squared:                  0.020\n",
      "Method:                 Least Squares   F-statistic:                     19.76\n",
      "Date:                Fri, 15 Dec 2023   Prob (F-statistic):           3.47e-33\n",
      "Time:                        16:19:11   Log-Likelihood:                -17596.\n",
      "No. Observations:                8145   AIC:                         3.521e+04\n",
      "Df Residuals:                    8135   BIC:                         3.528e+04\n",
      "Df Model:                           9                                         \n",
      "Covariance Type:            nonrobust                                         \n",
      "=================================================================================\n",
      "                    coef    std err          t      P>|t|      [0.025      0.975]\n",
      "---------------------------------------------------------------------------------\n",
      "Intercept        16.8055      0.073    230.247      0.000      16.662      16.949\n",
      "C(group)[T.1]     0.5419      0.102      5.289      0.000       0.341       0.743\n",
      "C(group)[T.2]     0.3317      0.103      3.227      0.001       0.130       0.533\n",
      "C(group)[T.3]     0.3924      0.105      3.746      0.000       0.187       0.598\n",
      "C(group)[T.4]     0.1258      0.092      1.360      0.174      -0.055       0.307\n",
      "C(group)[T.5]     0.6798      0.139      4.884      0.000       0.407       0.953\n",
      "C(group)[T.6]     0.1097      0.105      1.046      0.296      -0.096       0.315\n",
      "C(group)[T.7]     0.2249      0.106      2.127      0.033       0.018       0.432\n",
      "C(group)[T.8]    -0.3550      0.103     -3.441      0.001      -0.557      -0.153\n",
      "C(group)[T.9]    -0.4190      0.104     -4.022      0.000      -0.623      -0.215\n",
      "==============================================================================\n",
      "Omnibus:                      876.941   Durbin-Watson:                   1.892\n",
      "Prob(Omnibus):                  0.000   Jarque-Bera (JB):             1228.967\n",
      "Skew:                          -0.847   Prob(JB):                    1.36e-267\n",
      "Kurtosis:                       3.868   Cond. No.                         11.0\n",
      "==============================================================================\n",
      "\n",
      "Notes:\n",
      "[1] Standard Errors assume that the covariance matrix of the errors is correctly specified.\n"
     ]
    }
   ],
   "source": [
    "# Declares the model\n",
    "mod = smf.ols(formula='log_revenues ~ C(group)', data=gender_df)\n",
    "# Fits the model (find the optimal coefficients, adding a random seed ensures consistency)\n",
    "np.random.seed(2)\n",
    "res = mod.fit()\n",
    "\n",
    "# Print the summary output provided by the library.\n",
    "print(res.summary())"
   ],
   "metadata": {
    "collapsed": false
   }
  },
  {
   "cell_type": "markdown",
   "source": [
    "R squared = 0.021 confirms the small correlation between percentage of women and box office revenues. In addition, we can see that group 4 and 6 have p values greater than 0.05, we will thus exclude them from our analysis."
   ],
   "metadata": {
    "collapsed": false
   }
  },
  {
   "cell_type": "markdown",
   "source": [
    "Let's now investigate the link between average box office and discretized box office revenues."
   ],
   "metadata": {
    "collapsed": false
   }
  },
  {
   "cell_type": "code",
   "execution_count": 255,
   "outputs": [
    {
     "data": {
      "text/plain": "      Year  Revenue_with_inflation  log_revenues year_intervals\n0     2001            2.315268e+07     16.957621      1994-2003\n1     2001            4.855272e+07     17.698161      1994-2003\n2     2001            7.559723e+06     15.838345      1994-2003\n3     2001            1.176346e+08     18.583094      1994-2003\n4     2001            2.331158e+08     19.267046      1994-2003\n...    ...                     ...           ...            ...\n8321  1928            8.557164e+07     18.264864      1924-1933\n8322  1928            2.344663e+07     16.970237      1924-1933\n8323  1928            4.278582e+07     17.571717      1924-1933\n8324  1928            2.909436e+07     17.186055      1924-1933\n8325  1922            3.053885e+08     19.537095      1914-1923\n\n[8326 rows x 4 columns]",
      "text/html": "<div>\n<style scoped>\n    .dataframe tbody tr th:only-of-type {\n        vertical-align: middle;\n    }\n\n    .dataframe tbody tr th {\n        vertical-align: top;\n    }\n\n    .dataframe thead th {\n        text-align: right;\n    }\n</style>\n<table border=\"1\" class=\"dataframe\">\n  <thead>\n    <tr style=\"text-align: right;\">\n      <th></th>\n      <th>Year</th>\n      <th>Revenue_with_inflation</th>\n      <th>log_revenues</th>\n      <th>year_intervals</th>\n    </tr>\n  </thead>\n  <tbody>\n    <tr>\n      <th>0</th>\n      <td>2001</td>\n      <td>2.315268e+07</td>\n      <td>16.957621</td>\n      <td>1994-2003</td>\n    </tr>\n    <tr>\n      <th>1</th>\n      <td>2001</td>\n      <td>4.855272e+07</td>\n      <td>17.698161</td>\n      <td>1994-2003</td>\n    </tr>\n    <tr>\n      <th>2</th>\n      <td>2001</td>\n      <td>7.559723e+06</td>\n      <td>15.838345</td>\n      <td>1994-2003</td>\n    </tr>\n    <tr>\n      <th>3</th>\n      <td>2001</td>\n      <td>1.176346e+08</td>\n      <td>18.583094</td>\n      <td>1994-2003</td>\n    </tr>\n    <tr>\n      <th>4</th>\n      <td>2001</td>\n      <td>2.331158e+08</td>\n      <td>19.267046</td>\n      <td>1994-2003</td>\n    </tr>\n    <tr>\n      <th>...</th>\n      <td>...</td>\n      <td>...</td>\n      <td>...</td>\n      <td>...</td>\n    </tr>\n    <tr>\n      <th>8321</th>\n      <td>1928</td>\n      <td>8.557164e+07</td>\n      <td>18.264864</td>\n      <td>1924-1933</td>\n    </tr>\n    <tr>\n      <th>8322</th>\n      <td>1928</td>\n      <td>2.344663e+07</td>\n      <td>16.970237</td>\n      <td>1924-1933</td>\n    </tr>\n    <tr>\n      <th>8323</th>\n      <td>1928</td>\n      <td>4.278582e+07</td>\n      <td>17.571717</td>\n      <td>1924-1933</td>\n    </tr>\n    <tr>\n      <th>8324</th>\n      <td>1928</td>\n      <td>2.909436e+07</td>\n      <td>17.186055</td>\n      <td>1924-1933</td>\n    </tr>\n    <tr>\n      <th>8325</th>\n      <td>1922</td>\n      <td>3.053885e+08</td>\n      <td>19.537095</td>\n      <td>1914-1923</td>\n    </tr>\n  </tbody>\n</table>\n<p>8326 rows × 4 columns</p>\n</div>"
     },
     "metadata": {},
     "output_type": "display_data"
    }
   ],
   "source": [
    "display(years_df)"
   ],
   "metadata": {
    "collapsed": false
   }
  },
  {
   "cell_type": "code",
   "execution_count": 263,
   "outputs": [
    {
     "name": "stdout",
     "output_type": "stream",
     "text": [
      "                            OLS Regression Results                            \n",
      "==============================================================================\n",
      "Dep. Variable:           log_revenues   R-squared:                       0.046\n",
      "Model:                            OLS   Adj. R-squared:                  0.045\n",
      "Method:                 Least Squares   F-statistic:                     44.74\n",
      "Date:                Fri, 15 Dec 2023   Prob (F-statistic):           3.53e-79\n",
      "Time:                        16:43:23   Log-Likelihood:                -17952.\n",
      "No. Observations:                8326   AIC:                         3.592e+04\n",
      "Df Residuals:                    8316   BIC:                         3.599e+04\n",
      "Df Model:                           9                                         \n",
      "Covariance Type:            nonrobust                                         \n",
      "===============================================================================================\n",
      "                                  coef    std err          t      P>|t|      [0.025      0.975]\n",
      "-----------------------------------------------------------------------------------------------\n",
      "Intercept                      17.3791      0.540     32.184      0.000      16.321      18.438\n",
      "year_intervals[T.1924-1933]    -0.4521      0.581     -0.777      0.437      -1.592       0.688\n",
      "year_intervals[T.1934-1943]    -0.2282      0.564     -0.405      0.686      -1.333       0.877\n",
      "year_intervals[T.1944-1953]    -0.2794      0.548     -0.510      0.610      -1.354       0.795\n",
      "year_intervals[T.1954-1963]    -0.0569      0.551     -0.103      0.918      -1.137       1.023\n",
      "year_intervals[T.1964-1973]     1.0640      0.555      1.918      0.055      -0.023       2.151\n",
      "year_intervals[T.1974-1983]     0.3247      0.546      0.595      0.552      -0.746       1.395\n",
      "year_intervals[T.1984-1993]    -0.5089      0.543     -0.938      0.348      -1.572       0.555\n",
      "year_intervals[T.1994-2003]    -0.4988      0.542     -0.920      0.357      -1.561       0.563\n",
      "year_intervals[T.2004-2013]    -0.9573      0.542     -1.768      0.077      -2.019       0.104\n",
      "==============================================================================\n",
      "Omnibus:                      634.273   Durbin-Watson:                   1.978\n",
      "Prob(Omnibus):                  0.000   Jarque-Bera (JB):              809.352\n",
      "Skew:                          -0.692   Prob(JB):                    1.78e-176\n",
      "Kurtosis:                       3.647   Cond. No.                         82.4\n",
      "==============================================================================\n",
      "\n",
      "Notes:\n",
      "[1] Standard Errors assume that the covariance matrix of the errors is correctly specified.\n"
     ]
    }
   ],
   "source": [
    "# Declares the model\n",
    "mod = smf.ols(formula=' log_revenues ~ year_intervals', data=years_df)\n",
    "# Fits the model (find the optimal coefficients, adding a random seed ensures consistency)\n",
    "np.random.seed(2)\n",
    "res = mod.fit()\n",
    "\n",
    "# Print the summary output provided by the library.\n",
    "print(res.summary())"
   ],
   "metadata": {
    "collapsed": false
   }
  },
  {
   "cell_type": "markdown",
   "metadata": {},
   "source": [
    "# Work in progress"
   ]
  },
  {
   "cell_type": "markdown",
   "metadata": {},
   "source": [
    "## Using the plot_summary dataset, we perform a sentiment analysis over each movie summary extracting positive and negative words to make another feature to predit box office revenues."
   ]
  },
  {
   "cell_type": "code",
   "execution_count": 23,
   "metadata": {},
   "outputs": [
    {
     "name": "stdout",
     "output_type": "stream",
     "text": [
      "The shape of the summary metadata before removing duplicates is : (42303, 2)\n",
      "The shape of the summary metadata after removing duplicates is : (42295, 2)\n"
     ]
    }
   ],
   "source": [
    "#create a copy for the summary metadata\n",
    "summary_metadata_copy = plot_summaries_df.copy()\n",
    "print(f\"The shape of the summary metadata before removing duplicates is : {summary_metadata_copy.shape}\")\n",
    "\n",
    "#Remove duplicate values\n",
    "summary_metadata_copy = summary_metadata_copy.drop_duplicates(\"Movie Summary\")\n",
    "print(f\"The shape of the summary metadata after removing duplicates is : {summary_metadata_copy.shape}\")"
   ]
  },
  {
   "cell_type": "code",
   "execution_count": 24,
   "metadata": {},
   "outputs": [
    {
     "data": {
      "text/html": [
       "<div>\n",
       "<style scoped>\n",
       "    .dataframe tbody tr th:only-of-type {\n",
       "        vertical-align: middle;\n",
       "    }\n",
       "\n",
       "    .dataframe tbody tr th {\n",
       "        vertical-align: top;\n",
       "    }\n",
       "\n",
       "    .dataframe thead th {\n",
       "        text-align: right;\n",
       "    }\n",
       "</style>\n",
       "<table border=\"1\" class=\"dataframe\">\n",
       "  <thead>\n",
       "    <tr style=\"text-align: right;\">\n",
       "      <th></th>\n",
       "      <th>Movie ID</th>\n",
       "      <th>Movie Summary</th>\n",
       "      <th>tokenized_summary</th>\n",
       "    </tr>\n",
       "  </thead>\n",
       "  <tbody>\n",
       "    <tr>\n",
       "      <th>0</th>\n",
       "      <td>23890098</td>\n",
       "      <td>Shlykov, a hard-working taxi driver and Lyosha...</td>\n",
       "      <td>[Shlykov, a, taxi, driver, and, Lyosha, a, sax...</td>\n",
       "    </tr>\n",
       "    <tr>\n",
       "      <th>1</th>\n",
       "      <td>31186339</td>\n",
       "      <td>The nation of Panem consists of a wealthy Capi...</td>\n",
       "      <td>[The, nation, of, Panem, consists, of, a, weal...</td>\n",
       "    </tr>\n",
       "    <tr>\n",
       "      <th>2</th>\n",
       "      <td>20663735</td>\n",
       "      <td>Poovalli Induchoodan  is sentenced for six yea...</td>\n",
       "      <td>[Poovalli, Induchoodan, is, sentenced, for, si...</td>\n",
       "    </tr>\n",
       "    <tr>\n",
       "      <th>3</th>\n",
       "      <td>2231378</td>\n",
       "      <td>The Lemon Drop Kid , a New York City swindler,...</td>\n",
       "      <td>[The, Lemon, Drop, Kid, a, New, York, City, sw...</td>\n",
       "    </tr>\n",
       "    <tr>\n",
       "      <th>4</th>\n",
       "      <td>595909</td>\n",
       "      <td>Seventh-day Adventist Church pastor Michael Ch...</td>\n",
       "      <td>[Adventist, Church, pastor, Michael, Chamberla...</td>\n",
       "    </tr>\n",
       "    <tr>\n",
       "      <th>...</th>\n",
       "      <td>...</td>\n",
       "      <td>...</td>\n",
       "      <td>...</td>\n",
       "    </tr>\n",
       "    <tr>\n",
       "      <th>42298</th>\n",
       "      <td>34808485</td>\n",
       "      <td>The story is about Reema , a young Muslim scho...</td>\n",
       "      <td>[The, story, is, about, Reema, a, young, Musli...</td>\n",
       "    </tr>\n",
       "    <tr>\n",
       "      <th>42299</th>\n",
       "      <td>1096473</td>\n",
       "      <td>In 1928 Hollywood, director Leo Andreyev  look...</td>\n",
       "      <td>[In, Hollywood, director, Leo, Andreyev, looks...</td>\n",
       "    </tr>\n",
       "    <tr>\n",
       "      <th>42300</th>\n",
       "      <td>35102018</td>\n",
       "      <td>American Luthier focuses on Randy Parsons’ tra...</td>\n",
       "      <td>[American, Luthier, focuses, on, Randy, Parson...</td>\n",
       "    </tr>\n",
       "    <tr>\n",
       "      <th>42301</th>\n",
       "      <td>8628195</td>\n",
       "      <td>Abdur Rehman Khan , a middle-aged dry fruit se...</td>\n",
       "      <td>[Abdur, Rehman, Khan, a, dry, fruit, seller, f...</td>\n",
       "    </tr>\n",
       "    <tr>\n",
       "      <th>42302</th>\n",
       "      <td>6040782</td>\n",
       "      <td>1940 - Operation Dynamo has just taken place. ...</td>\n",
       "      <td>[Operation, Dynamo, has, just, taken, place, F...</td>\n",
       "    </tr>\n",
       "  </tbody>\n",
       "</table>\n",
       "<p>42295 rows × 3 columns</p>\n",
       "</div>"
      ],
      "text/plain": [
       "       Movie ID                                      Movie Summary  \\\n",
       "0      23890098  Shlykov, a hard-working taxi driver and Lyosha...   \n",
       "1      31186339  The nation of Panem consists of a wealthy Capi...   \n",
       "2      20663735  Poovalli Induchoodan  is sentenced for six yea...   \n",
       "3       2231378  The Lemon Drop Kid , a New York City swindler,...   \n",
       "4        595909  Seventh-day Adventist Church pastor Michael Ch...   \n",
       "...         ...                                                ...   \n",
       "42298  34808485  The story is about Reema , a young Muslim scho...   \n",
       "42299   1096473  In 1928 Hollywood, director Leo Andreyev  look...   \n",
       "42300  35102018  American Luthier focuses on Randy Parsons’ tra...   \n",
       "42301   8628195  Abdur Rehman Khan , a middle-aged dry fruit se...   \n",
       "42302   6040782  1940 - Operation Dynamo has just taken place. ...   \n",
       "\n",
       "                                       tokenized_summary  \n",
       "0      [Shlykov, a, taxi, driver, and, Lyosha, a, sax...  \n",
       "1      [The, nation, of, Panem, consists, of, a, weal...  \n",
       "2      [Poovalli, Induchoodan, is, sentenced, for, si...  \n",
       "3      [The, Lemon, Drop, Kid, a, New, York, City, sw...  \n",
       "4      [Adventist, Church, pastor, Michael, Chamberla...  \n",
       "...                                                  ...  \n",
       "42298  [The, story, is, about, Reema, a, young, Musli...  \n",
       "42299  [In, Hollywood, director, Leo, Andreyev, looks...  \n",
       "42300  [American, Luthier, focuses, on, Randy, Parson...  \n",
       "42301  [Abdur, Rehman, Khan, a, dry, fruit, seller, f...  \n",
       "42302  [Operation, Dynamo, has, just, taken, place, F...  \n",
       "\n",
       "[42295 rows x 3 columns]"
      ]
     },
     "metadata": {},
     "output_type": "display_data"
    }
   ],
   "source": [
    "#add a column containing tokenized summaries into words\n",
    "summary_metadata_copy.loc[:, 'tokenized_summary'] = summary_metadata_copy.apply(lambda x: tokenize(x['Movie Summary']), axis=1)\n",
    "\n",
    "display(summary_metadata_copy)"
   ]
  },
  {
   "cell_type": "code",
   "execution_count": 25,
   "metadata": {},
   "outputs": [
    {
     "data": {
      "text/html": [
       "<div>\n",
       "<style scoped>\n",
       "    .dataframe tbody tr th:only-of-type {\n",
       "        vertical-align: middle;\n",
       "    }\n",
       "\n",
       "    .dataframe tbody tr th {\n",
       "        vertical-align: top;\n",
       "    }\n",
       "\n",
       "    .dataframe thead th {\n",
       "        text-align: right;\n",
       "    }\n",
       "</style>\n",
       "<table border=\"1\" class=\"dataframe\">\n",
       "  <thead>\n",
       "    <tr style=\"text-align: right;\">\n",
       "      <th></th>\n",
       "      <th>Movie ID</th>\n",
       "      <th>Movie Summary</th>\n",
       "      <th>tokenized_summary</th>\n",
       "      <th>filtered_Tokens</th>\n",
       "    </tr>\n",
       "  </thead>\n",
       "  <tbody>\n",
       "    <tr>\n",
       "      <th>0</th>\n",
       "      <td>23890098</td>\n",
       "      <td>Shlykov, a hard-working taxi driver and Lyosha...</td>\n",
       "      <td>[Shlykov, a, taxi, driver, and, Lyosha, a, sax...</td>\n",
       "      <td>[Shlykov, taxi, driver, Lyosha, saxophonist, d...</td>\n",
       "    </tr>\n",
       "    <tr>\n",
       "      <th>1</th>\n",
       "      <td>31186339</td>\n",
       "      <td>The nation of Panem consists of a wealthy Capi...</td>\n",
       "      <td>[The, nation, of, Panem, consists, of, a, weal...</td>\n",
       "      <td>[nation, Panem, consists, wealthy, Capitol, tw...</td>\n",
       "    </tr>\n",
       "    <tr>\n",
       "      <th>2</th>\n",
       "      <td>20663735</td>\n",
       "      <td>Poovalli Induchoodan  is sentenced for six yea...</td>\n",
       "      <td>[Poovalli, Induchoodan, is, sentenced, for, si...</td>\n",
       "      <td>[Poovalli, Induchoodan, sentenced, six, years,...</td>\n",
       "    </tr>\n",
       "    <tr>\n",
       "      <th>3</th>\n",
       "      <td>2231378</td>\n",
       "      <td>The Lemon Drop Kid , a New York City swindler,...</td>\n",
       "      <td>[The, Lemon, Drop, Kid, a, New, York, City, sw...</td>\n",
       "      <td>[Lemon, Drop, Kid, New, York, City, swindler, ...</td>\n",
       "    </tr>\n",
       "    <tr>\n",
       "      <th>4</th>\n",
       "      <td>595909</td>\n",
       "      <td>Seventh-day Adventist Church pastor Michael Ch...</td>\n",
       "      <td>[Adventist, Church, pastor, Michael, Chamberla...</td>\n",
       "      <td>[Adventist, Church, pastor, Michael, Chamberla...</td>\n",
       "    </tr>\n",
       "    <tr>\n",
       "      <th>...</th>\n",
       "      <td>...</td>\n",
       "      <td>...</td>\n",
       "      <td>...</td>\n",
       "      <td>...</td>\n",
       "    </tr>\n",
       "    <tr>\n",
       "      <th>42298</th>\n",
       "      <td>34808485</td>\n",
       "      <td>The story is about Reema , a young Muslim scho...</td>\n",
       "      <td>[The, story, is, about, Reema, a, young, Musli...</td>\n",
       "      <td>[story, Reema, young, Muslim, schoolgirl, Mala...</td>\n",
       "    </tr>\n",
       "    <tr>\n",
       "      <th>42299</th>\n",
       "      <td>1096473</td>\n",
       "      <td>In 1928 Hollywood, director Leo Andreyev  look...</td>\n",
       "      <td>[In, Hollywood, director, Leo, Andreyev, looks...</td>\n",
       "      <td>[Hollywood, director, Leo, Andreyev, looks, ph...</td>\n",
       "    </tr>\n",
       "    <tr>\n",
       "      <th>42300</th>\n",
       "      <td>35102018</td>\n",
       "      <td>American Luthier focuses on Randy Parsons’ tra...</td>\n",
       "      <td>[American, Luthier, focuses, on, Randy, Parson...</td>\n",
       "      <td>[American, Luthier, focuses, Randy, Parsons, t...</td>\n",
       "    </tr>\n",
       "    <tr>\n",
       "      <th>42301</th>\n",
       "      <td>8628195</td>\n",
       "      <td>Abdur Rehman Khan , a middle-aged dry fruit se...</td>\n",
       "      <td>[Abdur, Rehman, Khan, a, dry, fruit, seller, f...</td>\n",
       "      <td>[Abdur, Rehman, Khan, dry, fruit, seller, Afgh...</td>\n",
       "    </tr>\n",
       "    <tr>\n",
       "      <th>42302</th>\n",
       "      <td>6040782</td>\n",
       "      <td>1940 - Operation Dynamo has just taken place. ...</td>\n",
       "      <td>[Operation, Dynamo, has, just, taken, place, F...</td>\n",
       "      <td>[Operation, Dynamo, taken, place, newly, conqu...</td>\n",
       "    </tr>\n",
       "  </tbody>\n",
       "</table>\n",
       "<p>42295 rows × 4 columns</p>\n",
       "</div>"
      ],
      "text/plain": [
       "       Movie ID                                      Movie Summary  \\\n",
       "0      23890098  Shlykov, a hard-working taxi driver and Lyosha...   \n",
       "1      31186339  The nation of Panem consists of a wealthy Capi...   \n",
       "2      20663735  Poovalli Induchoodan  is sentenced for six yea...   \n",
       "3       2231378  The Lemon Drop Kid , a New York City swindler,...   \n",
       "4        595909  Seventh-day Adventist Church pastor Michael Ch...   \n",
       "...         ...                                                ...   \n",
       "42298  34808485  The story is about Reema , a young Muslim scho...   \n",
       "42299   1096473  In 1928 Hollywood, director Leo Andreyev  look...   \n",
       "42300  35102018  American Luthier focuses on Randy Parsons’ tra...   \n",
       "42301   8628195  Abdur Rehman Khan , a middle-aged dry fruit se...   \n",
       "42302   6040782  1940 - Operation Dynamo has just taken place. ...   \n",
       "\n",
       "                                       tokenized_summary  \\\n",
       "0      [Shlykov, a, taxi, driver, and, Lyosha, a, sax...   \n",
       "1      [The, nation, of, Panem, consists, of, a, weal...   \n",
       "2      [Poovalli, Induchoodan, is, sentenced, for, si...   \n",
       "3      [The, Lemon, Drop, Kid, a, New, York, City, sw...   \n",
       "4      [Adventist, Church, pastor, Michael, Chamberla...   \n",
       "...                                                  ...   \n",
       "42298  [The, story, is, about, Reema, a, young, Musli...   \n",
       "42299  [In, Hollywood, director, Leo, Andreyev, looks...   \n",
       "42300  [American, Luthier, focuses, on, Randy, Parson...   \n",
       "42301  [Abdur, Rehman, Khan, a, dry, fruit, seller, f...   \n",
       "42302  [Operation, Dynamo, has, just, taken, place, F...   \n",
       "\n",
       "                                         filtered_Tokens  \n",
       "0      [Shlykov, taxi, driver, Lyosha, saxophonist, d...  \n",
       "1      [nation, Panem, consists, wealthy, Capitol, tw...  \n",
       "2      [Poovalli, Induchoodan, sentenced, six, years,...  \n",
       "3      [Lemon, Drop, Kid, New, York, City, swindler, ...  \n",
       "4      [Adventist, Church, pastor, Michael, Chamberla...  \n",
       "...                                                  ...  \n",
       "42298  [story, Reema, young, Muslim, schoolgirl, Mala...  \n",
       "42299  [Hollywood, director, Leo, Andreyev, looks, ph...  \n",
       "42300  [American, Luthier, focuses, Randy, Parsons, t...  \n",
       "42301  [Abdur, Rehman, Khan, dry, fruit, seller, Afgh...  \n",
       "42302  [Operation, Dynamo, taken, place, newly, conqu...  \n",
       "\n",
       "[42295 rows x 4 columns]"
      ]
     },
     "metadata": {},
     "output_type": "display_data"
    }
   ],
   "source": [
    "#Filter the column containing tokenized text by deleting all stopwords\n",
    "summary_metadata_copy.loc[:, 'filtered_Tokens'] = summary_metadata_copy['tokenized_summary'].apply(lambda tokens: [word for word in tokens if word.lower() not in stop_words])\n",
    "\n",
    "display(summary_metadata_copy)"
   ]
  },
  {
   "cell_type": "code",
   "execution_count": null,
   "metadata": {},
   "outputs": [],
   "source": [
    "#Initialize an empty list to store percentage of positive, negative and neutral words in each row of the 'filtered_Tokens' column \n",
    "positive_scores = []\n",
    "negative_scores = []\n",
    "neutral_scores = []\n",
    "sentiment_scores = []\n",
    "\n",
    "#Perform sentiment analysis on each word\n",
    "for liss in summary_metadata_copy['filtered_Tokens'] :\n",
    "  \n",
    "  # initialize all the counter to 0\n",
    "  nbr_words_pos = 0\n",
    "  nbr_words_neg = 0\n",
    "  nbr_words_neu = 0\n",
    "  nbr_words = 0\n",
    "\n",
    "  for word in liss:\n",
    "    nbr_words+= 1\n",
    "    blob = TextBlob(word)\n",
    "    #perform sentiment polarities of the word\n",
    "    if (blob.sentiment.polarity > 0):\n",
    "        nbr_words_pos += 1\n",
    "    elif (blob.sentiment.polarity < 0):\n",
    "        nbr_words_neg += 1\n",
    "    else:\n",
    "        nbr_words_neu += 1\n",
    "    \n",
    "  positive_scores.append(nbr_words_pos/nbr_words * 100)\n",
    "  negative_scores.append(nbr_words_neg/nbr_words * 100)\n",
    "  neutral_scores.append(nbr_words_neu/nbr_words * 100)"
   ]
  },
  {
   "cell_type": "code",
   "execution_count": null,
   "metadata": {},
   "outputs": [],
   "source": [
    "#create columns to store percentage of positive, negative and neutral words in each row of the 'filtered_Tokens' column\n",
    "summary_metadata_copy.loc[:,\"percentage of positive words\"] = positive_scores\n",
    "summary_metadata_copy.loc[:,\"percentage of negative words\"] = negative_scores\n",
    "summary_metadata_copy.loc[:,\"percentage of neutral words\"] = neutral_scores\n",
    "summary_metadata_copy.head(5)"
   ]
  },
  {
   "cell_type": "code",
   "execution_count": null,
   "metadata": {},
   "outputs": [],
   "source": [
    "# Merge the movie and summary dataframes based on the \"Movie ID\"\n",
    "movie_summary_metadata = pd.merge(movie_df, summary_metadata_copy, on=\"Movie ID\", how='outer')\n",
    "\n",
    "# Drop NAN values\n",
    "movie_summary_metadata.dropna(inplace=True)\n",
    "\n",
    "movie_summary_metadata.head(3)"
   ]
  },
  {
   "cell_type": "markdown",
   "metadata": {},
   "source": [
    "## Using the plot_summary dataset, we use NER, or Named Entity Recognition, to identify and classify entities (objects, people, locations, dates, etc.) in each movie summary text, extracting different entities occurences in a text and computing a \"score\" over these occurences"
   ]
  },
  {
   "cell_type": "code",
   "execution_count": 100,
   "metadata": {},
   "outputs": [
    {
     "name": "stdout",
     "output_type": "stream",
     "text": [
      "The shape of the summary metadata before removing duplicates is : (42295, 4)\n",
      "The shape of the summary metadata after removing duplicates is : (42295, 4)\n"
     ]
    }
   ],
   "source": [
    "#create a copy for the summary metadata\n",
    "summary_metadata_scores = plot_summaries_df.copy()\n",
    "print(f\"The shape of the summary metadata before removing duplicates is : {summary_metadata_copy.shape}\")\n",
    "\n",
    "#Remove duplicate values\n",
    "summary_metadata_scores = summary_metadata_scores.drop_duplicates(\"Movie Summary\")\n",
    "print(f\"The shape of the summary metadata after removing duplicates is : {summary_metadata_copy.shape}\")"
   ]
  },
  {
   "cell_type": "code",
   "execution_count": 101,
   "metadata": {
    "scrolled": true
   },
   "outputs": [
    {
     "data": {
      "text/html": [
       "<div>\n",
       "<style scoped>\n",
       "    .dataframe tbody tr th:only-of-type {\n",
       "        vertical-align: middle;\n",
       "    }\n",
       "\n",
       "    .dataframe tbody tr th {\n",
       "        vertical-align: top;\n",
       "    }\n",
       "\n",
       "    .dataframe thead th {\n",
       "        text-align: right;\n",
       "    }\n",
       "</style>\n",
       "<table border=\"1\" class=\"dataframe\">\n",
       "  <thead>\n",
       "    <tr style=\"text-align: right;\">\n",
       "      <th></th>\n",
       "      <th>Movie ID</th>\n",
       "      <th>Movie Summary</th>\n",
       "      <th>Score</th>\n",
       "    </tr>\n",
       "  </thead>\n",
       "  <tbody>\n",
       "    <tr>\n",
       "      <th>0</th>\n",
       "      <td>23890098</td>\n",
       "      <td>Shlykov, a hard-working taxi driver and Lyosha...</td>\n",
       "      <td>1.000000</td>\n",
       "    </tr>\n",
       "    <tr>\n",
       "      <th>1</th>\n",
       "      <td>31186339</td>\n",
       "      <td>The nation of Panem consists of a wealthy Capi...</td>\n",
       "      <td>1.240385</td>\n",
       "    </tr>\n",
       "    <tr>\n",
       "      <th>2</th>\n",
       "      <td>20663735</td>\n",
       "      <td>Poovalli Induchoodan  is sentenced for six yea...</td>\n",
       "      <td>2.230769</td>\n",
       "    </tr>\n",
       "    <tr>\n",
       "      <th>3</th>\n",
       "      <td>2231378</td>\n",
       "      <td>The Lemon Drop Kid , a New York City swindler,...</td>\n",
       "      <td>1.183673</td>\n",
       "    </tr>\n",
       "    <tr>\n",
       "      <th>4</th>\n",
       "      <td>595909</td>\n",
       "      <td>Seventh-day Adventist Church pastor Michael Ch...</td>\n",
       "      <td>1.633333</td>\n",
       "    </tr>\n",
       "    <tr>\n",
       "      <th>...</th>\n",
       "      <td>...</td>\n",
       "      <td>...</td>\n",
       "      <td>...</td>\n",
       "    </tr>\n",
       "    <tr>\n",
       "      <th>42298</th>\n",
       "      <td>34808485</td>\n",
       "      <td>The story is about Reema , a young Muslim scho...</td>\n",
       "      <td>NaN</td>\n",
       "    </tr>\n",
       "    <tr>\n",
       "      <th>42299</th>\n",
       "      <td>1096473</td>\n",
       "      <td>In 1928 Hollywood, director Leo Andreyev  look...</td>\n",
       "      <td>NaN</td>\n",
       "    </tr>\n",
       "    <tr>\n",
       "      <th>42300</th>\n",
       "      <td>35102018</td>\n",
       "      <td>American Luthier focuses on Randy Parsons’ tra...</td>\n",
       "      <td>NaN</td>\n",
       "    </tr>\n",
       "    <tr>\n",
       "      <th>42301</th>\n",
       "      <td>8628195</td>\n",
       "      <td>Abdur Rehman Khan , a middle-aged dry fruit se...</td>\n",
       "      <td>NaN</td>\n",
       "    </tr>\n",
       "    <tr>\n",
       "      <th>42302</th>\n",
       "      <td>6040782</td>\n",
       "      <td>1940 - Operation Dynamo has just taken place. ...</td>\n",
       "      <td>NaN</td>\n",
       "    </tr>\n",
       "  </tbody>\n",
       "</table>\n",
       "<p>42295 rows × 3 columns</p>\n",
       "</div>"
      ],
      "text/plain": [
       "       Movie ID                                      Movie Summary     Score\n",
       "0      23890098  Shlykov, a hard-working taxi driver and Lyosha...  1.000000\n",
       "1      31186339  The nation of Panem consists of a wealthy Capi...  1.240385\n",
       "2      20663735  Poovalli Induchoodan  is sentenced for six yea...  2.230769\n",
       "3       2231378  The Lemon Drop Kid , a New York City swindler,...  1.183673\n",
       "4        595909  Seventh-day Adventist Church pastor Michael Ch...  1.633333\n",
       "...         ...                                                ...       ...\n",
       "42298  34808485  The story is about Reema , a young Muslim scho...       NaN\n",
       "42299   1096473  In 1928 Hollywood, director Leo Andreyev  look...       NaN\n",
       "42300  35102018  American Luthier focuses on Randy Parsons’ tra...       NaN\n",
       "42301   8628195  Abdur Rehman Khan , a middle-aged dry fruit se...       NaN\n",
       "42302   6040782  1940 - Operation Dynamo has just taken place. ...       NaN\n",
       "\n",
       "[42295 rows x 3 columns]"
      ]
     },
     "metadata": {},
     "output_type": "display_data"
    }
   ],
   "source": [
    "#List of entity types and weights (weights are chosen manually)\n",
    "entity_weights = {\n",
    "    \"PERSON\": 1,\n",
    "    \"ORG\": 1,\n",
    "    \"GPE\": 1,\n",
    "    \"LOC\": 1,\n",
    "    \"DATE\": 0.5,\n",
    "    \"TIME\": 0.5,\n",
    "    \"MONEY\": 0.5,\n",
    "    \"PERCENT\": 0.5,\n",
    "    \"QUANTITY\": 0.5,\n",
    "    \"ORDINAL\": 0.5,\n",
    "    \"CARDINAL\": 0.5\n",
    "}\n",
    "\n",
    "#Function to calculate the score for a summary\n",
    "def calculate_score(summary):\n",
    "    doc = nlp(summary)\n",
    "    \n",
    "    # Calculate entity occurrences for each sentence\n",
    "    sentence_scores = []\n",
    "    for sentence in doc.sents:\n",
    "        entity_counts = Counter([ent.label_ for ent in sentence.ents])\n",
    "        sentence_score = sum(entity_counts.get(entity, 0) * weight for entity, weight in entity_weights.items())\n",
    "        sentence_scores.append(sentence_score)\n",
    "    #mean over scores of all sentences of each movie summary\n",
    "    return np.mean(sentence_scores)\n",
    "\n",
    "\n",
    "file_path = 'external_dataset/movie_score.csv' # Replace with the actual path to your file\n",
    "\n",
    "if os.path.exists(file_path):\n",
    "    score = pd.read_csv(file_path)\n",
    "    summary_metadata_scores['Score'] = score['Score']\n",
    "else:\n",
    "    #Add a new column 'Scores' to the DataFrame\n",
    "    summary_metadata_scores['Score'] = summary_metadata_scores[\"Movie Summary\"].apply(calculate_score)\n",
    "\n",
    "#Print the resulting DataFrame\n",
    "display(summary_metadata_scores)"
   ]
  },
  {
   "cell_type": "code",
   "execution_count": 102,
   "metadata": {},
   "outputs": [],
   "source": [
    "# Save scores to avoid unnecessary recomputations each time needed\n",
    "summary_metadata_scores[['Movie ID','Score']].to_csv('external_dataset/movie_score.csv', index=False)"
   ]
  },
  {
   "cell_type": "code",
   "execution_count": null,
   "metadata": {},
   "outputs": [],
   "source": [
    "# Merge the movie and summary dataframes based on the \"Movie ID\"\n",
    "movie_summary_metadata = pd.merge(movie_metadata, summary_metadata_copy, on=\"Movie ID\", how='outer')\n",
    "\n",
    "# Drop NAN values\n",
    "movie_summary_metadata.dropna(inplace=True)\n",
    "\n",
    "movie_summary_metadata.head(3)"
   ]
  }
 ],
 "metadata": {
  "kernelspec": {
   "display_name": "Python [conda env:ada] *",
   "language": "python",
   "name": "conda-env-ada-py"
  },
  "language_info": {
   "codemirror_mode": {
    "name": "ipython",
    "version": 3
   },
   "file_extension": ".py",
   "mimetype": "text/x-python",
   "name": "python",
   "nbconvert_exporter": "python",
   "pygments_lexer": "ipython3",
   "version": "3.11.5"
  }
 },
 "nbformat": 4,
 "nbformat_minor": 1
}
