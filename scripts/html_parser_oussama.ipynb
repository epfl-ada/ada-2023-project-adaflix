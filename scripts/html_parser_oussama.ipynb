{
 "cells": [
  {
   "cell_type": "code",
   "execution_count": 60,
   "metadata": {},
   "outputs": [
    {
     "name": "stdout",
     "output_type": "stream",
     "text": [
      "Requirement already satisfied: selenium in /Users/oussama/anaconda3/envs/ada/lib/python3.9/site-packages (4.15.2)\n",
      "Requirement already satisfied: urllib3[socks]<3,>=1.26 in /Users/oussama/anaconda3/envs/ada/lib/python3.9/site-packages (from selenium) (1.26.16)\n",
      "Requirement already satisfied: trio~=0.17 in /Users/oussama/anaconda3/envs/ada/lib/python3.9/site-packages (from selenium) (0.22.0)\n",
      "Requirement already satisfied: trio-websocket~=0.9 in /Users/oussama/anaconda3/envs/ada/lib/python3.9/site-packages (from selenium) (0.11.1)\n",
      "Requirement already satisfied: certifi>=2021.10.8 in /Users/oussama/anaconda3/envs/ada/lib/python3.9/site-packages (from selenium) (2023.7.22)\n",
      "Requirement already satisfied: attrs>=19.2.0 in /Users/oussama/anaconda3/envs/ada/lib/python3.9/site-packages (from trio~=0.17->selenium) (23.1.0)\n",
      "Requirement already satisfied: sortedcontainers in /Users/oussama/anaconda3/envs/ada/lib/python3.9/site-packages (from trio~=0.17->selenium) (2.4.0)\n",
      "Requirement already satisfied: async-generator>=1.9 in /Users/oussama/anaconda3/envs/ada/lib/python3.9/site-packages (from trio~=0.17->selenium) (1.10)\n",
      "Requirement already satisfied: idna in /Users/oussama/anaconda3/envs/ada/lib/python3.9/site-packages (from trio~=0.17->selenium) (3.4)\n",
      "Requirement already satisfied: outcome in /Users/oussama/anaconda3/envs/ada/lib/python3.9/site-packages (from trio~=0.17->selenium) (1.3.0.post0)\n",
      "Requirement already satisfied: sniffio in /Users/oussama/anaconda3/envs/ada/lib/python3.9/site-packages (from trio~=0.17->selenium) (1.2.0)\n",
      "Requirement already satisfied: exceptiongroup>=1.0.0rc9 in /Users/oussama/anaconda3/envs/ada/lib/python3.9/site-packages (from trio~=0.17->selenium) (1.0.4)\n",
      "Requirement already satisfied: wsproto>=0.14 in /Users/oussama/anaconda3/envs/ada/lib/python3.9/site-packages (from trio-websocket~=0.9->selenium) (1.2.0)\n",
      "Requirement already satisfied: PySocks!=1.5.7,<2.0,>=1.5.6 in /Users/oussama/anaconda3/envs/ada/lib/python3.9/site-packages (from urllib3[socks]<3,>=1.26->selenium) (1.7.1)\n",
      "Requirement already satisfied: h11<1,>=0.9.0 in /Users/oussama/anaconda3/envs/ada/lib/python3.9/site-packages (from wsproto>=0.14->trio-websocket~=0.9->selenium) (0.14.0)\n"
     ]
    }
   ],
   "source": [
    "!pip install selenium\n",
    "from selenium import webdriver\n",
    "from selenium.webdriver.common.by import By\n",
    "from selenium.webdriver.support.ui import WebDriverWait\n",
    "from selenium.webdriver.support import expected_conditions as EC\n",
    "from bs4 import BeautifulSoup\n",
    "import time\n",
    "import requests\n",
    "import pandas as pd"
   ]
  },
  {
   "cell_type": "code",
   "execution_count": null,
   "metadata": {},
   "outputs": [],
   "source": [
    "def parse_html(html_content):\n",
    "\n",
    "    \"\"\"\n",
    "    Parse the HTML content to extract movie information from a table.\n",
    "\n",
    "    Parameters:\n",
    "    - html_content (str): The HTML content of the webpage.\n",
    "\n",
    "    Returns:\n",
    "    - pd.DataFrame: A DataFrame containing the extracted movie information.\n",
    "    \"\"\"\n",
    "\n",
    "    #create an emoty list to store all the results\n",
    "    movies = []\n",
    "\n",
    "    # Parse the HTML content\n",
    "    soup = BeautifulSoup(html_content, 'html.parser')\n",
    "\n",
    "    # Find the table containing the movie information\n",
    "    table = soup.find('table')\n",
    "    \n",
    "    # Check if a table is found\n",
    "    if table is not None:\n",
    "\n",
    "        # Extract the header row\n",
    "        header_row = table.find('tr')\n",
    "        \n",
    "        # Check if the header row is found\n",
    "        if header_row is not None:\n",
    "            \n",
    "            # Get the index of each column\n",
    "            columns = [col.get_text(strip=True) for col in header_row.find_all('th')]\n",
    "\n",
    "            # Extract information for each movie\n",
    "            for row in table.find_all('tr')[1:]:  # Skip the header row\n",
    "                movie_info = [data.get_text(strip=True) for data in row.find_all('td')]\n",
    "                movies.append(dict(zip(columns, movie_info)))\n",
    "\n",
    "        else:\n",
    "            print(\"No header row found in the table.\")\n",
    "    else:\n",
    "        print(\"No table found on the webpage.\")\n",
    "\n",
    "    return pd.DataFrame(movies)"
   ]
  },
  {
   "cell_type": "code",
   "execution_count": 61,
   "metadata": {},
   "outputs": [],
   "source": [
    "def get_html_content(url,headers,next_button_x_path):\n",
    "    \"\"\"\n",
    "    Scrape HTML content from a webpage using Selenium.\n",
    "\n",
    "    Parameters:\n",
    "    - url (str): The URL of the webpage to scrape.\n",
    "    - headers (dict): Headers to be included in the HTTP request.\n",
    "    - next_button_x_path (str): XPath of the 'Load More' or next button.\n",
    "\n",
    "    Returns:\n",
    "    - pd.DataFrame: A DataFrame containing the scraped information.\n",
    "    \"\"\"\n",
    "\n",
    "    # Set up the Safari WebDriver\n",
    "    driver = webdriver.Safari()\n",
    "\n",
    "    driver.get(url)\n",
    "    df_list = []\n",
    "\n",
    "    # Assuming there's a button to load more content, find and click it in a loop\n",
    "    while True:\n",
    "        try:\n",
    "            # Get the current URL after clicking the button\n",
    "            next_page_url = driver.current_url\n",
    "\n",
    "            # Use the next_page_url to fetch HTML content\n",
    "            html_content = requests.get(next_page_url, headers=headers).content\n",
    "\n",
    "            df = parse_html(html_content)\n",
    "            df_list.append(df)\n",
    "\n",
    "            # Find and click the button to load more content\n",
    "            load_more_button = WebDriverWait(driver, 10).until(EC.presence_of_element_located((By.XPATH,next_button_x_path )))\n",
    "            load_more_button.click()\n",
    "\n",
    "            # Wait for some time to let the new content load\n",
    "            time.sleep(1)  # Adjust this based on your website's loading time\n",
    "\n",
    "        except Exception as e:\n",
    "            # Break the loop if there is an exception or the button is not found\n",
    "            print(f\"An error occurred: {e}\")\n",
    "            break\n",
    "\n",
    "    # Concatenate the list of DataFrames vertically\n",
    "    result_df = pd.concat(df_list, axis=0, ignore_index=True)\n",
    "\n",
    "    return result_df\n"
   ]
  },
  {
   "cell_type": "code",
   "execution_count": 62,
   "metadata": {},
   "outputs": [
    {
     "ename": "WebDriverException",
     "evalue": "Message: \n",
     "output_type": "error",
     "traceback": [
      "\u001b[0;31m---------------------------------------------------------------------------\u001b[0m",
      "\u001b[0;31mWebDriverException\u001b[0m                        Traceback (most recent call last)",
      "\u001b[1;32m/Users/oussama/Documents/DS/projet_ada/ada-2023-project-adaflix/html_parser_oussama.ipynb Cellule 4\u001b[0m line \u001b[0;36m1\n\u001b[1;32m      <a href='vscode-notebook-cell:/Users/oussama/Documents/DS/projet_ada/ada-2023-project-adaflix/html_parser_oussama.ipynb#X12sZmlsZQ%3D%3D?line=7'>8</a>\u001b[0m next_button_x_path \u001b[39m=\u001b[39m \u001b[39m'\u001b[39m\u001b[39m//*[@id=\u001b[39m\u001b[39m\"\u001b[39m\u001b[39ma-page\u001b[39m\u001b[39m\"\u001b[39m\u001b[39m]/main/div/div/div[4]/ul/li[3]/a\u001b[39m\u001b[39m'\u001b[39m\n\u001b[1;32m     <a href='vscode-notebook-cell:/Users/oussama/Documents/DS/projet_ada/ada-2023-project-adaflix/html_parser_oussama.ipynb#X12sZmlsZQ%3D%3D?line=9'>10</a>\u001b[0m \u001b[39m# get all the movie information\u001b[39;00m\n\u001b[0;32m---> <a href='vscode-notebook-cell:/Users/oussama/Documents/DS/projet_ada/ada-2023-project-adaflix/html_parser_oussama.ipynb#X12sZmlsZQ%3D%3D?line=10'>11</a>\u001b[0m result_dataframe \u001b[39m=\u001b[39m get_html_content(url,headers,next_button_x_path)\n\u001b[1;32m     <a href='vscode-notebook-cell:/Users/oussama/Documents/DS/projet_ada/ada-2023-project-adaflix/html_parser_oussama.ipynb#X12sZmlsZQ%3D%3D?line=11'>12</a>\u001b[0m result_dataframe\n",
      "\u001b[1;32m/Users/oussama/Documents/DS/projet_ada/ada-2023-project-adaflix/html_parser_oussama.ipynb Cellule 4\u001b[0m line \u001b[0;36m1\n\u001b[1;32m     <a href='vscode-notebook-cell:/Users/oussama/Documents/DS/projet_ada/ada-2023-project-adaflix/html_parser_oussama.ipynb#X12sZmlsZQ%3D%3D?line=13'>14</a>\u001b[0m \u001b[39m# Set up the Safari WebDriver\u001b[39;00m\n\u001b[1;32m     <a href='vscode-notebook-cell:/Users/oussama/Documents/DS/projet_ada/ada-2023-project-adaflix/html_parser_oussama.ipynb#X12sZmlsZQ%3D%3D?line=14'>15</a>\u001b[0m driver \u001b[39m=\u001b[39m webdriver\u001b[39m.\u001b[39mSafari()\n\u001b[0;32m---> <a href='vscode-notebook-cell:/Users/oussama/Documents/DS/projet_ada/ada-2023-project-adaflix/html_parser_oussama.ipynb#X12sZmlsZQ%3D%3D?line=16'>17</a>\u001b[0m driver\u001b[39m.\u001b[39;49mget(url)\n\u001b[1;32m     <a href='vscode-notebook-cell:/Users/oussama/Documents/DS/projet_ada/ada-2023-project-adaflix/html_parser_oussama.ipynb#X12sZmlsZQ%3D%3D?line=17'>18</a>\u001b[0m df_list \u001b[39m=\u001b[39m []\n\u001b[1;32m     <a href='vscode-notebook-cell:/Users/oussama/Documents/DS/projet_ada/ada-2023-project-adaflix/html_parser_oussama.ipynb#X12sZmlsZQ%3D%3D?line=19'>20</a>\u001b[0m \u001b[39m# Assuming there's a button to load more content, find and click it in a loop\u001b[39;00m\n",
      "File \u001b[0;32m~/anaconda3/envs/ada/lib/python3.9/site-packages/selenium/webdriver/remote/webdriver.py:355\u001b[0m, in \u001b[0;36mget\u001b[0;34m(self, url)\u001b[0m\n\u001b[1;32m    354\u001b[0m \u001b[39mdef\u001b[39;00m \u001b[39mget\u001b[39m(\u001b[39mself\u001b[39m, url: \u001b[39mstr\u001b[39m) \u001b[39m-\u001b[39m\u001b[39m>\u001b[39m \u001b[39mNone\u001b[39;00m:\n\u001b[0;32m--> 355\u001b[0m \u001b[39m    \u001b[39m\u001b[39m\"\"\"Loads a web page in the current browser session.\"\"\"\u001b[39;00m\n\u001b[1;32m    356\u001b[0m     \u001b[39mself\u001b[39m\u001b[39m.\u001b[39mexecute(Command\u001b[39m.\u001b[39mGET, {\u001b[39m\"\u001b[39m\u001b[39murl\u001b[39m\u001b[39m\"\u001b[39m: url})\n",
      "File \u001b[0;32m~/anaconda3/envs/ada/lib/python3.9/site-packages/selenium/webdriver/remote/webdriver.py:346\u001b[0m, in \u001b[0;36mexecute\u001b[0;34m(self, driver_command, params)\u001b[0m\n\u001b[1;32m    343\u001b[0m         params[\u001b[39m\"\u001b[39m\u001b[39msessionId\u001b[39m\u001b[39m\"\u001b[39m] \u001b[39m=\u001b[39m \u001b[39mself\u001b[39m\u001b[39m.\u001b[39msession_id\n\u001b[1;32m    345\u001b[0m response \u001b[39m=\u001b[39m \u001b[39mself\u001b[39m\u001b[39m.\u001b[39mcommand_executor\u001b[39m.\u001b[39mexecute(driver_command, params)\n\u001b[0;32m--> 346\u001b[0m \u001b[39mif\u001b[39;00m response:\n\u001b[1;32m    347\u001b[0m     \u001b[39mself\u001b[39m\u001b[39m.\u001b[39merror_handler\u001b[39m.\u001b[39mcheck_response(response)\n\u001b[1;32m    348\u001b[0m     response[\u001b[39m\"\u001b[39m\u001b[39mvalue\u001b[39m\u001b[39m\"\u001b[39m] \u001b[39m=\u001b[39m \u001b[39mself\u001b[39m\u001b[39m.\u001b[39m_unwrap_value(response\u001b[39m.\u001b[39mget(\u001b[39m\"\u001b[39m\u001b[39mvalue\u001b[39m\u001b[39m\"\u001b[39m, \u001b[39mNone\u001b[39;00m))\n",
      "File \u001b[0;32m~/anaconda3/envs/ada/lib/python3.9/site-packages/selenium/webdriver/remote/errorhandler.py:229\u001b[0m, in \u001b[0;36mErrorHandler.check_response\u001b[0;34m(self, response)\u001b[0m\n\u001b[1;32m    227\u001b[0m         alert_text \u001b[39m=\u001b[39m value[\u001b[39m\"\u001b[39m\u001b[39malert\u001b[39m\u001b[39m\"\u001b[39m]\u001b[39m.\u001b[39mget(\u001b[39m\"\u001b[39m\u001b[39mtext\u001b[39m\u001b[39m\"\u001b[39m)\n\u001b[1;32m    228\u001b[0m     \u001b[39mraise\u001b[39;00m exception_class(message, screen, stacktrace, alert_text)  \u001b[39m# type: ignore[call-arg]  # mypy is not smart enough here\u001b[39;00m\n\u001b[0;32m--> 229\u001b[0m \u001b[39mraise\u001b[39;00m exception_class(message, screen, stacktrace)\n",
      "\u001b[0;31mWebDriverException\u001b[0m: Message: \n"
     ]
    }
   ],
   "source": [
    "# headers (dict): Headers to be included in the HTTP request.\n",
    "headers = {'User-Agent': 'AppleWebKit/537.36 (KHTML, like Gecko) Safari/537.36'}\n",
    "\n",
    "# url (str): The URL of the webpage to scrape.\n",
    "url = \"https://www.boxofficemojo.com/chart/ww_top_lifetime_gross/\"\n",
    "\n",
    "# next_button_x_path (str): XPath of the 'Load More' or next button.\n",
    "next_button_x_path = '//*[@id=\"a-page\"]/main/div/div/div[4]/ul/li[3]/a'\n",
    "\n",
    "# get all the movie information\n",
    "result_dataframe = get_html_content(url,headers,next_button_x_path)\n",
    "result_dataframe"
   ]
  },
  {
   "cell_type": "code",
   "execution_count": 63,
   "metadata": {},
   "outputs": [],
   "source": [
    "#Save movie\n",
    "result_dataframe.to_csv('../external_dataset/boxofficemojo_dataframe.csv', index=False)"
   ]
  },
  {
   "cell_type": "code",
   "execution_count": null,
   "metadata": {},
   "outputs": [],
   "source": []
  }
 ],
 "metadata": {
  "kernelspec": {
   "display_name": "ada",
   "language": "python",
   "name": "python3"
  },
  "language_info": {
   "codemirror_mode": {
    "name": "ipython",
    "version": 3
   },
   "file_extension": ".py",
   "mimetype": "text/x-python",
   "name": "python",
   "nbconvert_exporter": "python",
   "pygments_lexer": "ipython3",
   "version": "3.9.18"
  },
  "orig_nbformat": 4
 },
 "nbformat": 4,
 "nbformat_minor": 2
}
