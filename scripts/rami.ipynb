{
 "cells": [
  {
   "cell_type": "markdown",
   "metadata": {},
   "source": [
    "# Imports and folder paths"
   ]
  },
  {
   "cell_type": "code",
   "execution_count": 4,
   "metadata": {},
   "outputs": [],
   "source": [
    "import pandas as pd\n",
    "import numpy as np\n",
    "import os\n",
    "import json\n",
    "import seaborn as sns\n",
    "import matplotlib.pyplot as plt\n",
    "import statsmodels.api as sm\n",
    "\n",
    "PATH_FOLDER = \"MovieSummaries/\""
   ]
  },
  {
   "cell_type": "markdown",
   "metadata": {},
   "source": [
    "# TRAIN DATA"
   ]
  },
  {
   "cell_type": "markdown",
   "metadata": {},
   "source": [
    "## 1) Character Metadata\n",
    "\n",
    "Metadata for 450,669 characters aligned to the movies above, extracted from the Noverber 4, 2012 dump of Freebase.  \n",
    "\n",
    "Tab-separated; columns:\n",
    "1. Wikipedia movie ID \n",
    "2. Freebase movie ID\n",
    "3. Movie release date\n",
    "4. Character name\n",
    "5. Actor date of birth\n",
    "6. Actor gender\n",
    "7. Actor height (in meters)\n",
    "8. Actor ethnicity (Freebase ID)\n",
    "9. Actor name\n",
    "10. Actor age at movie release\n",
    "11. Freebase character/actor map ID\n",
    "12. Freebase character ID\n",
    "13. Freebase actor ID\n",
    "\n",
    "---\n",
    "\n"
   ]
  },
  {
   "cell_type": "code",
   "execution_count": 5,
   "metadata": {},
   "outputs": [
    {
     "data": {
      "text/plain": "        Wikipedia movie ID Freebase movie ID Movie release date  \\\n422807            23687630        /m/06zm4kh               1951   \n234538            25670405        /m/09v2dxp               2007   \n131265            17259609         /m/0d7r5_         1949-10-14   \n360442             5776416         /m/0f3_wx         1973-03-17   \n359263            24154973        /m/07kf0d4         2010-02-09   \n\n       Character name Actor date of birth Actor gender  \\\n422807          Maria          1930-08-06            F   \n234538            NaN                 NaN          NaN   \n131265            NaN          1924-03-14            M   \n360442   Captain Nemo          1932-04-10            M   \n359263       Yuan Lie          1977-05-11            M   \n\n        Actor height (in meters) Actor ethnicity (Freebase ID)  \\\n422807                       NaN                           NaN   \n234538                       NaN                           NaN   \n131265                       NaN                           NaN   \n360442                       1.8                           NaN   \n359263                       NaN                           NaN   \n\n            Actor name  Actor age at movie release  \\\n422807      Maria Frau                        20.0   \n234538     R.J. Sharpe                         NaN   \n131265  Bonar Colleano                        25.0   \n360442     Omar Sharif                        40.0   \n359263         Andy On                        32.0   \n\n       Freebase character/actor map ID Freebase character ID Freebase actor ID  \n422807                      /m/0klq9ps            /m/0klqmhk        /m/0klq9pw  \n234538                      /m/0gc7_86                   NaN        /m/0gc7x55  \n131265                      /m/0gcpd5n                   NaN         /m/0gdt6g  \n360442                      /m/02tbhfq             /m/014s4v         /m/019_1h  \n359263                      /m/0bdt30b            /m/0gkm7gb        /m/03byjgh  ",
      "text/html": "<div>\n<style scoped>\n    .dataframe tbody tr th:only-of-type {\n        vertical-align: middle;\n    }\n\n    .dataframe tbody tr th {\n        vertical-align: top;\n    }\n\n    .dataframe thead th {\n        text-align: right;\n    }\n</style>\n<table border=\"1\" class=\"dataframe\">\n  <thead>\n    <tr style=\"text-align: right;\">\n      <th></th>\n      <th>Wikipedia movie ID</th>\n      <th>Freebase movie ID</th>\n      <th>Movie release date</th>\n      <th>Character name</th>\n      <th>Actor date of birth</th>\n      <th>Actor gender</th>\n      <th>Actor height (in meters)</th>\n      <th>Actor ethnicity (Freebase ID)</th>\n      <th>Actor name</th>\n      <th>Actor age at movie release</th>\n      <th>Freebase character/actor map ID</th>\n      <th>Freebase character ID</th>\n      <th>Freebase actor ID</th>\n    </tr>\n  </thead>\n  <tbody>\n    <tr>\n      <th>422807</th>\n      <td>23687630</td>\n      <td>/m/06zm4kh</td>\n      <td>1951</td>\n      <td>Maria</td>\n      <td>1930-08-06</td>\n      <td>F</td>\n      <td>NaN</td>\n      <td>NaN</td>\n      <td>Maria Frau</td>\n      <td>20.0</td>\n      <td>/m/0klq9ps</td>\n      <td>/m/0klqmhk</td>\n      <td>/m/0klq9pw</td>\n    </tr>\n    <tr>\n      <th>234538</th>\n      <td>25670405</td>\n      <td>/m/09v2dxp</td>\n      <td>2007</td>\n      <td>NaN</td>\n      <td>NaN</td>\n      <td>NaN</td>\n      <td>NaN</td>\n      <td>NaN</td>\n      <td>R.J. Sharpe</td>\n      <td>NaN</td>\n      <td>/m/0gc7_86</td>\n      <td>NaN</td>\n      <td>/m/0gc7x55</td>\n    </tr>\n    <tr>\n      <th>131265</th>\n      <td>17259609</td>\n      <td>/m/0d7r5_</td>\n      <td>1949-10-14</td>\n      <td>NaN</td>\n      <td>1924-03-14</td>\n      <td>M</td>\n      <td>NaN</td>\n      <td>NaN</td>\n      <td>Bonar Colleano</td>\n      <td>25.0</td>\n      <td>/m/0gcpd5n</td>\n      <td>NaN</td>\n      <td>/m/0gdt6g</td>\n    </tr>\n    <tr>\n      <th>360442</th>\n      <td>5776416</td>\n      <td>/m/0f3_wx</td>\n      <td>1973-03-17</td>\n      <td>Captain Nemo</td>\n      <td>1932-04-10</td>\n      <td>M</td>\n      <td>1.8</td>\n      <td>NaN</td>\n      <td>Omar Sharif</td>\n      <td>40.0</td>\n      <td>/m/02tbhfq</td>\n      <td>/m/014s4v</td>\n      <td>/m/019_1h</td>\n    </tr>\n    <tr>\n      <th>359263</th>\n      <td>24154973</td>\n      <td>/m/07kf0d4</td>\n      <td>2010-02-09</td>\n      <td>Yuan Lie</td>\n      <td>1977-05-11</td>\n      <td>M</td>\n      <td>NaN</td>\n      <td>NaN</td>\n      <td>Andy On</td>\n      <td>32.0</td>\n      <td>/m/0bdt30b</td>\n      <td>/m/0gkm7gb</td>\n      <td>/m/03byjgh</td>\n    </tr>\n  </tbody>\n</table>\n</div>"
     },
     "execution_count": 5,
     "metadata": {},
     "output_type": "execute_result"
    }
   ],
   "source": [
    "character_file_name = os.path.join(PATH_FOLDER, 'character.metadata.tsv')\n",
    "character_column = {\n",
    "    'Wikipedia movie ID': int,\n",
    "    'Freebase movie ID': str,\n",
    "    'Movie release date': str,\n",
    "    'Character name': str,\n",
    "    'Actor date of birth': str,\n",
    "    'Actor gender': str,\n",
    "    'Actor height (in meters)': float,\n",
    "    'Actor ethnicity (Freebase ID)': str,\n",
    "    'Actor name': str,\n",
    "    'Actor age at movie release': float,\n",
    "    'Freebase character/actor map ID': str,\n",
    "    'Freebase character ID': str,\n",
    "    'Freebase actor ID': str\n",
    "}\n",
    "character_metadata = pd.read_csv(character_file_name,  sep=\"\\t\", header=None, names=character_column.keys(), dtype=character_column)\n",
    "\n",
    "character_metadata.sample(5)"
   ]
  },
  {
   "cell_type": "markdown",
   "metadata": {},
   "source": [
    "## 2) Movie Metadata\n",
    "\n",
    "Metadata for 81,741 movies, extracted from the Noverber 4, 2012 dump of Freebase. \n",
    "\n",
    "Tab-separated; columns:\n",
    "1. Wikipedia movie ID\n",
    "2. Freebase movie ID\n",
    "3. Movie name\n",
    "4. Movie release date\n",
    "5. Movie box office revenue\n",
    "6. Movie runtime\n",
    "7. Movie languages (Freebase ID:name tuples)\n",
    "8. Movie countries (Freebase ID:name tuples)\n",
    "9. Movie genres (Freebase ID:name tuples)\n",
    "\n",
    "\n",
    "\n"
   ]
  },
  {
   "cell_type": "code",
   "execution_count": 6,
   "metadata": {},
   "outputs": [
    {
     "data": {
      "text/plain": "       Wikipedia movie ID Freebase movie ID        Movie name  \\\n48140            31278141        /m/0gfn7bd            Shadey   \n5310              2547451         /m/07m9l9    Animal Factory   \n357                207680         /m/01dh6f              Nell   \n8614             31612500        /m/0gmgwwx  Berry-Strawberry   \n62083            20466623        /m/04zxggc  A Country Doctor   \n\n      Movie release date  Movie box office revenue  Movie runtime  \\\n48140               1985                       NaN           90.0   \n5310          2000-10-22                   43805.0           95.0   \n357           1994-12-14               106683817.0          112.0   \n8614                 NaN                       NaN           95.0   \n62083               2007                       NaN           21.0   \n\n      Movie languages (Freebase ID:name tuples)  \\\n48140        {\"/m/02h40lc\": \"English Language\"}   \n5310         {\"/m/02h40lc\": \"English Language\"}   \n357          {\"/m/02h40lc\": \"English Language\"}   \n8614                                         {}   \n62083         {\"/m/03_9r\": \"Japanese Language\"}   \n\n       Movie countries (Freebase ID:name tuples)  \\\n48140             {\"/m/07ssc\": \"United Kingdom\"}   \n5310   {\"/m/09c7w0\": \"United States of America\"}   \n357    {\"/m/09c7w0\": \"United States of America\"}   \n8614                                          {}   \n62083                      {\"/m/03_3d\": \"Japan\"}   \n\n                  Movie genres (Freebase ID:name tuples)  \n48140                       {\"/m/05p553\": \"Comedy film\"}  \n5310   {\"/m/0lsxr\": \"Crime Fiction\", \"/m/07s9rl0\": \"D...  \n357                              {\"/m/07s9rl0\": \"Drama\"}  \n8614                        {\"/m/05p553\": \"Comedy film\"}  \n62083  {\"/m/02hmvc\": \"Short Film\", \"/m/0jxy\": \"Anime\"...  ",
      "text/html": "<div>\n<style scoped>\n    .dataframe tbody tr th:only-of-type {\n        vertical-align: middle;\n    }\n\n    .dataframe tbody tr th {\n        vertical-align: top;\n    }\n\n    .dataframe thead th {\n        text-align: right;\n    }\n</style>\n<table border=\"1\" class=\"dataframe\">\n  <thead>\n    <tr style=\"text-align: right;\">\n      <th></th>\n      <th>Wikipedia movie ID</th>\n      <th>Freebase movie ID</th>\n      <th>Movie name</th>\n      <th>Movie release date</th>\n      <th>Movie box office revenue</th>\n      <th>Movie runtime</th>\n      <th>Movie languages (Freebase ID:name tuples)</th>\n      <th>Movie countries (Freebase ID:name tuples)</th>\n      <th>Movie genres (Freebase ID:name tuples)</th>\n    </tr>\n  </thead>\n  <tbody>\n    <tr>\n      <th>48140</th>\n      <td>31278141</td>\n      <td>/m/0gfn7bd</td>\n      <td>Shadey</td>\n      <td>1985</td>\n      <td>NaN</td>\n      <td>90.0</td>\n      <td>{\"/m/02h40lc\": \"English Language\"}</td>\n      <td>{\"/m/07ssc\": \"United Kingdom\"}</td>\n      <td>{\"/m/05p553\": \"Comedy film\"}</td>\n    </tr>\n    <tr>\n      <th>5310</th>\n      <td>2547451</td>\n      <td>/m/07m9l9</td>\n      <td>Animal Factory</td>\n      <td>2000-10-22</td>\n      <td>43805.0</td>\n      <td>95.0</td>\n      <td>{\"/m/02h40lc\": \"English Language\"}</td>\n      <td>{\"/m/09c7w0\": \"United States of America\"}</td>\n      <td>{\"/m/0lsxr\": \"Crime Fiction\", \"/m/07s9rl0\": \"D...</td>\n    </tr>\n    <tr>\n      <th>357</th>\n      <td>207680</td>\n      <td>/m/01dh6f</td>\n      <td>Nell</td>\n      <td>1994-12-14</td>\n      <td>106683817.0</td>\n      <td>112.0</td>\n      <td>{\"/m/02h40lc\": \"English Language\"}</td>\n      <td>{\"/m/09c7w0\": \"United States of America\"}</td>\n      <td>{\"/m/07s9rl0\": \"Drama\"}</td>\n    </tr>\n    <tr>\n      <th>8614</th>\n      <td>31612500</td>\n      <td>/m/0gmgwwx</td>\n      <td>Berry-Strawberry</td>\n      <td>NaN</td>\n      <td>NaN</td>\n      <td>95.0</td>\n      <td>{}</td>\n      <td>{}</td>\n      <td>{\"/m/05p553\": \"Comedy film\"}</td>\n    </tr>\n    <tr>\n      <th>62083</th>\n      <td>20466623</td>\n      <td>/m/04zxggc</td>\n      <td>A Country Doctor</td>\n      <td>2007</td>\n      <td>NaN</td>\n      <td>21.0</td>\n      <td>{\"/m/03_9r\": \"Japanese Language\"}</td>\n      <td>{\"/m/03_3d\": \"Japan\"}</td>\n      <td>{\"/m/02hmvc\": \"Short Film\", \"/m/0jxy\": \"Anime\"...</td>\n    </tr>\n  </tbody>\n</table>\n</div>"
     },
     "execution_count": 6,
     "metadata": {},
     "output_type": "execute_result"
    }
   ],
   "source": [
    "movie_file_name = os.path.join(PATH_FOLDER, 'movie.metadata.tsv')\n",
    "\n",
    "# Define data types for each column\n",
    "movies_column = {'Wikipedia movie ID': int,\n",
    " 'Freebase movie ID': str,\n",
    " 'Movie name': str,\n",
    " 'Movie release date': str, # can't have datetime because it doesn't support 2 date format YYYY and YYYY-MM-DD simultaneously\n",
    " 'Movie box office revenue': float, # Use Int64 to allow NaNs ('problem' : they are writen as <NA>)\n",
    " 'Movie runtime': float,\n",
    " 'Movie languages (Freebase ID:name tuples)': str,\n",
    " 'Movie countries (Freebase ID:name tuples)': str,\n",
    " 'Movie genres (Freebase ID:name tuples)': str}\n",
    "\n",
    "movie_metadata = pd.read_csv(movie_file_name,  sep=\"\\t\", header=None, names=movies_column.keys(), dtype=movies_column)\n",
    "\n",
    "#movie_metadata = movie_metadata.assign(Year=movie_metadata[\"Movie release date\"].apply(lambda x: str(x)[:4]).astype(int))\n",
    "\n",
    "\n",
    "movie_metadata.sample(5) "
   ]
  },
  {
   "cell_type": "markdown",
   "metadata": {},
   "source": [
    "## 3) Plot Summaries\n",
    "\n",
    "Plot summaries of 42,306 movies extracted from the November 2, 2012 dump of English-language Wikipedia. Each line contains the Wikipedia movie ID (which indexes into movie.metadata.tsv) followed by the summary."
   ]
  },
  {
   "cell_type": "code",
   "execution_count": 7,
   "metadata": {},
   "outputs": [
    {
     "data": {
      "text/plain": "       Movie ID                                      Movie Summary\n4701   14264650  The Kid from Cleveland tells the story of a \"t...\n25971  18004401  A singer Pappan ([[Rahman  is killed but Yamar...\n15903  21413341  Junior Asparagus is anxious for the new show p...\n31679   1511805  The film consists of four stories in which hum...\n35263   8928152  {{Plot}} Ten year-old India Opal Buloni  has j...",
      "text/html": "<div>\n<style scoped>\n    .dataframe tbody tr th:only-of-type {\n        vertical-align: middle;\n    }\n\n    .dataframe tbody tr th {\n        vertical-align: top;\n    }\n\n    .dataframe thead th {\n        text-align: right;\n    }\n</style>\n<table border=\"1\" class=\"dataframe\">\n  <thead>\n    <tr style=\"text-align: right;\">\n      <th></th>\n      <th>Movie ID</th>\n      <th>Movie Summary</th>\n    </tr>\n  </thead>\n  <tbody>\n    <tr>\n      <th>4701</th>\n      <td>14264650</td>\n      <td>The Kid from Cleveland tells the story of a \"t...</td>\n    </tr>\n    <tr>\n      <th>25971</th>\n      <td>18004401</td>\n      <td>A singer Pappan ([[Rahman  is killed but Yamar...</td>\n    </tr>\n    <tr>\n      <th>15903</th>\n      <td>21413341</td>\n      <td>Junior Asparagus is anxious for the new show p...</td>\n    </tr>\n    <tr>\n      <th>31679</th>\n      <td>1511805</td>\n      <td>The film consists of four stories in which hum...</td>\n    </tr>\n    <tr>\n      <th>35263</th>\n      <td>8928152</td>\n      <td>{{Plot}} Ten year-old India Opal Buloni  has j...</td>\n    </tr>\n  </tbody>\n</table>\n</div>"
     },
     "execution_count": 7,
     "metadata": {},
     "output_type": "execute_result"
    }
   ],
   "source": [
    "# to be added\n",
    "summary_file_name = os.path.join(PATH_FOLDER, 'plot_summaries.txt')\n",
    "summary_metadata = pd.read_csv(summary_file_name,  sep=\"\\t\")\n",
    "\n",
    "summary_metadata.columns = [ \"Movie ID\",\n",
    "                              \"Movie Summary\" ]\n",
    "\n",
    "summary_metadata[\"Movie Summary\"] = summary_metadata[\"Movie Summary\"].astype(\"string\")\n",
    "\n",
    "summary_metadata.sample(5)"
   ]
  },
  {
   "cell_type": "markdown",
   "metadata": {},
   "source": [
    "## 4) Stanford CoreNLP Plot Summaries\n",
    "\n",
    "The plot summaries, run through the Stanford CoreNLP pipeline (tagging, parsing, NER and coref). Each filename begins with the Wikipedia movie ID (which indexes into movie.metadata.tsv)."
   ]
  },
  {
   "cell_type": "code",
   "execution_count": 8,
   "metadata": {},
   "outputs": [],
   "source": [
    "# to be added"
   ]
  },
  {
   "cell_type": "markdown",
   "metadata": {},
   "source": [
    "# TEST DATA"
   ]
  },
  {
   "cell_type": "markdown",
   "metadata": {},
   "source": [
    "## 1) Tvtropes clusters\n",
    "\n",
    "72 character types drawn from tvtropes.com, along with 501 instances of those types. The ID field indexes into the Freebase character/actor map ID in character.metadata.tsv.\n"
   ]
  },
  {
   "cell_type": "code",
   "execution_count": 9,
   "metadata": {},
   "outputs": [
    {
     "data": {
      "text/plain": "        Character role      Character name  \\\n476          trickster        Tyler Durden   \n333  loser_protagonist              Dennis   \n427            slacker  Michele Weinberger   \n144  crazy_jealous_guy        Tony Montana   \n344     loveable_rogue         Harold Hill   \n\n                                 Movie name Freebase character/actor map ID  \\\n476                              Fight Club                       /m/0jy5tj   \n333                       Run, Fat Boy, Run                      /m/03lvx8n   \n427  Romy and Michele's High School Reunion                       /m/0k2p5j   \n144                                Scarface                      /m/02_8_nx   \n344                           The Music Man                      /m/04hv61w   \n\n            Actor name  \n476          Brad Pitt  \n333         Simon Pegg  \n427        Lisa Kudrow  \n144          Al Pacino  \n344  Matthew Broderick  ",
      "text/html": "<div>\n<style scoped>\n    .dataframe tbody tr th:only-of-type {\n        vertical-align: middle;\n    }\n\n    .dataframe tbody tr th {\n        vertical-align: top;\n    }\n\n    .dataframe thead th {\n        text-align: right;\n    }\n</style>\n<table border=\"1\" class=\"dataframe\">\n  <thead>\n    <tr style=\"text-align: right;\">\n      <th></th>\n      <th>Character role</th>\n      <th>Character name</th>\n      <th>Movie name</th>\n      <th>Freebase character/actor map ID</th>\n      <th>Actor name</th>\n    </tr>\n  </thead>\n  <tbody>\n    <tr>\n      <th>476</th>\n      <td>trickster</td>\n      <td>Tyler Durden</td>\n      <td>Fight Club</td>\n      <td>/m/0jy5tj</td>\n      <td>Brad Pitt</td>\n    </tr>\n    <tr>\n      <th>333</th>\n      <td>loser_protagonist</td>\n      <td>Dennis</td>\n      <td>Run, Fat Boy, Run</td>\n      <td>/m/03lvx8n</td>\n      <td>Simon Pegg</td>\n    </tr>\n    <tr>\n      <th>427</th>\n      <td>slacker</td>\n      <td>Michele Weinberger</td>\n      <td>Romy and Michele's High School Reunion</td>\n      <td>/m/0k2p5j</td>\n      <td>Lisa Kudrow</td>\n    </tr>\n    <tr>\n      <th>144</th>\n      <td>crazy_jealous_guy</td>\n      <td>Tony Montana</td>\n      <td>Scarface</td>\n      <td>/m/02_8_nx</td>\n      <td>Al Pacino</td>\n    </tr>\n    <tr>\n      <th>344</th>\n      <td>loveable_rogue</td>\n      <td>Harold Hill</td>\n      <td>The Music Man</td>\n      <td>/m/04hv61w</td>\n      <td>Matthew Broderick</td>\n    </tr>\n  </tbody>\n</table>\n</div>"
     },
     "execution_count": 9,
     "metadata": {},
     "output_type": "execute_result"
    }
   ],
   "source": [
    "tvtropes_file_name = os.path.join(PATH_FOLDER, 'tvtropes.clusters.txt')\n",
    "tvtropes_metadata = pd.read_csv(tvtropes_file_name, sep=\"\\t\")\n",
    "\n",
    "# define columns\n",
    "tvtropes_metadata.columns = [ 'character',\n",
    "                             'data' ]\n",
    "\n",
    "# Convert the 'data' column to strings\n",
    "tvtropes_metadata['data'] = tvtropes_metadata['data'].apply(lambda x: str(x))\n",
    "\n",
    "# Extract and convert the JSON data to separate columns\n",
    "tvtropes_metadata = pd.DataFrame([(character_type, json.loads(data)) for character_type, data\n",
    "               in zip(tvtropes_metadata['character'], tvtropes_metadata['data'])])\n",
    "\n",
    "# redefine columns lost from the previous operation\n",
    "tvtropes_metadata.columns = ['character', 'data']\n",
    "\n",
    "# Expand the 'data' column into separate columns\n",
    "tvtropes_metadata = pd.concat([tvtropes_metadata, tvtropes_metadata['data'].apply(pd.Series)], axis=1)\n",
    "\n",
    "# Drop the original 'data' column\n",
    "tvtropes_metadata.drop('data', axis=1, inplace=True)\n",
    "\n",
    "tvtropes_metadata.columns = [ 'Character role',\n",
    "                               'Character name',\n",
    "                               'Movie name',\n",
    "                               'Freebase character/actor map ID', \n",
    "                               'Actor name' ]\n",
    "\n",
    "tvtropes_metadata.sample(5)\n"
   ]
  },
  {
   "cell_type": "markdown",
   "metadata": {},
   "source": [
    "## 2) Name clusters\n",
    "\n",
    "970 unique character names used in at least two different movies, along with 2,666 instances of those types. The ID field indexes into the Freebase character/actor map ID in character.metadata.tsv.\n"
   ]
  },
  {
   "cell_type": "code",
   "execution_count": 10,
   "metadata": {},
   "outputs": [
    {
     "data": {
      "text/plain": "     character name Freebase character/actor map ID\n2092    Danny Ocean                       /m/0k1fh0\n726   Eden Sinclair                      /m/0gchg1g\n1875     Laxmi Devi                       /m/0jznk7\n2274   Rocky Balboa                      /m/01xxqty\n1273     Daffy Duck                      /m/0hynk74",
      "text/html": "<div>\n<style scoped>\n    .dataframe tbody tr th:only-of-type {\n        vertical-align: middle;\n    }\n\n    .dataframe tbody tr th {\n        vertical-align: top;\n    }\n\n    .dataframe thead th {\n        text-align: right;\n    }\n</style>\n<table border=\"1\" class=\"dataframe\">\n  <thead>\n    <tr style=\"text-align: right;\">\n      <th></th>\n      <th>character name</th>\n      <th>Freebase character/actor map ID</th>\n    </tr>\n  </thead>\n  <tbody>\n    <tr>\n      <th>2092</th>\n      <td>Danny Ocean</td>\n      <td>/m/0k1fh0</td>\n    </tr>\n    <tr>\n      <th>726</th>\n      <td>Eden Sinclair</td>\n      <td>/m/0gchg1g</td>\n    </tr>\n    <tr>\n      <th>1875</th>\n      <td>Laxmi Devi</td>\n      <td>/m/0jznk7</td>\n    </tr>\n    <tr>\n      <th>2274</th>\n      <td>Rocky Balboa</td>\n      <td>/m/01xxqty</td>\n    </tr>\n    <tr>\n      <th>1273</th>\n      <td>Daffy Duck</td>\n      <td>/m/0hynk74</td>\n    </tr>\n  </tbody>\n</table>\n</div>"
     },
     "execution_count": 10,
     "metadata": {},
     "output_type": "execute_result"
    }
   ],
   "source": [
    "name_file_name = os.path.join(PATH_FOLDER, 'name.clusters.txt')\n",
    "name_metadata = pd.read_csv(name_file_name,  sep=\"\\t\")\n",
    "\n",
    "name_metadata.columns = [ \"character name\",\n",
    "                                \"Freebase character/actor map ID\" ]\n",
    "\n",
    "name_metadata.sample(5)\n"
   ]
  },
  {
   "cell_type": "markdown",
   "metadata": {},
   "source": [
    "# DATA ANALYSIS & PROCESSING"
   ]
  },
  {
   "cell_type": "markdown",
   "source": [
    "### Inflation"
   ],
   "metadata": {
    "collapsed": false
   }
  },
  {
   "cell_type": "code",
   "execution_count": 11,
   "outputs": [
    {
     "name": "stderr",
     "output_type": "stream",
     "text": [
      "C:\\Users\\ratas\\.conda\\envs\\ada\\lib\\site-packages\\openpyxl\\styles\\stylesheet.py:226: UserWarning: Workbook contains no default style, apply openpyxl's default\n",
      "  warn(\"Workbook contains no default style, apply openpyxl's default\")\n"
     ]
    }
   ],
   "source": [
    "# import inflation.xlsx from 'external_dataset' directory, take only 2 first columns begining line 11 (which are columns names)\n",
    "inflation = pd.read_excel(\"external_dataset/inflation.xlsx\", header=11)"
   ],
   "metadata": {
    "collapsed": false
   }
  },
  {
   "cell_type": "code",
   "execution_count": 12,
   "outputs": [
    {
     "data": {
      "text/plain": "     Year   Annual  2022 multiplier\n0    1913    9.900        29.561111\n1    1914   10.000        29.265500\n2    1915   10.100        28.975743\n3    1916   10.900        26.849083\n4    1917   12.800        22.863672\n..    ...      ...              ...\n105  2018  251.107         1.165459\n106  2019  255.657         1.144717\n107  2020  258.811         1.130767\n108  2021  270.970         1.080027\n109  2022  292.655         1.000000\n\n[110 rows x 3 columns]",
      "text/html": "<div>\n<style scoped>\n    .dataframe tbody tr th:only-of-type {\n        vertical-align: middle;\n    }\n\n    .dataframe tbody tr th {\n        vertical-align: top;\n    }\n\n    .dataframe thead th {\n        text-align: right;\n    }\n</style>\n<table border=\"1\" class=\"dataframe\">\n  <thead>\n    <tr style=\"text-align: right;\">\n      <th></th>\n      <th>Year</th>\n      <th>Annual</th>\n      <th>2022 multiplier</th>\n    </tr>\n  </thead>\n  <tbody>\n    <tr>\n      <th>0</th>\n      <td>1913</td>\n      <td>9.900</td>\n      <td>29.561111</td>\n    </tr>\n    <tr>\n      <th>1</th>\n      <td>1914</td>\n      <td>10.000</td>\n      <td>29.265500</td>\n    </tr>\n    <tr>\n      <th>2</th>\n      <td>1915</td>\n      <td>10.100</td>\n      <td>28.975743</td>\n    </tr>\n    <tr>\n      <th>3</th>\n      <td>1916</td>\n      <td>10.900</td>\n      <td>26.849083</td>\n    </tr>\n    <tr>\n      <th>4</th>\n      <td>1917</td>\n      <td>12.800</td>\n      <td>22.863672</td>\n    </tr>\n    <tr>\n      <th>...</th>\n      <td>...</td>\n      <td>...</td>\n      <td>...</td>\n    </tr>\n    <tr>\n      <th>105</th>\n      <td>2018</td>\n      <td>251.107</td>\n      <td>1.165459</td>\n    </tr>\n    <tr>\n      <th>106</th>\n      <td>2019</td>\n      <td>255.657</td>\n      <td>1.144717</td>\n    </tr>\n    <tr>\n      <th>107</th>\n      <td>2020</td>\n      <td>258.811</td>\n      <td>1.130767</td>\n    </tr>\n    <tr>\n      <th>108</th>\n      <td>2021</td>\n      <td>270.970</td>\n      <td>1.080027</td>\n    </tr>\n    <tr>\n      <th>109</th>\n      <td>2022</td>\n      <td>292.655</td>\n      <td>1.000000</td>\n    </tr>\n  </tbody>\n</table>\n<p>110 rows × 3 columns</p>\n</div>"
     },
     "execution_count": 12,
     "metadata": {},
     "output_type": "execute_result"
    }
   ],
   "source": [
    "inflation[\"2022 multiplier\"] = inflation.iloc[-1].Annual / inflation[\"Annual\"]\n",
    "inflation"
   ],
   "metadata": {
    "collapsed": false
   }
  },
  {
   "cell_type": "markdown",
   "source": [
    "### Analysis of impact of charcters on film success (needs improvments)"
   ],
   "metadata": {
    "collapsed": false
   }
  },
  {
   "cell_type": "code",
   "execution_count": 13,
   "metadata": {},
   "outputs": [
    {
     "data": {
      "text/plain": "array(['Stuart Little', 'John Doe', 'Josh Framm', 'Caspian X',\n       'Apostle Peter', 'Van Wilder', 'Max Cady', 'The Emperor of China',\n       'Ludo Dekker', 'Veer Pratap Singh', 'John McClane', 'Jack Cates',\n       'Shorty Meeks', 'Fievel Mousekewitz', 'Kazuya Mishima',\n       'Darth Vader', 'Queen Victoria', 'Billy Fish', 'Ian Hawke',\n       'Ginger Fitzgerald', 'Le Chiffre', 'The Professor',\n       'Jim Levenstein', 'Dave Robicheaux', \"Jimmy 'The Tulip' Tudeski\",\n       'Pavel Chekov', 'Chow Mo-wan', 'Foghorn Leghorn', 'Walter Hill',\n       'Dylan Sanders', 'The Girl', 'Sherlock Holmes', 'Emperor Nero',\n       'Sonia Saxena', 'David King', 'Mr. Big', 'The Drifter', 'Molly O',\n       'Judas Iscariot', 'Gloria Sullivan', 'Jennifer Parker',\n       'Roger Murtaugh', 'Sharpay Evans', 'Charlie Dog', 'Dr. Vijay',\n       'Aldous Snow', 'Mr. Smith', 'Ricky Baker', 'The Stranger',\n       'Michelle Flaherty', 'Sidney Prescott', 'Kay Adams', 'Ted Striker',\n       'Prince Charming', 'Mr. Kesuke Miyagi', 'Bill Holt',\n       'Josef Stalin', 'Jake Taylor', 'Dorinda Durston', 'Robin Hood',\n       'Jonathan Corliss', 'Marie Antoinette', 'Tin Man', 'Betty Boop',\n       'Charlie Chaplin', 'Tom Baker', 'Detective Eric Matthews',\n       'Long John Silver', 'David Martin', 'Nicholas Nickleby',\n       'Prince Edward', 'Carrie Bradshaw', 'Jack Foley', 'Vikram Kapoor',\n       'Philip Marlowe', 'Richard Mason', 'Harry Potter', 'Mia Toretto',\n       'Tom Logan', 'Prince Philip', 'Sam Sheepdog', 'Orson Welles',\n       'Tony Toponi', 'Tommy Pickles', 'Mace Windu', 'Uncle Elroy',\n       'The Driver', 'Bilbo Baggins', 'Snow Queen', 'Gen. Robert E. Lee',\n       'Arun Chatterjee', 'Ricky Nash', 'Captain Jack Sparrow',\n       \"Ricky 'Wild Thing' Vaughn\", 'Tony Blair', 'Sir Galahad',\n       'Charlie Conway', 'Uncle Fester', 'Wild Bill Hickok', 'Ko Chun',\n       'Sherman Klump', 'Apple Annie', 'Harrison Bergeron',\n       'Sadie Thompson', 'Jamie Lloyd', 'Damien Thorn', 'Marian Paroo',\n       'White Witch', 'Carl Denham', 'Cindy Campbell',\n       'Su Li-zhen - Mrs. Chan', 'Lee Chan', 'Ajay Sharma',\n       \"Fletcher Christian Master's Mate\", 'Charlie Croker', 'The Tramp',\n       'Sheriff of Nottingham', 'Sophie Piper', 'Dark Witch',\n       'Clark Kent', 'Ben Marco', 'James St. James', 'Li Shang',\n       'Harry Osborn', 'Henery Hawk', 'Conan Edogawa', 'André Matias',\n       'Harry Morgan', 'Daniel Jackson', 'Mr. Moto',\n       'Sheriff Buford T. Justice', 'Pai Mei', 'Sunder Srivastava',\n       'Rachel Keller', 'Emily Newton', 'Hildegarde Withers',\n       'Harold Lee', 'Bhavani Shankar', 'Sweeney Todd', 'Barnyard Dawg',\n       'George Banks', 'Dante Hicks', 'The Boss', 'Ruth Wonderly',\n       'Master Wu', 'Tommy Biggs', 'Ebenezer Scrooge', 'Michael Corvin',\n       'Mitch Weaver', 'Karan Malhotra', 'Ellen Griswold',\n       \"Brian O'Conner\", 'Doc McCoy', 'Frank Jones', 'Peter Pan',\n       'John Seward', 'Son Goten', 'Mahendra Varma', 'Kevin Myers',\n       'T.J. Hicks', 'Biff Tannen', 'James Ubriacco', 'Ellen Ripley',\n       'Perry Smith', 'Lt. Frank Drebin', 'King Louis XI', 'Adolf Hitler',\n       'Edgar Allan Poe', 'Calvin Palmer', 'Prem Kumar', 'Carmen Cortez',\n       'Amy Fisher', 'Nikhil Kapoor', 'Howard Hughes', 'Juliet Capulet',\n       'Clear Rivers', 'Doctor Moreau', 'Richard Rich', 'Frank James',\n       'George W. Bush', 'Samwise Gamgee', 'Kentaro Moto',\n       'The Leprechaun', 'Alex Tanner', 'Stone Alexander',\n       'Reuben Tishkoff', 'Ludwig van Beethoven', 'Han Solo',\n       'Ash Williams', 'Vikram Singh', 'John Hatcher', 'Ethan Hunt',\n       'Sir Charles Litton', 'Mike Wazowski', 'Drake Parker',\n       'Mickey Goldmill', 'Mark Gor', 'Amelia Earhart', 'Paul Smecker',\n       'Max Goldman', 'The Pilot', 'Leia Organa', 'Count Dooku',\n       'Wally Walrus', 'Helen Hudson', 'Claude Cat',\n       'Bernard the Arch-elf', 'Prithvi Singh', 'Ronald Niedermann',\n       'Edmund Pevensie', 'Jai Kumar', 'Samantha Jones', 'Priya Malhotra',\n       'Mohandas Karamchand Gandhi', 'Dominic Toretto', 'Travis Coates',\n       'Wendy Darling', 'Ice Princess', 'Jack Walsh', 'Laurie Strode',\n       'Debbie Strand', 'Mrs. Deshmukh', 'Princess Aura', 'Tom Brookman',\n       'Agent Augustus Eugene Gibbons', 'The Artful Dodger',\n       'Arun Choudhury', 'Fa Mulan', 'King Triton', 'Nanny McPhee',\n       'Prince Derek', 'Clark Griswold', 'Norman Pitkin', 'Henry Bergner',\n       'Sheriff Hoyt', 'Janet Weiss', 'Susan Johnson', 'Boris the Goose',\n       'Stu Price', 'Susan Walker', 'Ellen Carlsson', 'Carol McCoy',\n       'Maria Elena', 'James Roberts', 'Kristi Rey', 'Hans Zarkov',\n       'Iron Man', 'Dan Erickson', 'George Newton',\n       'Ellen Wagstaff Arden', 'Agent Smith', 'Eddie Johnson',\n       'Charlie Calvin', 'Pepper Potts', 'Indiana Jones', 'Peter Parker',\n       'Thunderbolt Ross', 'Paul Crewe', 'Jack Carter', 'Terry McKay',\n       'Henry Frankenstein', 'Marcellus Washburn', 'Jack Shepard',\n       'Master Shifu', 'Meyer Lansky', 'Roy Miller', 'Riley Poole',\n       'Shaggy Rogers', 'Dale Arden', 'Young Jenny', 'Mina Harker',\n       'Sgt. Tibbs', 'Nick Parker', 'Vijay Verma', 'Road Runner',\n       'John Kreese', 'Misa Amane', 'Sonia Mehra', 'Nick Persons',\n       'Kathy Lutz', 'Kim Possible', 'Eden Sinclair', 'Amanda Young',\n       'Mary Jane', 'Emmett Richmond', 'James Bond',\n       'Queen Clarisse Renaldi', 'Tracy Lord', 'Sister Sarah',\n       'Sally Brown', 'The Man', 'Bastian Balthazar Bux', 'Oscar Madison',\n       'Elena Morales', 'Mr. George Wilson', 'Sara Crewe', 'Daisy Duke',\n       'Shuya Nanahara', 'Thomas Howard, 3rd Duke of Norfolk',\n       'Jack Frost', 'Monty Oberoi', 'Mr. Tinkles', 'Leo Bloom',\n       'Reba McClane', 'Liu Kang', 'Tony Manero', 'Sheriff Woody',\n       'Bernie Focker', 'Joe Collins', 'Arun Verma', 'Kelsi Nielsen',\n       'Speedy Gonzales', 'Joel Cairo', 'Hannibal Lecter', 'Aunt Bea',\n       'Kay Wilson', 'Scott Evil', 'Willy Wonka', 'Rahul Verma',\n       'Dr. Henry Clerval', 'Miss Clavel', 'Mary Lane', 'Homeless Man',\n       'Anne Boleyn', 'Deuce Bigalow', 'Fred Flintstone',\n       'Julie James Bronson', 'Rachel Dawes', 'Mickey Mouse', 'Mr. D',\n       'John Henry Brennick', 'Vilos Cohaagen', 'The Thief',\n       'Inspector Lestrade', 'Jean Valjean', 'Richard Hannay',\n       'T. E. Lawrence', 'John Ryder', 'Lucy Westenra', 'Flash Gordon',\n       'Amanda Krueger', 'Victor Frankenstein', 'Lestat de Lioncourt',\n       'Ann Darrow', 'Harry Lime', 'Captain Haddock', 'Princess Jasmine',\n       'Barbara Gordon', 'Antoine Doinel', 'Camryn Barnes',\n       'Shamsher Singh', 'Billy the Kid', 'Uncle Jack', 'Joe Taylor',\n       'Quincey Morris', 'Mark Hoffman', 'Carlito Brigante',\n       'Hermione Granger', 'Mildred Rogers', 'Arjun Singh', 'Matt Hunter',\n       'Ram Kumar', 'Detective James Carter', 'Ardeth Bay',\n       'Mitch Robbins', 'Ernst Stavro Blofeld', 'Andy Hardy',\n       'Seema Malhotra', 'William Stryker', 'Terry Benedict',\n       'Heihachi Mishima', 'Anna Morgan', 'Annie Porter', 'Ward Abbott',\n       'Little John', 'Tanya Mousekewitz', 'Truman Capote',\n       'Tommy Jarvis', 'Pugsley Addams', 'Chief Inspector Lee',\n       'Ned Morton', 'Gilbert Blythe', 'Chuck Sherman', 'Mrs. Potts',\n       'The Kid', 'Pooja Saxena', 'Abraham Lincoln', 'Nobita Nobi',\n       'Karan Singh', 'Shere Khan', 'Tom Sawyer', 'Wilma Flintstone',\n       'Sarah Baker', 'Cadet Carey Mahoney', 'Minnie Mouse',\n       'Ellie Sattler', 'Cutler Beckett', 'Dr. Samantha Hill',\n       'Jill Tuck-Kramer', 'Charlie Bucket', 'Peter Parkette',\n       'Anna Karenina', 'Lawrence Stewart Talbot', 'Dorothy Carlsson',\n       'John F. Kennedy', 'Tasmanian Devil', 'Lisbeth Salander',\n       'Bill Sikes', 'Regan MacNeil', 'Jonathan Carnahan',\n       \"Stifler's Mom\", 'Miss Finster', 'Lex Luthor', 'Karsh WarBurton',\n       'Allan Quatermain', 'Nelson Potter', 'Edward Rochester',\n       'Rahul Sharma', 'Freddy Krueger', 'Kristen Parker', 'Dorian Gray',\n       'Oliver \"Daddy\" Warbucks', 'Velma Dinkley', 'Maid Marian',\n       'Cameron Mitchell', 'Alvin Seville', 'Raj Malhotra',\n       'Carol Anne Freeling', 'Mr. Murray', 'Harry Houdini',\n       'Connie Corleone', 'Anne Elliot', 'Silent Bob',\n       'Bellatrix Lestrange', 'Dr. Zaius', 'Miles Archer', 'Ace Ventura',\n       'Gabriel Van Helsing', 'The Wizard', 'Eddie Felson',\n       'The Collector', 'Roger Rabbit', 'Herbert West', 'Jack Powell',\n       'Lorna Cole', 'William Shakespeare', 'Childlike Empress',\n       'Davy Jones', 'Dan Cain', 'Mia Thermopolis', 'Pat Garrett',\n       'Clarice Starling', 'Betty Rubble', 'Jack Byrnes', 'Nicky Parsons',\n       'Ravi Varma', 'Sir Walter Elliot', 'Miranda Hobbes',\n       'George Milton', 'Sam Hall', 'Celia Gray', 'Barney Ross',\n       'Charlie B. Barkin', 'Kevin McCallister', 'Jack Crawford',\n       'Prince Hamlet', 'Daniel Cleaver', 'Albert Brooks', 'The Sheriff',\n       'Prince Eric', 'Barney Rubble', 'Prince Shamsher Singh',\n       'Richard the Lionheart', 'Cardinal Richelieu',\n       'Ted \"Theodore\" Logan', 'Dr. Anton Phibes', 'Frodo Baggins',\n       'Chris Hargensen', 'Jimmy Lee', 'Security Guard', 'Genji Takiya',\n       'Michael Jackson', 'Charlie Brown', 'Daffy Duck', 'Helen Benson',\n       'Jackie Robinson', 'Leo Getz', 'Philip Carey', 'Fox Mulder',\n       'Rosemary Woodhouse', 'Bharat Bhushan', 'Inspector Megure',\n       'Optimus Prime', 'Linus Larrabee', 'Big Daddy',\n       'Don Diego de la Vega', 'Prince Barin', 'Miss Bianca',\n       'Tommy Ross', 'Ray Bronson', 'Captain January', 'Joe Carraclough',\n       'Snow White', 'Gang Member', 'Luke Skywalker',\n       'Baron Frankenstein', 'Edgar Frog', 'Deepak Kumar',\n       'Margaret White', 'Julius Caesar', 'Dan Jordan', 'Mary Crawford',\n       'Hercule Poirot', 'Jim Hawkins', 'Wyatt Earp', 'Lightning McQueen',\n       'Samuel J. Loomis', 'Young Jake', 'Carl Kolchak', 'Lord Voldemort',\n       'Martin Beck', 'Ryce Newton', 'General Zod', 'Arthur Bach',\n       'Buzz Lightyear', 'Randal Graves', 'Donald Duck', 'Princess Ilene',\n       'Young Jack', 'Anakin Skywalker', 'Franz Liszt', 'Carrie White',\n       'Pontius Pilate', 'Billy Jack', 'Sean Brody', 'Megan Parker',\n       'Ursula Stanhope', 'Steve Stifler', 'The Chief', 'Nora Baker',\n       'Felix Unger', 'Kate Baker', 'Lt. Sean Topper Harley',\n       'Father Uffizi', 'Marty McFly', 'David Bowman', 'King Kong',\n       'John Hammond', \"Saraswati Chandra's father\", 'Brian Kelly',\n       'Taylor McKessie', 'Neil Patrick Harris', 'Ben Cooper',\n       'Rohit Kumar', 'Chad Danforth', 'Tommy Doyle', 'Mycroft Holmes',\n       'Inspector Clouseau', 'Greg Heffley', 'Princess Odette',\n       'Bugs Bunny', 'Vicky Malhotra', 'Julie Hastings', 'Witch Hazel',\n       'Snake Plissken', 'Pamela Landy', 'Itchy Itchiford',\n       'Eric Lassard', 'Davy Crockett', 'Uncle Arthur', 'The Oracle',\n       'Jane Spencer Drebin', 'Mikael Blomkvist', 'Sean Anderson',\n       'Daniel Larusso', 'Juan Rico', 'Adrian Pennino', 'Victor Prinzim',\n       'Rahul Malhotra', 'Bo Duke', 'Dr. John Dolittle', 'Michael Gold',\n       'ACP Jai Dixit', 'Lois Lane', 'Lucy Stark', 'Jean-Luc Picard',\n       'Capt. Thaddeus Harris', 'Gary Winston', 'Tom Chaney',\n       'Ravi Verma', 'Mrs. Santa', 'Judge Dredd', 'Dr. Laura Baker',\n       'Fairy Godmother', 'Dr. Henry Jekyll', 'Miss Prissy',\n       'Colonel Sam Trautman', 'Esther Blodgett', 'Wednesday Addams',\n       'Ben Carson', 'Mr. Evans', 'Jobe Smith', 'Frank Chambers',\n       'Princess Snow White', 'Irene Adler', 'Amy Sumner', 'Santa Claus',\n       'Frederic Chopin', 'Laura Black', 'Cliff Brumby', \"'Baby' Louise\",\n       'Wile E. Coyote', 'Captain Englehorn', 'Larry Wilson',\n       \"Nancy 'Sikes'\", 'Virgil Tibbs', 'Jason Taylor', 'Helen Sharp',\n       'Gale Weathers', 'The Creeper', 'Charlie Frost', 'Pat Chambers',\n       'Henry VIII of England', 'Aidan Keller', 'Jane Eyre',\n       'Lyle van de Groot', 'Cora Jean Simmons Brown',\n       'Jake \"the Muss\" Heke', 'George Logan', 'John Connor',\n       'Raj Oberoi', 'Marion Ravenwood', 'Old Man', 'Earl of Essex',\n       'Karan Oberoi', 'The Old Man', 'Flynn Carsen',\n       \"Eleanor 'Nell' Lance\", 'Clark Davis', 'Ms. Darbus',\n       'Captain Hook', 'Daphne Blake', 'Lara Croft', 'Monsieur Hulot',\n       'Frank Martin', 'Lloyd Christmas', 'Alfred Pennyworth',\n       'Mary Magdalene', 'Tweety Bird', 'Harry Palmer', 'Hal Jordan',\n       'Martin Luther', 'Ron Stoppable', 'Zack Martin', 'Peter Vincent',\n       'Holly Hills', 'Norman Bates', 'Randolph Carter', 'Isaac Chroner',\n       'Rowley Jefferson', 'Cyrano de Bergerac', 'Merlin Jones',\n       'Boba Fett', 'Lucy Pevensie', 'Jason Bourne', 'Hector Barbossa',\n       'Kyle Williams', 'Thantos DuBaer', 'Dana Barrett',\n       'Prince Humperdinck', 'Kathryn Merteuil', 'Dylan Piper',\n       'Sebastian Valmont', 'John Wayne Gacy', 'Jesse Huston',\n       'Rianne Murtaugh Butters', 'Robert Martin', 'Romeo Montague',\n       'Mollie Ubriacco', 'Scott Calvin', 'Jo March', 'Father Brennan',\n       'Captain Nascimento', 'Princess Ariel', 'Lena Kaligaris',\n       'Han Lue', 'Michael Myers', 'Mary Morstan', 'Nancy Thompson',\n       'President Baxter Harris', 'Becky Thatcher', 'Laxmi Devi',\n       'Christopher Robin', 'Marge Sherwood', 'Charlotte York',\n       'George Lytton', 'Jack Ryan', 'Catherine Tramell', 'Shane Gray',\n       'Charlie Chan', 'John Rambo', 'Alex West', 'The Doctor',\n       'Apollo Creed', 'Big Bad Wolf', 'Norman Maine', 'Gabriel Martin',\n       'Dave the Dude', 'Porky Pig', 'Garth Algar', 'Napoléon Bonaparte',\n       'Lisa Dolittle', 'Miss Marple', 'Evan Baxter', 'Axel Foley',\n       'Vito Corleone', 'Ellen Brody', \"Roy O'Bannon\", 'Tracy Turnblad',\n       'Holly Gennaro McClane', 'John Morgan', 'Doctor Watson',\n       'Ken Carson', 'Professor Severus Snape', 'Lamont Cranston',\n       'Mrs. Burns', 'Wayne Campbell', 'Ryan Evans', 'Sam Witwicky',\n       'Mr. Bean', 'Marnie Piper', 'Bryan Mills', 'Elwood Blues',\n       'Keith Jennings', 'Kumar Patel', 'Sara Anderson', 'Rubeus Hagrid',\n       'Leon Trotsky', 'Tony Stark', 'Babe Bennett', 'Mr. White',\n       'Aman Mehra', 'Max Rockatansky', 'Mikaela Banes', 'Ginny Weasley',\n       'Tom Ripley', 'Gabriella Montez', 'Robert Thorn', 'Chili Palmer',\n       'Cobra Bubbles', 'Joanna Eberhart', 'High Priest Imhotep',\n       'Bobby Ray', 'King Harold', 'Poison Ivy', 'Andy Warhol',\n       'Anne Frank', 'Ethan Dalloway', 'Aggie Cromwell', 'Jane Porter',\n       'Jessie Thekekuttu', 'Red Queen', 'Mr. Tumnus', 'Lucy van Pelt',\n       'Professor Albus Dumbledore', 'Lankester Merrin',\n       'Vada Margaret Sultenfuss', 'Danny Ocean', 'Conan the Barbarian',\n       'El Chivo', 'Reggie Hammond', 'Cornelius Hackl', 'Turanga Leela',\n       'Dwight Stifler', 'The Father', 'Alan Garner', 'Ben Parker',\n       'Dana Scully', 'Elizabeth Frankenstein', 'Anne Shirley',\n       'Sethurama Iyer', 'Dorothy Gale', 'Audrey Bennett',\n       'Mary Jane Watson', 'Gabbar Singh', 'Dr. Anand', 'Harold Hill',\n       'Inspector Oscar Piper', 'Nora Charles', 'Richie Rich',\n       'Doctor Doom', 'John Cutter', 'Kamal Khan', 'Nancy Fowler Archer',\n       'Jacob Black', 'Police Inspector', 'Ajay Kapoor', 'Freddy Lounds',\n       'Sher Khan', 'Sam Spade', 'Marvin the Martian', 'Robert Langdon',\n       'Paul Vitti', 'El Mariachi', 'Mr. Chow', 'Michael Sobel',\n       'Anastasia Tremaine', 'Harry Callahan', 'Jill McBain',\n       'Tony Wilson', 'Pooja Malhotra', 'Mike Hammer', 'Naruto Uzumaki',\n       'Jon Arbuckle', 'Joseph Fernandez', \"Dracula's Bride\",\n       'Gordon Bombay', 'Elektra Natchios', 'Frank Towns', 'Billy Nolan',\n       'Obi-Wan Kenobi', 'Vicomte Sébastien de Valmont', 'Emily Rose',\n       \"Frankenstein's monster\", 'Oliver Twist', 'Roy Earle',\n       'Queen Elizabeth I', 'Raj Singh', 'Betty Ross Banner',\n       'Sethu Madhavan', 'Mary McKay', 'Jason Voorhees',\n       'Sabrina Spellman', 'Chon Wang', 'Austin Powers', 'Jill Valentine',\n       'David Sumner', 'Armand Duval', 'Rocky Balboa', 'Amy Peterson',\n       'Charley Brewster', 'Mrs. Danvers', 'Ronnie Winslow',\n       'Douglas Quaid', 'Edward Cullen', 'Count Dracula', 'John Preston',\n       'Louis Tully', 'Lucius Fox', 'M. Bison', 'Nancy Drew',\n       'Ming the Merciless', 'Wilmer Cook', 'Dexter Riley',\n       'George Taylor', 'Juni Cortez', 'Rodrick Heffley',\n       'Valentin Dmitrovich Zukovsky', 'Katherine Thorn', 'Dr. Jennings',\n       'George Lutz', 'Blanche Hudson', 'Lawrence Gordon',\n       'Abraham Van Helsing', 'Grandpa Joe', 'Joe Pendleton', 'John Kane',\n       'Salim Mirza', 'Martin Riggs', 'Lilo Pelekai', 'White Rabbit',\n       'George McFly', 'Ralph Wolf', 'Joan Wilder', 'Angela Baker',\n       'Horatio Hornblower', 'King Louis XIV', 'Rahul Kapoor',\n       'Mrs. Singh', 'Jesse James', 'Vijay Kumar', 'Alice Johnson',\n       'Henry Roth', 'Felix Leiter', 'Carol Brady', 'Wayne Szalinski',\n       'Will Turner', 'Brad Majors', 'Captain America', 'The Predator',\n       'Sara Moore', 'Josh Nichols', 'Mr. Brownlow', 'The Colonel',\n       'Bobby Ewing', 'Savitri Devi', 'The Grinch', 'Son Goku',\n       'Abigail Chase', 'The Monster', 'Kasper Gutman',\n       'Dev Prakash Subramaniam', 'Bridget Jones', 'Philo Beddoe',\n       'Jonathan Harker', 'François Pignon', 'Jonah Hex', 'Mark Hunter',\n       'Christine Daaé', 'Charlie McGee', 'King Leonidas', 'Jesse Stone',\n       'King Arthur', 'Albert Wesker', 'Dr. Jonas Carson', 'Bella Swan',\n       'Carlos Olivera', 'The Woman', 'Nils Bjurman', 'Doc Holliday',\n       'John Reed', 'Peter Mitchell', 'Rizwan Khan',\n       'Deloris Van Cartier / Sister Mary Clarence', 'Walter Burns',\n       'Taj Mahal Badalandabad', 'Troy Bolton', 'Henry II of England',\n       'Michael Jennings', 'Laura Reynolds', 'Paul Finch',\n       'Michael Woods', 'Captain Nemo', 'Mark Darcy', 'John Smith',\n       'The Shadow', 'Prince Carlos', 'Don Giovanni', 'Uncle Joe',\n       'Estella Havisham', 'Woody Woodpecker', 'James T. Kirk',\n       'Juan Gallardo', 'Kiran Saxena', 'Elle Woods', 'Grand Duke',\n       'Crystal Allen', 'Commissioner Dreyfus', 'Yosemite Sam',\n       'Mother Superior', 'Linus Caldwell', 'Jerry Robinson',\n       'Ichigo Kurosaki', 'Michael Corleone', 'John Clark',\n       'Eliza Thornberry', 'Cruella de Vil', 'Otis B. Driftwood',\n       'Wonder Woman', 'Princess Fiona', 'Queen of Hearts', 'Elmer Fudd',\n       'Joe Miller', 'Huckleberry Finn', 'Dean Richmond', 'Big Momma',\n       'Alan Grant', 'Connor MacLeod', 'John Rolfe', 'Elizabeth Swann'],\n      dtype=object)"
     },
     "execution_count": 13,
     "metadata": {},
     "output_type": "execute_result"
    }
   ],
   "source": [
    "# get unique character names from name_metadata\n",
    "unique_character_names = name_metadata[\"character name\"].unique()\n",
    "unique_character_names"
   ]
  },
  {
   "cell_type": "code",
   "execution_count": 14,
   "outputs": [
    {
     "data": {
      "text/plain": "        Wikipedia movie ID Freebase movie ID Movie release date  \\\n386                5894429         /m/0fc8w8         2007-09-14   \n628                 196176         /m/01bwgr         1971-11-03   \n629                 196176         /m/01bwgr         1971-11-03   \n678                 748616         /m/03813g         2003-08-14   \n710               27463222        /m/0c037x9         2010-09-12   \n...                    ...               ...                ...   \n450168            24341999        /m/09p5mwg         2010-10-21   \n450201               43452          /m/0bx0l         1962-12-10   \n450523            11350779        /m/02r8kxp         1942-09-18   \n450524            11350779        /m/02r8kxp         1942-09-18   \n450597             2828945         /m/085bgh            1903-05   \n\n          Character name Actor date of birth Actor gender  \\\n386           Young Jack          1983-07-06            M   \n628           Amy Sumner          1950-07-26            F   \n629         David Sumner          1937-08-08            M   \n678             The Girl                 NaN            F   \n710       Security Guard                 NaN            M   \n...                  ...                 ...          ...   \n450168  Jill Tuck-Kramer          1963-09-06            F   \n450201    T. E. Lawrence          1932-08-02            M   \n450523     Doctor Watson          1895-02-04            M   \n450524   Sherlock Holmes          1892-06-13            M   \n450597      White Rabbit                1874            F   \n\n        Actor height (in meters) Actor ethnicity (Freebase ID)  \\\n386                        1.790                     /m/0g8_vp   \n628                        1.650                           NaN   \n629                        1.660                      /m/041rx   \n678                          NaN                           NaN   \n710                          NaN                           NaN   \n...                          ...                           ...   \n450168                     1.650                           NaN   \n450201                     1.910                     /m/02g7sp   \n450523                     1.829                           NaN   \n450524                     1.870                           NaN   \n450597                       NaN                           NaN   \n\n                    Actor name  Actor age at movie release  \\\n386              Gregory Smith                        24.0   \n628               Susan George                        21.0   \n629             Dustin Hoffman                        34.0   \n678                 Yeo-jin Ha                         NaN   \n710          Arthur Cartwright                         NaN   \n...                        ...                         ...   \n450168           Betsy Russell                        47.0   \n450201           Peter O'Toole                        30.0   \n450523             Nigel Bruce                         NaN   \n450524          Basil Rathbone                         NaN   \n450597  Margaret Hope McGuffie                         NaN   \n\n       Freebase character/actor map ID Freebase character ID Freebase actor ID  \n386                         /m/03jq87t            /m/0h58k54         /m/03_nv3  \n628                         /m/02vc216            /m/0ch92bz        /m/02ps7rq  \n629                          /m/0k3v65            /m/0ch916z          /m/0bl2g  \n678                         /m/0bvbj8n            /m/0bvbj70        /m/0bvbj6y  \n710                         /m/0gdjxvx            /m/0hgs772        /m/0gdjxt_  \n...                                ...                   ...               ...  \n450168                      /m/09tc32f            /m/076w6nk        /m/027xdvp  \n450201                       /m/0j_tdt            /m/02nw8h0          /m/0h0jz  \n450523                      /m/02tbfd7            /m/0cgry48         /m/02l99f  \n450524                      /m/02vd3qk              /m/06rkl          /m/0hwd8  \n450597                      /m/0ltrztx            /m/0ltrzt_        /m/0kyw2fb  \n\n[4300 rows x 13 columns]",
      "text/html": "<div>\n<style scoped>\n    .dataframe tbody tr th:only-of-type {\n        vertical-align: middle;\n    }\n\n    .dataframe tbody tr th {\n        vertical-align: top;\n    }\n\n    .dataframe thead th {\n        text-align: right;\n    }\n</style>\n<table border=\"1\" class=\"dataframe\">\n  <thead>\n    <tr style=\"text-align: right;\">\n      <th></th>\n      <th>Wikipedia movie ID</th>\n      <th>Freebase movie ID</th>\n      <th>Movie release date</th>\n      <th>Character name</th>\n      <th>Actor date of birth</th>\n      <th>Actor gender</th>\n      <th>Actor height (in meters)</th>\n      <th>Actor ethnicity (Freebase ID)</th>\n      <th>Actor name</th>\n      <th>Actor age at movie release</th>\n      <th>Freebase character/actor map ID</th>\n      <th>Freebase character ID</th>\n      <th>Freebase actor ID</th>\n    </tr>\n  </thead>\n  <tbody>\n    <tr>\n      <th>386</th>\n      <td>5894429</td>\n      <td>/m/0fc8w8</td>\n      <td>2007-09-14</td>\n      <td>Young Jack</td>\n      <td>1983-07-06</td>\n      <td>M</td>\n      <td>1.790</td>\n      <td>/m/0g8_vp</td>\n      <td>Gregory Smith</td>\n      <td>24.0</td>\n      <td>/m/03jq87t</td>\n      <td>/m/0h58k54</td>\n      <td>/m/03_nv3</td>\n    </tr>\n    <tr>\n      <th>628</th>\n      <td>196176</td>\n      <td>/m/01bwgr</td>\n      <td>1971-11-03</td>\n      <td>Amy Sumner</td>\n      <td>1950-07-26</td>\n      <td>F</td>\n      <td>1.650</td>\n      <td>NaN</td>\n      <td>Susan George</td>\n      <td>21.0</td>\n      <td>/m/02vc216</td>\n      <td>/m/0ch92bz</td>\n      <td>/m/02ps7rq</td>\n    </tr>\n    <tr>\n      <th>629</th>\n      <td>196176</td>\n      <td>/m/01bwgr</td>\n      <td>1971-11-03</td>\n      <td>David Sumner</td>\n      <td>1937-08-08</td>\n      <td>M</td>\n      <td>1.660</td>\n      <td>/m/041rx</td>\n      <td>Dustin Hoffman</td>\n      <td>34.0</td>\n      <td>/m/0k3v65</td>\n      <td>/m/0ch916z</td>\n      <td>/m/0bl2g</td>\n    </tr>\n    <tr>\n      <th>678</th>\n      <td>748616</td>\n      <td>/m/03813g</td>\n      <td>2003-08-14</td>\n      <td>The Girl</td>\n      <td>NaN</td>\n      <td>F</td>\n      <td>NaN</td>\n      <td>NaN</td>\n      <td>Yeo-jin Ha</td>\n      <td>NaN</td>\n      <td>/m/0bvbj8n</td>\n      <td>/m/0bvbj70</td>\n      <td>/m/0bvbj6y</td>\n    </tr>\n    <tr>\n      <th>710</th>\n      <td>27463222</td>\n      <td>/m/0c037x9</td>\n      <td>2010-09-12</td>\n      <td>Security Guard</td>\n      <td>NaN</td>\n      <td>M</td>\n      <td>NaN</td>\n      <td>NaN</td>\n      <td>Arthur Cartwright</td>\n      <td>NaN</td>\n      <td>/m/0gdjxvx</td>\n      <td>/m/0hgs772</td>\n      <td>/m/0gdjxt_</td>\n    </tr>\n    <tr>\n      <th>...</th>\n      <td>...</td>\n      <td>...</td>\n      <td>...</td>\n      <td>...</td>\n      <td>...</td>\n      <td>...</td>\n      <td>...</td>\n      <td>...</td>\n      <td>...</td>\n      <td>...</td>\n      <td>...</td>\n      <td>...</td>\n      <td>...</td>\n    </tr>\n    <tr>\n      <th>450168</th>\n      <td>24341999</td>\n      <td>/m/09p5mwg</td>\n      <td>2010-10-21</td>\n      <td>Jill Tuck-Kramer</td>\n      <td>1963-09-06</td>\n      <td>F</td>\n      <td>1.650</td>\n      <td>NaN</td>\n      <td>Betsy Russell</td>\n      <td>47.0</td>\n      <td>/m/09tc32f</td>\n      <td>/m/076w6nk</td>\n      <td>/m/027xdvp</td>\n    </tr>\n    <tr>\n      <th>450201</th>\n      <td>43452</td>\n      <td>/m/0bx0l</td>\n      <td>1962-12-10</td>\n      <td>T. E. Lawrence</td>\n      <td>1932-08-02</td>\n      <td>M</td>\n      <td>1.910</td>\n      <td>/m/02g7sp</td>\n      <td>Peter O'Toole</td>\n      <td>30.0</td>\n      <td>/m/0j_tdt</td>\n      <td>/m/02nw8h0</td>\n      <td>/m/0h0jz</td>\n    </tr>\n    <tr>\n      <th>450523</th>\n      <td>11350779</td>\n      <td>/m/02r8kxp</td>\n      <td>1942-09-18</td>\n      <td>Doctor Watson</td>\n      <td>1895-02-04</td>\n      <td>M</td>\n      <td>1.829</td>\n      <td>NaN</td>\n      <td>Nigel Bruce</td>\n      <td>NaN</td>\n      <td>/m/02tbfd7</td>\n      <td>/m/0cgry48</td>\n      <td>/m/02l99f</td>\n    </tr>\n    <tr>\n      <th>450524</th>\n      <td>11350779</td>\n      <td>/m/02r8kxp</td>\n      <td>1942-09-18</td>\n      <td>Sherlock Holmes</td>\n      <td>1892-06-13</td>\n      <td>M</td>\n      <td>1.870</td>\n      <td>NaN</td>\n      <td>Basil Rathbone</td>\n      <td>NaN</td>\n      <td>/m/02vd3qk</td>\n      <td>/m/06rkl</td>\n      <td>/m/0hwd8</td>\n    </tr>\n    <tr>\n      <th>450597</th>\n      <td>2828945</td>\n      <td>/m/085bgh</td>\n      <td>1903-05</td>\n      <td>White Rabbit</td>\n      <td>1874</td>\n      <td>F</td>\n      <td>NaN</td>\n      <td>NaN</td>\n      <td>Margaret Hope McGuffie</td>\n      <td>NaN</td>\n      <td>/m/0ltrztx</td>\n      <td>/m/0ltrzt_</td>\n      <td>/m/0kyw2fb</td>\n    </tr>\n  </tbody>\n</table>\n<p>4300 rows × 13 columns</p>\n</div>"
     },
     "execution_count": 14,
     "metadata": {},
     "output_type": "execute_result"
    }
   ],
   "source": [
    "# select from character_metadata the character names that appear in the character_count\n",
    "famous_character = character_metadata[character_metadata[\"Character name\"].isin(unique_character_names)]\n",
    "famous_character"
   ],
   "metadata": {
    "collapsed": false
   }
  },
  {
   "cell_type": "code",
   "execution_count": 15,
   "outputs": [
    {
     "data": {
      "text/plain": "     Character name  Movie box office revenue  Movie name\n3941     Joe Taylor                 2561820.0  Young Adam",
      "text/html": "<div>\n<style scoped>\n    .dataframe tbody tr th:only-of-type {\n        vertical-align: middle;\n    }\n\n    .dataframe tbody tr th {\n        vertical-align: top;\n    }\n\n    .dataframe thead th {\n        text-align: right;\n    }\n</style>\n<table border=\"1\" class=\"dataframe\">\n  <thead>\n    <tr style=\"text-align: right;\">\n      <th></th>\n      <th>Character name</th>\n      <th>Movie box office revenue</th>\n      <th>Movie name</th>\n    </tr>\n  </thead>\n  <tbody>\n    <tr>\n      <th>3941</th>\n      <td>Joe Taylor</td>\n      <td>2561820.0</td>\n      <td>Young Adam</td>\n    </tr>\n  </tbody>\n</table>\n</div>"
     },
     "execution_count": 15,
     "metadata": {},
     "output_type": "execute_result"
    }
   ],
   "source": [
    "#merge famous_character with movie_metadata\n",
    "famous_character_films = pd.merge(famous_character, movie_metadata, on=\"Wikipedia movie ID\")\n",
    "#keep interesting columns\n",
    "famous_character_films = famous_character_films[[\"Character name\", \"Movie box office revenue\", \"Movie name\",]]\n",
    "# delete lines where Movie box office revenue is NaN\n",
    "famous_character_films = famous_character_films.dropna(subset=[\"Movie box office revenue\"])\n",
    "#famous character films with \"Character name == 'Young Adam'\"\n",
    "famous_character_films[famous_character_films[\"Movie name\"] == \"Young Adam\"]"
   ],
   "metadata": {
    "collapsed": false
   }
  },
  {
   "cell_type": "code",
   "execution_count": 16,
   "outputs": [
    {
     "data": {
      "text/plain": "      Movie box office revenue  Character_Abigail Chase  \\\n1                   11148828.0                    False   \n2                   11148828.0                    False   \n3                    9524745.0                    False   \n6                  300218018.0                    False   \n7                  300218018.0                    False   \n...                        ...                      ...   \n4282                35387212.0                    False   \n4283                35387212.0                    False   \n4293               136100000.0                    False   \n4294               136100000.0                    False   \n4295               136100000.0                    False   \n\n      Character_Abraham Lincoln  Character_Abraham Van Helsing  \\\n1                         False                          False   \n2                         False                          False   \n3                         False                          False   \n6                         False                          False   \n7                         False                          False   \n...                         ...                            ...   \n4282                      False                          False   \n4283                      False                          False   \n4293                      False                          False   \n4294                      False                          False   \n4295                      False                          False   \n\n      Character_Ace Ventura  Character_Adolf Hitler  Character_Adrian Pennino  \\\n1                     False                   False                     False   \n2                     False                   False                     False   \n3                     False                   False                     False   \n6                     False                   False                     False   \n7                     False                   False                     False   \n...                     ...                     ...                       ...   \n4282                  False                   False                     False   \n4283                  False                   False                     False   \n4293                  False                   False                     False   \n4294                  False                   False                     False   \n4295                  False                   False                     False   \n\n      Character_Agent Augustus Eugene Gibbons  Character_Agent Smith  \\\n1                                       False                  False   \n2                                       False                  False   \n3                                       False                  False   \n6                                       False                  False   \n7                                       False                  False   \n...                                       ...                    ...   \n4282                                    False                  False   \n4283                                    False                  False   \n4293                                    False                  False   \n4294                                    False                  False   \n4295                                    False                  False   \n\n      Character_Aidan Keller  ...  Movie_XXX  \\\n1                      False  ...      False   \n2                      False  ...      False   \n3                      False  ...      False   \n6                      False  ...      False   \n7                      False  ...      False   \n...                      ...  ...        ...   \n4282                   False  ...      False   \n4283                   False  ...      False   \n4293                   False  ...      False   \n4294                   False  ...      False   \n4295                   False  ...      False   \n\n      Movie_XXX: State of the Union / XXX: The Next Level  Movie_Yogi Bear  \\\n1                                                 False              False   \n2                                                 False              False   \n3                                                 False              False   \n6                                                 False              False   \n7                                                 False              False   \n...                                                 ...                ...   \n4282                                              False              False   \n4283                                              False              False   \n4293                                              False              False   \n4294                                              False              False   \n4295                                              False              False   \n\n      Movie_Yossi & Jagger  Movie_Young Adam  Movie_Young Bess  \\\n1                    False             False             False   \n2                    False             False             False   \n3                    False             False             False   \n6                    False             False             False   \n7                    False             False             False   \n...                    ...               ...               ...   \n4282                 False             False             False   \n4283                 False             False             False   \n4293                 False             False             False   \n4294                 False             False             False   \n4295                 False             False             False   \n\n      Movie_Young Frankenstein  Movie_Young Sherlock Holmes  \\\n1                        False                        False   \n2                        False                        False   \n3                        False                        False   \n6                        False                        False   \n7                        False                        False   \n...                        ...                          ...   \n4282                     False                        False   \n4283                     False                        False   \n4293                     False                        False   \n4294                     False                        False   \n4295                     False                        False   \n\n      Movie_Zero Effect  Movie_Zoom  \n1                 False       False  \n2                 False       False  \n3                 False       False  \n6                 False       False  \n7                 False       False  \n...                 ...         ...  \n4282              False       False  \n4283              False       False  \n4293              False       False  \n4294              False       False  \n4295              False       False  \n\n[1885 rows x 1805 columns]",
      "text/html": "<div>\n<style scoped>\n    .dataframe tbody tr th:only-of-type {\n        vertical-align: middle;\n    }\n\n    .dataframe tbody tr th {\n        vertical-align: top;\n    }\n\n    .dataframe thead th {\n        text-align: right;\n    }\n</style>\n<table border=\"1\" class=\"dataframe\">\n  <thead>\n    <tr style=\"text-align: right;\">\n      <th></th>\n      <th>Movie box office revenue</th>\n      <th>Character_Abigail Chase</th>\n      <th>Character_Abraham Lincoln</th>\n      <th>Character_Abraham Van Helsing</th>\n      <th>Character_Ace Ventura</th>\n      <th>Character_Adolf Hitler</th>\n      <th>Character_Adrian Pennino</th>\n      <th>Character_Agent Augustus Eugene Gibbons</th>\n      <th>Character_Agent Smith</th>\n      <th>Character_Aidan Keller</th>\n      <th>...</th>\n      <th>Movie_XXX</th>\n      <th>Movie_XXX: State of the Union / XXX: The Next Level</th>\n      <th>Movie_Yogi Bear</th>\n      <th>Movie_Yossi &amp; Jagger</th>\n      <th>Movie_Young Adam</th>\n      <th>Movie_Young Bess</th>\n      <th>Movie_Young Frankenstein</th>\n      <th>Movie_Young Sherlock Holmes</th>\n      <th>Movie_Zero Effect</th>\n      <th>Movie_Zoom</th>\n    </tr>\n  </thead>\n  <tbody>\n    <tr>\n      <th>1</th>\n      <td>11148828.0</td>\n      <td>False</td>\n      <td>False</td>\n      <td>False</td>\n      <td>False</td>\n      <td>False</td>\n      <td>False</td>\n      <td>False</td>\n      <td>False</td>\n      <td>False</td>\n      <td>...</td>\n      <td>False</td>\n      <td>False</td>\n      <td>False</td>\n      <td>False</td>\n      <td>False</td>\n      <td>False</td>\n      <td>False</td>\n      <td>False</td>\n      <td>False</td>\n      <td>False</td>\n    </tr>\n    <tr>\n      <th>2</th>\n      <td>11148828.0</td>\n      <td>False</td>\n      <td>False</td>\n      <td>False</td>\n      <td>False</td>\n      <td>False</td>\n      <td>False</td>\n      <td>False</td>\n      <td>False</td>\n      <td>False</td>\n      <td>...</td>\n      <td>False</td>\n      <td>False</td>\n      <td>False</td>\n      <td>False</td>\n      <td>False</td>\n      <td>False</td>\n      <td>False</td>\n      <td>False</td>\n      <td>False</td>\n      <td>False</td>\n    </tr>\n    <tr>\n      <th>3</th>\n      <td>9524745.0</td>\n      <td>False</td>\n      <td>False</td>\n      <td>False</td>\n      <td>False</td>\n      <td>False</td>\n      <td>False</td>\n      <td>False</td>\n      <td>False</td>\n      <td>False</td>\n      <td>...</td>\n      <td>False</td>\n      <td>False</td>\n      <td>False</td>\n      <td>False</td>\n      <td>False</td>\n      <td>False</td>\n      <td>False</td>\n      <td>False</td>\n      <td>False</td>\n      <td>False</td>\n    </tr>\n    <tr>\n      <th>6</th>\n      <td>300218018.0</td>\n      <td>False</td>\n      <td>False</td>\n      <td>False</td>\n      <td>False</td>\n      <td>False</td>\n      <td>False</td>\n      <td>False</td>\n      <td>False</td>\n      <td>False</td>\n      <td>...</td>\n      <td>False</td>\n      <td>False</td>\n      <td>False</td>\n      <td>False</td>\n      <td>False</td>\n      <td>False</td>\n      <td>False</td>\n      <td>False</td>\n      <td>False</td>\n      <td>False</td>\n    </tr>\n    <tr>\n      <th>7</th>\n      <td>300218018.0</td>\n      <td>False</td>\n      <td>False</td>\n      <td>False</td>\n      <td>False</td>\n      <td>False</td>\n      <td>False</td>\n      <td>False</td>\n      <td>False</td>\n      <td>False</td>\n      <td>...</td>\n      <td>False</td>\n      <td>False</td>\n      <td>False</td>\n      <td>False</td>\n      <td>False</td>\n      <td>False</td>\n      <td>False</td>\n      <td>False</td>\n      <td>False</td>\n      <td>False</td>\n    </tr>\n    <tr>\n      <th>...</th>\n      <td>...</td>\n      <td>...</td>\n      <td>...</td>\n      <td>...</td>\n      <td>...</td>\n      <td>...</td>\n      <td>...</td>\n      <td>...</td>\n      <td>...</td>\n      <td>...</td>\n      <td>...</td>\n      <td>...</td>\n      <td>...</td>\n      <td>...</td>\n      <td>...</td>\n      <td>...</td>\n      <td>...</td>\n      <td>...</td>\n      <td>...</td>\n      <td>...</td>\n      <td>...</td>\n    </tr>\n    <tr>\n      <th>4282</th>\n      <td>35387212.0</td>\n      <td>False</td>\n      <td>False</td>\n      <td>False</td>\n      <td>False</td>\n      <td>False</td>\n      <td>False</td>\n      <td>False</td>\n      <td>False</td>\n      <td>False</td>\n      <td>...</td>\n      <td>False</td>\n      <td>False</td>\n      <td>False</td>\n      <td>False</td>\n      <td>False</td>\n      <td>False</td>\n      <td>False</td>\n      <td>False</td>\n      <td>False</td>\n      <td>False</td>\n    </tr>\n    <tr>\n      <th>4283</th>\n      <td>35387212.0</td>\n      <td>False</td>\n      <td>False</td>\n      <td>False</td>\n      <td>False</td>\n      <td>False</td>\n      <td>False</td>\n      <td>False</td>\n      <td>False</td>\n      <td>False</td>\n      <td>...</td>\n      <td>False</td>\n      <td>False</td>\n      <td>False</td>\n      <td>False</td>\n      <td>False</td>\n      <td>False</td>\n      <td>False</td>\n      <td>False</td>\n      <td>False</td>\n      <td>False</td>\n    </tr>\n    <tr>\n      <th>4293</th>\n      <td>136100000.0</td>\n      <td>False</td>\n      <td>False</td>\n      <td>False</td>\n      <td>False</td>\n      <td>False</td>\n      <td>False</td>\n      <td>False</td>\n      <td>False</td>\n      <td>False</td>\n      <td>...</td>\n      <td>False</td>\n      <td>False</td>\n      <td>False</td>\n      <td>False</td>\n      <td>False</td>\n      <td>False</td>\n      <td>False</td>\n      <td>False</td>\n      <td>False</td>\n      <td>False</td>\n    </tr>\n    <tr>\n      <th>4294</th>\n      <td>136100000.0</td>\n      <td>False</td>\n      <td>False</td>\n      <td>False</td>\n      <td>False</td>\n      <td>False</td>\n      <td>False</td>\n      <td>False</td>\n      <td>False</td>\n      <td>False</td>\n      <td>...</td>\n      <td>False</td>\n      <td>False</td>\n      <td>False</td>\n      <td>False</td>\n      <td>False</td>\n      <td>False</td>\n      <td>False</td>\n      <td>False</td>\n      <td>False</td>\n      <td>False</td>\n    </tr>\n    <tr>\n      <th>4295</th>\n      <td>136100000.0</td>\n      <td>False</td>\n      <td>False</td>\n      <td>False</td>\n      <td>False</td>\n      <td>False</td>\n      <td>False</td>\n      <td>False</td>\n      <td>False</td>\n      <td>False</td>\n      <td>...</td>\n      <td>False</td>\n      <td>False</td>\n      <td>False</td>\n      <td>False</td>\n      <td>False</td>\n      <td>False</td>\n      <td>False</td>\n      <td>False</td>\n      <td>False</td>\n      <td>False</td>\n    </tr>\n  </tbody>\n</table>\n<p>1885 rows × 1805 columns</p>\n</div>"
     },
     "execution_count": 16,
     "metadata": {},
     "output_type": "execute_result"
    }
   ],
   "source": [
    "#liner regression analysis of all charcter names on their impact on Movie box office revenue\n",
    "dummy_variables = pd.get_dummies(famous_character_films, columns=['Character name', 'Movie name'], prefix=['Character', 'Movie'])\n",
    "dummy_variables"
   ],
   "metadata": {
    "collapsed": false
   }
  },
  {
   "cell_type": "code",
   "execution_count": 20,
   "outputs": [
    {
     "data": {
      "text/plain": "        Character name  Movie box office revenue  \\\n1           Amy Sumner                11148828.0   \n2         David Sumner                11148828.0   \n3             The Girl                 9524745.0   \n6           Clark Kent               300218018.0   \n7           Lex Luthor               300218018.0   \n...                ...                       ...   \n4282        Harold Lee                35387212.0   \n4283       Santa Claus                35387212.0   \n4293   Lawrence Gordon               136100000.0   \n4294      Mark Hoffman               136100000.0   \n4295  Jill Tuck-Kramer               136100000.0   \n\n                                      Movie name  Movie box office revenue  \\\n1                                     Straw Dogs                  11148828   \n2                                     Straw Dogs                  11148828   \n3     Spring, Summer, Fall, Winter... and Spring                   9524745   \n6                                       Superman                 300218018   \n7                                       Superman                 300218018   \n...                                          ...                       ...   \n4282          A Very Harold & Kumar 3D Christmas                  35387212   \n4283          A Very Harold & Kumar 3D Christmas                  35387212   \n4293                                     Saw VII                 136100000   \n4294                                     Saw VII                 136100000   \n4295                                     Saw VII                 136100000   \n\n      Character_Abigail Chase  Character_Abraham Lincoln  \\\n1                           0                          0   \n2                           0                          0   \n3                           0                          0   \n6                           0                          0   \n7                           0                          0   \n...                       ...                        ...   \n4282                        0                          0   \n4283                        0                          0   \n4293                        0                          0   \n4294                        0                          0   \n4295                        0                          0   \n\n      Character_Abraham Van Helsing  Character_Ace Ventura  \\\n1                                 0                      0   \n2                                 0                      0   \n3                                 0                      0   \n6                                 0                      0   \n7                                 0                      0   \n...                             ...                    ...   \n4282                              0                      0   \n4283                              0                      0   \n4293                              0                      0   \n4294                              0                      0   \n4295                              0                      0   \n\n      Character_Adolf Hitler  Character_Adrian Pennino  ...  Movie_XXX  \\\n1                          0                         0  ...          0   \n2                          0                         0  ...          0   \n3                          0                         0  ...          0   \n6                          0                         0  ...          0   \n7                          0                         0  ...          0   \n...                      ...                       ...  ...        ...   \n4282                       0                         0  ...          0   \n4283                       0                         0  ...          0   \n4293                       0                         0  ...          0   \n4294                       0                         0  ...          0   \n4295                       0                         0  ...          0   \n\n      Movie_XXX: State of the Union / XXX: The Next Level  Movie_Yogi Bear  \\\n1                                                     0                  0   \n2                                                     0                  0   \n3                                                     0                  0   \n6                                                     0                  0   \n7                                                     0                  0   \n...                                                 ...                ...   \n4282                                                  0                  0   \n4283                                                  0                  0   \n4293                                                  0                  0   \n4294                                                  0                  0   \n4295                                                  0                  0   \n\n      Movie_Yossi & Jagger  Movie_Young Adam  Movie_Young Bess  \\\n1                        0                 0                 0   \n2                        0                 0                 0   \n3                        0                 0                 0   \n6                        0                 0                 0   \n7                        0                 0                 0   \n...                    ...               ...               ...   \n4282                     0                 0                 0   \n4283                     0                 0                 0   \n4293                     0                 0                 0   \n4294                     0                 0                 0   \n4295                     0                 0                 0   \n\n      Movie_Young Frankenstein  Movie_Young Sherlock Holmes  \\\n1                            0                            0   \n2                            0                            0   \n3                            0                            0   \n6                            0                            0   \n7                            0                            0   \n...                        ...                          ...   \n4282                         0                            0   \n4283                         0                            0   \n4293                         0                            0   \n4294                         0                            0   \n4295                         0                            0   \n\n      Movie_Zero Effect  Movie_Zoom  \n1                     0           0  \n2                     0           0  \n3                     0           0  \n6                     0           0  \n7                     0           0  \n...                 ...         ...  \n4282                  0           0  \n4283                  0           0  \n4293                  0           0  \n4294                  0           0  \n4295                  0           0  \n\n[1885 rows x 1808 columns]",
      "text/html": "<div>\n<style scoped>\n    .dataframe tbody tr th:only-of-type {\n        vertical-align: middle;\n    }\n\n    .dataframe tbody tr th {\n        vertical-align: top;\n    }\n\n    .dataframe thead th {\n        text-align: right;\n    }\n</style>\n<table border=\"1\" class=\"dataframe\">\n  <thead>\n    <tr style=\"text-align: right;\">\n      <th></th>\n      <th>Character name</th>\n      <th>Movie box office revenue</th>\n      <th>Movie name</th>\n      <th>Movie box office revenue</th>\n      <th>Character_Abigail Chase</th>\n      <th>Character_Abraham Lincoln</th>\n      <th>Character_Abraham Van Helsing</th>\n      <th>Character_Ace Ventura</th>\n      <th>Character_Adolf Hitler</th>\n      <th>Character_Adrian Pennino</th>\n      <th>...</th>\n      <th>Movie_XXX</th>\n      <th>Movie_XXX: State of the Union / XXX: The Next Level</th>\n      <th>Movie_Yogi Bear</th>\n      <th>Movie_Yossi &amp; Jagger</th>\n      <th>Movie_Young Adam</th>\n      <th>Movie_Young Bess</th>\n      <th>Movie_Young Frankenstein</th>\n      <th>Movie_Young Sherlock Holmes</th>\n      <th>Movie_Zero Effect</th>\n      <th>Movie_Zoom</th>\n    </tr>\n  </thead>\n  <tbody>\n    <tr>\n      <th>1</th>\n      <td>Amy Sumner</td>\n      <td>11148828.0</td>\n      <td>Straw Dogs</td>\n      <td>11148828</td>\n      <td>0</td>\n      <td>0</td>\n      <td>0</td>\n      <td>0</td>\n      <td>0</td>\n      <td>0</td>\n      <td>...</td>\n      <td>0</td>\n      <td>0</td>\n      <td>0</td>\n      <td>0</td>\n      <td>0</td>\n      <td>0</td>\n      <td>0</td>\n      <td>0</td>\n      <td>0</td>\n      <td>0</td>\n    </tr>\n    <tr>\n      <th>2</th>\n      <td>David Sumner</td>\n      <td>11148828.0</td>\n      <td>Straw Dogs</td>\n      <td>11148828</td>\n      <td>0</td>\n      <td>0</td>\n      <td>0</td>\n      <td>0</td>\n      <td>0</td>\n      <td>0</td>\n      <td>...</td>\n      <td>0</td>\n      <td>0</td>\n      <td>0</td>\n      <td>0</td>\n      <td>0</td>\n      <td>0</td>\n      <td>0</td>\n      <td>0</td>\n      <td>0</td>\n      <td>0</td>\n    </tr>\n    <tr>\n      <th>3</th>\n      <td>The Girl</td>\n      <td>9524745.0</td>\n      <td>Spring, Summer, Fall, Winter... and Spring</td>\n      <td>9524745</td>\n      <td>0</td>\n      <td>0</td>\n      <td>0</td>\n      <td>0</td>\n      <td>0</td>\n      <td>0</td>\n      <td>...</td>\n      <td>0</td>\n      <td>0</td>\n      <td>0</td>\n      <td>0</td>\n      <td>0</td>\n      <td>0</td>\n      <td>0</td>\n      <td>0</td>\n      <td>0</td>\n      <td>0</td>\n    </tr>\n    <tr>\n      <th>6</th>\n      <td>Clark Kent</td>\n      <td>300218018.0</td>\n      <td>Superman</td>\n      <td>300218018</td>\n      <td>0</td>\n      <td>0</td>\n      <td>0</td>\n      <td>0</td>\n      <td>0</td>\n      <td>0</td>\n      <td>...</td>\n      <td>0</td>\n      <td>0</td>\n      <td>0</td>\n      <td>0</td>\n      <td>0</td>\n      <td>0</td>\n      <td>0</td>\n      <td>0</td>\n      <td>0</td>\n      <td>0</td>\n    </tr>\n    <tr>\n      <th>7</th>\n      <td>Lex Luthor</td>\n      <td>300218018.0</td>\n      <td>Superman</td>\n      <td>300218018</td>\n      <td>0</td>\n      <td>0</td>\n      <td>0</td>\n      <td>0</td>\n      <td>0</td>\n      <td>0</td>\n      <td>...</td>\n      <td>0</td>\n      <td>0</td>\n      <td>0</td>\n      <td>0</td>\n      <td>0</td>\n      <td>0</td>\n      <td>0</td>\n      <td>0</td>\n      <td>0</td>\n      <td>0</td>\n    </tr>\n    <tr>\n      <th>...</th>\n      <td>...</td>\n      <td>...</td>\n      <td>...</td>\n      <td>...</td>\n      <td>...</td>\n      <td>...</td>\n      <td>...</td>\n      <td>...</td>\n      <td>...</td>\n      <td>...</td>\n      <td>...</td>\n      <td>...</td>\n      <td>...</td>\n      <td>...</td>\n      <td>...</td>\n      <td>...</td>\n      <td>...</td>\n      <td>...</td>\n      <td>...</td>\n      <td>...</td>\n      <td>...</td>\n    </tr>\n    <tr>\n      <th>4282</th>\n      <td>Harold Lee</td>\n      <td>35387212.0</td>\n      <td>A Very Harold &amp; Kumar 3D Christmas</td>\n      <td>35387212</td>\n      <td>0</td>\n      <td>0</td>\n      <td>0</td>\n      <td>0</td>\n      <td>0</td>\n      <td>0</td>\n      <td>...</td>\n      <td>0</td>\n      <td>0</td>\n      <td>0</td>\n      <td>0</td>\n      <td>0</td>\n      <td>0</td>\n      <td>0</td>\n      <td>0</td>\n      <td>0</td>\n      <td>0</td>\n    </tr>\n    <tr>\n      <th>4283</th>\n      <td>Santa Claus</td>\n      <td>35387212.0</td>\n      <td>A Very Harold &amp; Kumar 3D Christmas</td>\n      <td>35387212</td>\n      <td>0</td>\n      <td>0</td>\n      <td>0</td>\n      <td>0</td>\n      <td>0</td>\n      <td>0</td>\n      <td>...</td>\n      <td>0</td>\n      <td>0</td>\n      <td>0</td>\n      <td>0</td>\n      <td>0</td>\n      <td>0</td>\n      <td>0</td>\n      <td>0</td>\n      <td>0</td>\n      <td>0</td>\n    </tr>\n    <tr>\n      <th>4293</th>\n      <td>Lawrence Gordon</td>\n      <td>136100000.0</td>\n      <td>Saw VII</td>\n      <td>136100000</td>\n      <td>0</td>\n      <td>0</td>\n      <td>0</td>\n      <td>0</td>\n      <td>0</td>\n      <td>0</td>\n      <td>...</td>\n      <td>0</td>\n      <td>0</td>\n      <td>0</td>\n      <td>0</td>\n      <td>0</td>\n      <td>0</td>\n      <td>0</td>\n      <td>0</td>\n      <td>0</td>\n      <td>0</td>\n    </tr>\n    <tr>\n      <th>4294</th>\n      <td>Mark Hoffman</td>\n      <td>136100000.0</td>\n      <td>Saw VII</td>\n      <td>136100000</td>\n      <td>0</td>\n      <td>0</td>\n      <td>0</td>\n      <td>0</td>\n      <td>0</td>\n      <td>0</td>\n      <td>...</td>\n      <td>0</td>\n      <td>0</td>\n      <td>0</td>\n      <td>0</td>\n      <td>0</td>\n      <td>0</td>\n      <td>0</td>\n      <td>0</td>\n      <td>0</td>\n      <td>0</td>\n    </tr>\n    <tr>\n      <th>4295</th>\n      <td>Jill Tuck-Kramer</td>\n      <td>136100000.0</td>\n      <td>Saw VII</td>\n      <td>136100000</td>\n      <td>0</td>\n      <td>0</td>\n      <td>0</td>\n      <td>0</td>\n      <td>0</td>\n      <td>0</td>\n      <td>...</td>\n      <td>0</td>\n      <td>0</td>\n      <td>0</td>\n      <td>0</td>\n      <td>0</td>\n      <td>0</td>\n      <td>0</td>\n      <td>0</td>\n      <td>0</td>\n      <td>0</td>\n    </tr>\n  </tbody>\n</table>\n<p>1885 rows × 1808 columns</p>\n</div>"
     },
     "execution_count": 20,
     "metadata": {},
     "output_type": "execute_result"
    }
   ],
   "source": [
    "\n",
    "dummy_variables_numeric = dummy_variables.astype(int)\n",
    "\n",
    "# Concatenate the dummy variables with the original DataFrame\n",
    "characters_reg = pd.concat([famous_character_films, dummy_variables_numeric], axis=1)\n",
    "characters_reg"
   ],
   "metadata": {
    "collapsed": false
   }
  },
  {
   "cell_type": "code",
   "execution_count": 21,
   "outputs": [
    {
     "ename": "ValueError",
     "evalue": "shapes (1885,2) and (1885,2) not aligned: 2 (dim 1) != 1885 (dim 0)",
     "output_type": "error",
     "traceback": [
      "\u001B[1;31m---------------------------------------------------------------------------\u001B[0m",
      "\u001B[1;31mValueError\u001B[0m                                Traceback (most recent call last)",
      "Cell \u001B[1;32mIn[21], line 11\u001B[0m\n\u001B[0;32m      8\u001B[0m \u001B[38;5;66;03m# Fit the linear regression model\u001B[39;00m\n\u001B[0;32m      9\u001B[0m model \u001B[38;5;241m=\u001B[39m sm\u001B[38;5;241m.\u001B[39mOLS(y, X)\u001B[38;5;241m.\u001B[39mfit()\n\u001B[1;32m---> 11\u001B[0m \u001B[38;5;28mprint\u001B[39m(\u001B[43mmodel\u001B[49m\u001B[38;5;241;43m.\u001B[39;49m\u001B[43msummary\u001B[49m\u001B[43m(\u001B[49m\u001B[43m)\u001B[49m)\n",
      "File \u001B[1;32m~\\.conda\\envs\\ada\\lib\\site-packages\\statsmodels\\regression\\linear_model.py:2774\u001B[0m, in \u001B[0;36mRegressionResults.summary\u001B[1;34m(self, yname, xname, title, alpha, slim)\u001B[0m\n\u001B[0;32m   2770\u001B[0m     top_left\u001B[38;5;241m.\u001B[39mappend((\u001B[38;5;124m'\u001B[39m\u001B[38;5;124mCovariance Type:\u001B[39m\u001B[38;5;124m'\u001B[39m, [\u001B[38;5;28mself\u001B[39m\u001B[38;5;241m.\u001B[39mcov_type]))\n\u001B[0;32m   2772\u001B[0m rsquared_type \u001B[38;5;241m=\u001B[39m \u001B[38;5;124m'\u001B[39m\u001B[38;5;124m'\u001B[39m \u001B[38;5;28;01mif\u001B[39;00m \u001B[38;5;28mself\u001B[39m\u001B[38;5;241m.\u001B[39mk_constant \u001B[38;5;28;01melse\u001B[39;00m \u001B[38;5;124m'\u001B[39m\u001B[38;5;124m (uncentered)\u001B[39m\u001B[38;5;124m'\u001B[39m\n\u001B[0;32m   2773\u001B[0m top_right \u001B[38;5;241m=\u001B[39m [(\u001B[38;5;124m'\u001B[39m\u001B[38;5;124mR-squared\u001B[39m\u001B[38;5;124m'\u001B[39m \u001B[38;5;241m+\u001B[39m rsquared_type \u001B[38;5;241m+\u001B[39m \u001B[38;5;124m'\u001B[39m\u001B[38;5;124m:\u001B[39m\u001B[38;5;124m'\u001B[39m,\n\u001B[1;32m-> 2774\u001B[0m               [\u001B[38;5;124m\"\u001B[39m\u001B[38;5;132;01m%#8.3f\u001B[39;00m\u001B[38;5;124m\"\u001B[39m \u001B[38;5;241m%\u001B[39m \u001B[38;5;28;43mself\u001B[39;49m\u001B[38;5;241;43m.\u001B[39;49m\u001B[43mrsquared\u001B[49m]),\n\u001B[0;32m   2775\u001B[0m              (\u001B[38;5;124m'\u001B[39m\u001B[38;5;124mAdj. R-squared\u001B[39m\u001B[38;5;124m'\u001B[39m \u001B[38;5;241m+\u001B[39m rsquared_type \u001B[38;5;241m+\u001B[39m \u001B[38;5;124m'\u001B[39m\u001B[38;5;124m:\u001B[39m\u001B[38;5;124m'\u001B[39m,\n\u001B[0;32m   2776\u001B[0m               [\u001B[38;5;124m\"\u001B[39m\u001B[38;5;132;01m%#8.3f\u001B[39;00m\u001B[38;5;124m\"\u001B[39m \u001B[38;5;241m%\u001B[39m \u001B[38;5;28mself\u001B[39m\u001B[38;5;241m.\u001B[39mrsquared_adj]),\n\u001B[0;32m   2777\u001B[0m              (\u001B[38;5;124m'\u001B[39m\u001B[38;5;124mF-statistic:\u001B[39m\u001B[38;5;124m'\u001B[39m, [\u001B[38;5;124m\"\u001B[39m\u001B[38;5;132;01m%#8.4g\u001B[39;00m\u001B[38;5;124m\"\u001B[39m \u001B[38;5;241m%\u001B[39m \u001B[38;5;28mself\u001B[39m\u001B[38;5;241m.\u001B[39mfvalue]),\n\u001B[0;32m   2778\u001B[0m              (\u001B[38;5;124m'\u001B[39m\u001B[38;5;124mProb (F-statistic):\u001B[39m\u001B[38;5;124m'\u001B[39m, [\u001B[38;5;124m\"\u001B[39m\u001B[38;5;132;01m%#6.3g\u001B[39;00m\u001B[38;5;124m\"\u001B[39m \u001B[38;5;241m%\u001B[39m \u001B[38;5;28mself\u001B[39m\u001B[38;5;241m.\u001B[39mf_pvalue]),\n\u001B[0;32m   2779\u001B[0m              (\u001B[38;5;124m'\u001B[39m\u001B[38;5;124mLog-Likelihood:\u001B[39m\u001B[38;5;124m'\u001B[39m, \u001B[38;5;28;01mNone\u001B[39;00m),\n\u001B[0;32m   2780\u001B[0m              (\u001B[38;5;124m'\u001B[39m\u001B[38;5;124mAIC:\u001B[39m\u001B[38;5;124m'\u001B[39m, [\u001B[38;5;124m\"\u001B[39m\u001B[38;5;132;01m%#8.4g\u001B[39;00m\u001B[38;5;124m\"\u001B[39m \u001B[38;5;241m%\u001B[39m \u001B[38;5;28mself\u001B[39m\u001B[38;5;241m.\u001B[39maic]),\n\u001B[0;32m   2781\u001B[0m              (\u001B[38;5;124m'\u001B[39m\u001B[38;5;124mBIC:\u001B[39m\u001B[38;5;124m'\u001B[39m, [\u001B[38;5;124m\"\u001B[39m\u001B[38;5;132;01m%#8.4g\u001B[39;00m\u001B[38;5;124m\"\u001B[39m \u001B[38;5;241m%\u001B[39m \u001B[38;5;28mself\u001B[39m\u001B[38;5;241m.\u001B[39mbic])\n\u001B[0;32m   2782\u001B[0m              ]\n\u001B[0;32m   2784\u001B[0m \u001B[38;5;28;01mif\u001B[39;00m slim:\n\u001B[0;32m   2785\u001B[0m     slimlist \u001B[38;5;241m=\u001B[39m [\u001B[38;5;124m'\u001B[39m\u001B[38;5;124mDep. Variable:\u001B[39m\u001B[38;5;124m'\u001B[39m, \u001B[38;5;124m'\u001B[39m\u001B[38;5;124mModel:\u001B[39m\u001B[38;5;124m'\u001B[39m, \u001B[38;5;124m'\u001B[39m\u001B[38;5;124mNo. Observations:\u001B[39m\u001B[38;5;124m'\u001B[39m,\n\u001B[0;32m   2786\u001B[0m                 \u001B[38;5;124m'\u001B[39m\u001B[38;5;124mCovariance Type:\u001B[39m\u001B[38;5;124m'\u001B[39m, \u001B[38;5;124m'\u001B[39m\u001B[38;5;124mR-squared:\u001B[39m\u001B[38;5;124m'\u001B[39m, \u001B[38;5;124m'\u001B[39m\u001B[38;5;124mAdj. R-squared:\u001B[39m\u001B[38;5;124m'\u001B[39m,\n\u001B[0;32m   2787\u001B[0m                 \u001B[38;5;124m'\u001B[39m\u001B[38;5;124mF-statistic:\u001B[39m\u001B[38;5;124m'\u001B[39m, \u001B[38;5;124m'\u001B[39m\u001B[38;5;124mProb (F-statistic):\u001B[39m\u001B[38;5;124m'\u001B[39m]\n",
      "File \u001B[1;32m~\\.conda\\envs\\ada\\lib\\site-packages\\pandas\\_libs\\properties.pyx:36\u001B[0m, in \u001B[0;36mpandas._libs.properties.CachedProperty.__get__\u001B[1;34m()\u001B[0m\n",
      "File \u001B[1;32m~\\.conda\\envs\\ada\\lib\\site-packages\\statsmodels\\regression\\linear_model.py:1781\u001B[0m, in \u001B[0;36mRegressionResults.rsquared\u001B[1;34m(self)\u001B[0m\n\u001B[0;32m   1773\u001B[0m \u001B[38;5;250m\u001B[39m\u001B[38;5;124;03m\"\"\"\u001B[39;00m\n\u001B[0;32m   1774\u001B[0m \u001B[38;5;124;03mR-squared of the model.\u001B[39;00m\n\u001B[0;32m   1775\u001B[0m \n\u001B[1;32m   (...)\u001B[0m\n\u001B[0;32m   1778\u001B[0m \u001B[38;5;124;03momitted.\u001B[39;00m\n\u001B[0;32m   1779\u001B[0m \u001B[38;5;124;03m\"\"\"\u001B[39;00m\n\u001B[0;32m   1780\u001B[0m \u001B[38;5;28;01mif\u001B[39;00m \u001B[38;5;28mself\u001B[39m\u001B[38;5;241m.\u001B[39mk_constant:\n\u001B[1;32m-> 1781\u001B[0m     \u001B[38;5;28;01mreturn\u001B[39;00m \u001B[38;5;241m1\u001B[39m \u001B[38;5;241m-\u001B[39m \u001B[38;5;28;43mself\u001B[39;49m\u001B[38;5;241;43m.\u001B[39;49m\u001B[43mssr\u001B[49m\u001B[38;5;241m/\u001B[39m\u001B[38;5;28mself\u001B[39m\u001B[38;5;241m.\u001B[39mcentered_tss\n\u001B[0;32m   1782\u001B[0m \u001B[38;5;28;01melse\u001B[39;00m:\n\u001B[0;32m   1783\u001B[0m     \u001B[38;5;28;01mreturn\u001B[39;00m \u001B[38;5;241m1\u001B[39m \u001B[38;5;241m-\u001B[39m \u001B[38;5;28mself\u001B[39m\u001B[38;5;241m.\u001B[39mssr\u001B[38;5;241m/\u001B[39m\u001B[38;5;28mself\u001B[39m\u001B[38;5;241m.\u001B[39muncentered_tss\n",
      "File \u001B[1;32m~\\.conda\\envs\\ada\\lib\\site-packages\\pandas\\_libs\\properties.pyx:36\u001B[0m, in \u001B[0;36mpandas._libs.properties.CachedProperty.__get__\u001B[1;34m()\u001B[0m\n",
      "File \u001B[1;32m~\\.conda\\envs\\ada\\lib\\site-packages\\statsmodels\\regression\\linear_model.py:1722\u001B[0m, in \u001B[0;36mRegressionResults.ssr\u001B[1;34m(self)\u001B[0m\n\u001B[0;32m   1720\u001B[0m \u001B[38;5;250m\u001B[39m\u001B[38;5;124;03m\"\"\"Sum of squared (whitened) residuals.\"\"\"\u001B[39;00m\n\u001B[0;32m   1721\u001B[0m wresid \u001B[38;5;241m=\u001B[39m \u001B[38;5;28mself\u001B[39m\u001B[38;5;241m.\u001B[39mwresid\n\u001B[1;32m-> 1722\u001B[0m \u001B[38;5;28;01mreturn\u001B[39;00m \u001B[43mnp\u001B[49m\u001B[38;5;241;43m.\u001B[39;49m\u001B[43mdot\u001B[49m\u001B[43m(\u001B[49m\u001B[43mwresid\u001B[49m\u001B[43m,\u001B[49m\u001B[43m \u001B[49m\u001B[43mwresid\u001B[49m\u001B[43m)\u001B[49m\n",
      "\u001B[1;31mValueError\u001B[0m: shapes (1885,2) and (1885,2) not aligned: 2 (dim 1) != 1885 (dim 0)"
     ]
    }
   ],
   "source": [
    "# Define the independent variables (X) and the dependent variable (y)\n",
    "X = characters_reg[dummy_variables.columns]\n",
    "y = characters_reg['Movie box office revenue']\n",
    "\n",
    "\n",
    "# Add a constant to the independent variables (required for the regression model)\n",
    "X = sm.add_constant(X)\n",
    "\n",
    "# Fit the linear regression model\n",
    "model = sm.OLS(y, X).fit()\n",
    "\n",
    "print(model.summary())"
   ],
   "metadata": {
    "collapsed": false
   }
  },
  {
   "cell_type": "code",
   "execution_count": null,
   "outputs": [],
   "source": [
    "# Step 3: Choosing a Regression Model\n",
    "# Linear Regression with Scikit-Learn\n",
    "from sklearn.model_selection import train_test_split\n",
    "from sklearn.linear_model import LinearRegression\n",
    "from sklearn.metrics import mean_squared_error\n",
    "\n",
    "# Select Features and Target\n",
    "X = df_encoded.drop('BoxOfficeRevenue', axis=1)  # Features\n",
    "y = df_encoded['BoxOfficeRevenue']  # Target\n",
    "\n",
    "# Step 4: Split Data into Training and Testing Sets\n",
    "X_train, X_test, y_train, y_test = train_test_split(X, y, test_size=0.2, random_state=42)\n",
    "\n",
    "# Step 5: Linear Regression with Scikit-Learn\n",
    "model = LinearRegression()\n",
    "model.fit(X_train, y_train)\n",
    "\n",
    "# Step 6: Evaluate the Model\n",
    "predictions = model.predict(X_test)\n",
    "mse = mean_squared_error(y_test, predictions)\n",
    "print(f'Mean Squared Error: {mse}')\n",
    "\n",
    "# Optionally, you can print the coefficients\n",
    "print('Coefficients:', model.coef_)"
   ],
   "metadata": {
    "collapsed": false
   }
  },
  {
   "cell_type": "code",
   "execution_count": null,
   "outputs": [],
   "source": [
    "# Extract coefficients and corresponding character names\n",
    "coefficients = model.params[1:]  # Exclude the intercept\n",
    "character_names = coefficients.index\n",
    "\n",
    "# Create a DataFrame to store coefficients and character names\n",
    "coefficients_df = pd.DataFrame({'Character': character_names, 'Coefficient': coefficients})\n",
    "\n",
    "# Sort the DataFrame by coefficient values in descending order\n",
    "coefficients_df = coefficients_df.sort_values(by='Coefficient', ascending=False)\n",
    "\n",
    "# Select the top 10 characters\n",
    "top_10_characters = coefficients_df.head(20)\n",
    "\n",
    "# Print or visualize the top 10 characters and their coefficients\n",
    "print(top_10_characters)\n"
   ],
   "metadata": {
    "collapsed": false
   }
  },
  {
   "cell_type": "code",
   "execution_count": null,
   "outputs": [],
   "source": [
    "# compute average box office revenue per character\n",
    "average_box_office_revenue_per_character = famous_character_films.groupby(\"Character name\")[\"Movie box office revenue\"].mean()\n",
    "average_box_office_revenue_per_character"
   ],
   "metadata": {
    "collapsed": false
   }
  },
  {
   "cell_type": "code",
   "execution_count": null,
   "outputs": [],
   "source": [],
   "metadata": {
    "collapsed": false
   }
  },
  {
   "cell_type": "code",
   "execution_count": null,
   "outputs": [],
   "source": [
    "import pandas as pd\n",
    "\n",
    "# Assuming 'Languages' is the column containing lists of languages for each film\n",
    "data = {'Film': ['film1', 'film2', 'film3'],\n",
    "        'Languages': [['English', 'French'], ['English'], ['German']]}\n",
    "\n",
    "df = pd.DataFrame(data)\n",
    "\n",
    "# Step 1: Get the unique set of languages\n",
    "unique_languages = set(language for languages in df['Languages'] for language in languages)\n",
    "\n",
    "# Step 2: Create binary columns for each language\n",
    "for language in unique_languages:\n",
    "    df[language] = df['Languages'].apply(lambda x: language in x)\n",
    "\n",
    "# Step 3: Drop the original 'Languages' column\n",
    "df = df.drop('Languages', axis=1)\n",
    "\n",
    "# Resulting DataFrame\n",
    "df\n"
   ],
   "metadata": {
    "collapsed": false
   }
  }
 ],
 "metadata": {
  "kernelspec": {
   "name": "conda-env-.conda-ada-py",
   "language": "python",
   "display_name": "Python [conda env:.conda-ada] *"
  },
  "language_info": {
   "codemirror_mode": {
    "name": "ipython",
    "version": 3
   },
   "file_extension": ".py",
   "mimetype": "text/x-python",
   "name": "python",
   "nbconvert_exporter": "python",
   "pygments_lexer": "ipython3",
   "version": "3.11.5"
  }
 },
 "nbformat": 4,
 "nbformat_minor": 2
}
